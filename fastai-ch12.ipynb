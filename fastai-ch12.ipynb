{
 "cells": [
  {
   "cell_type": "code",
   "execution_count": 1,
   "id": "2223a6ab-6b07-41d6-b7da-704f967fb962",
   "metadata": {},
   "outputs": [],
   "source": [
    "import fastai\n",
    "from fastai.text.all import *\n",
    "from pathlib import Path"
   ]
  },
  {
   "cell_type": "code",
   "execution_count": 2,
   "id": "f5468653-56f0-4c58-a865-890683f7c587",
   "metadata": {},
   "outputs": [
    {
     "data": {
      "text/plain": [
       "(#2) [Path('/home/.fastai/data/human_numbers/valid.txt'),Path('/home/.fastai/data/human_numbers/train.txt')]"
      ]
     },
     "execution_count": 2,
     "metadata": {},
     "output_type": "execute_result"
    }
   ],
   "source": [
    "path = untar_data(URLs.HUMAN_NUMBERS)\n",
    "\n",
    "path.ls()"
   ]
  },
  {
   "cell_type": "code",
   "execution_count": 3,
   "id": "7470e4f6-7ca0-40db-a438-e03918ad8347",
   "metadata": {},
   "outputs": [
    {
     "data": {
      "text/plain": [
       "(#9998) ['one \\n','two \\n','three \\n','four \\n','five \\n','six \\n','seven \\n','eight \\n','nine \\n','ten \\n'...]"
      ]
     },
     "execution_count": 3,
     "metadata": {},
     "output_type": "execute_result"
    }
   ],
   "source": [
    "lines = L()\n",
    "with open(path/'train.txt') as f: lines += L(*f.readlines())\n",
    "with open(path/'valid.txt') as f: lines += L(*f.readlines())\n",
    "lines"
   ]
  },
  {
   "cell_type": "code",
   "execution_count": 4,
   "id": "db2e1062-d264-4b16-a116-04d6f482e681",
   "metadata": {},
   "outputs": [
    {
     "data": {
      "text/plain": [
       "9998"
      ]
     },
     "execution_count": 4,
     "metadata": {},
     "output_type": "execute_result"
    }
   ],
   "source": [
    "len(lines)"
   ]
  },
  {
   "cell_type": "code",
   "execution_count": 5,
   "id": "e44d5e48-7bf1-4f75-8b2a-6198117436e8",
   "metadata": {},
   "outputs": [
    {
     "data": {
      "text/plain": [
       "'one \\n'"
      ]
     },
     "execution_count": 5,
     "metadata": {},
     "output_type": "execute_result"
    }
   ],
   "source": [
    "lines[0]"
   ]
  },
  {
   "cell_type": "code",
   "execution_count": 6,
   "id": "463725c2-41e1-442c-87d0-f3eea6f7d664",
   "metadata": {},
   "outputs": [
    {
     "data": {
      "text/plain": [
       "'one . two . three . four . five . six . seven . eight . nine . ten . eleven . twelve . thirteen . fo'"
      ]
     },
     "execution_count": 6,
     "metadata": {},
     "output_type": "execute_result"
    }
   ],
   "source": [
    "text = ' . '.join([l.strip() for l in lines])\n",
    "text[:100]"
   ]
  },
  {
   "cell_type": "code",
   "execution_count": 7,
   "id": "1bb8e08a-81fe-443d-ab5f-78d07ce202a3",
   "metadata": {},
   "outputs": [
    {
     "data": {
      "text/plain": [
       "['one', '.', 'two', '.', 'three', '.', 'four', '.', 'five', '.']"
      ]
     },
     "execution_count": 7,
     "metadata": {},
     "output_type": "execute_result"
    }
   ],
   "source": [
    "## tokenize\n",
    "tokens = text.split(' ')\n",
    "tokens[:10]"
   ]
  },
  {
   "cell_type": "code",
   "execution_count": 8,
   "id": "694bfa6e-1a83-45ca-9af6-d5cfe9f27f9f",
   "metadata": {},
   "outputs": [
    {
     "data": {
      "text/plain": [
       "(#30) ['one','.','two','three','four','five','six','seven','eight','nine'...]"
      ]
     },
     "execution_count": 8,
     "metadata": {},
     "output_type": "execute_result"
    }
   ],
   "source": [
    "vocab = L(*tokens).unique()\n",
    "vocab"
   ]
  },
  {
   "cell_type": "code",
   "execution_count": 9,
   "id": "9bb9506b-e95a-4cf5-89cc-e462c56d3a99",
   "metadata": {},
   "outputs": [
    {
     "data": {
      "text/plain": [
       "{'one': 0,\n",
       " '.': 1,\n",
       " 'two': 2,\n",
       " 'three': 3,\n",
       " 'four': 4,\n",
       " 'five': 5,\n",
       " 'six': 6,\n",
       " 'seven': 7,\n",
       " 'eight': 8,\n",
       " 'nine': 9,\n",
       " 'ten': 10,\n",
       " 'eleven': 11,\n",
       " 'twelve': 12,\n",
       " 'thirteen': 13,\n",
       " 'fourteen': 14,\n",
       " 'fifteen': 15,\n",
       " 'sixteen': 16,\n",
       " 'seventeen': 17,\n",
       " 'eighteen': 18,\n",
       " 'nineteen': 19,\n",
       " 'twenty': 20,\n",
       " 'thirty': 21,\n",
       " 'forty': 22,\n",
       " 'fifty': 23,\n",
       " 'sixty': 24,\n",
       " 'seventy': 25,\n",
       " 'eighty': 26,\n",
       " 'ninety': 27,\n",
       " 'hundred': 28,\n",
       " 'thousand': 29}"
      ]
     },
     "execution_count": 9,
     "metadata": {},
     "output_type": "execute_result"
    }
   ],
   "source": [
    "word2idx = {w:i for i,w in enumerate(vocab)}\n",
    "word2idx"
   ]
  },
  {
   "cell_type": "code",
   "execution_count": 10,
   "id": "806589e8-25cf-4dbf-9e15-db9420b93eac",
   "metadata": {},
   "outputs": [
    {
     "data": {
      "text/plain": [
       "(#63095) [0,1,2,1,3,1,4,1,5,1...]"
      ]
     },
     "execution_count": 10,
     "metadata": {},
     "output_type": "execute_result"
    }
   ],
   "source": [
    "nums = L(word2idx[i] for i in tokens)\n",
    "nums"
   ]
  },
  {
   "cell_type": "code",
   "execution_count": 11,
   "id": "e66315c6-ea16-40f4-a79b-b37777d9fee1",
   "metadata": {},
   "outputs": [
    {
     "data": {
      "text/plain": [
       "(#21031) [(['one', '.', 'two'], '.'),(['.', 'three', '.'], 'four'),(['four', '.', 'five'], '.'),(['.', 'six', '.'], 'seven'),(['seven', '.', 'eight'], '.'),(['.', 'nine', '.'], 'ten'),(['ten', '.', 'eleven'], '.'),(['.', 'twelve', '.'], 'thirteen'),(['thirteen', '.', 'fourteen'], '.'),(['.', 'fifteen', '.'], 'sixteen')...]"
      ]
     },
     "execution_count": 11,
     "metadata": {},
     "output_type": "execute_result"
    }
   ],
   "source": [
    "L((tokens[i:i+3], tokens[i+3]) for i in range(0, len(tokens)-4, 3))"
   ]
  },
  {
   "cell_type": "code",
   "execution_count": 12,
   "id": "3b0b3cd9-8ddf-4b1c-bd0d-82f0c234e132",
   "metadata": {},
   "outputs": [],
   "source": [
    "seqs = L((tensor(nums[i:i+3]), nums[i+3]) for i in range(0, len(nums)-4, 3))"
   ]
  },
  {
   "cell_type": "code",
   "execution_count": 13,
   "id": "2cb3b157-fb28-405e-8450-f7ff98c70d9d",
   "metadata": {},
   "outputs": [
    {
     "data": {
      "text/plain": [
       "(#21031) [(tensor([0, 1, 2]), 1),(tensor([1, 3, 1]), 4),(tensor([4, 1, 5]), 1),(tensor([1, 6, 1]), 7),(tensor([7, 1, 8]), 1),(tensor([1, 9, 1]), 10),(tensor([10,  1, 11]), 1),(tensor([ 1, 12,  1]), 13),(tensor([13,  1, 14]), 1),(tensor([ 1, 15,  1]), 16)...]"
      ]
     },
     "execution_count": 13,
     "metadata": {},
     "output_type": "execute_result"
    }
   ],
   "source": [
    "seqs"
   ]
  },
  {
   "cell_type": "code",
   "execution_count": 14,
   "id": "9483234d-7ea8-469f-af68-a0815f3a3607",
   "metadata": {},
   "outputs": [],
   "source": [
    "bs = 64\n",
    "cut = int(len(seqs) * 0.8)\n",
    "dls = DataLoaders.from_dsets(seqs[:cut], seqs[cut:], bs = 64, shuffle = False)"
   ]
  },
  {
   "cell_type": "code",
   "execution_count": 15,
   "id": "ca7d6c78-b9d5-4bf6-93cd-3996017524fd",
   "metadata": {},
   "outputs": [],
   "source": [
    "## Language model in pytorch"
   ]
  },
  {
   "cell_type": "code",
   "execution_count": 16,
   "id": "ca5a78b3-c57d-4964-886a-f394c7ae9056",
   "metadata": {},
   "outputs": [],
   "source": [
    "class LMModel1(Module):\n",
    "    def __init__(self, vocab_sz, n_hidden):\n",
    "        self.i_h = nn.Embedding(vocab_sz, n_hidden)\n",
    "        self.h_h = nn.Linear(n_hidden, n_hidden)\n",
    "        self.h_o = nn.Linear(n_hidden, vocab_sz)\n",
    "        \n",
    "    def forward(self, x):\n",
    "        h = F.relu(self.h_h(self.i_h(x[:, 0])))\n",
    "        h = h + self.i_h(x[:, 1])\n",
    "        h = F.relu(self.h_h(h))\n",
    "        h = h + self.i_h(x[:, 2])\n",
    "        h = F.relu(self.h_h(h))\n",
    "        return self.h_o(h)"
   ]
  },
  {
   "cell_type": "code",
   "execution_count": 17,
   "id": "a529f5b4-e57e-4501-b082-bc5658227f93",
   "metadata": {},
   "outputs": [],
   "source": [
    "learn = Learner(dls, LMModel1(len(vocab), 64), loss_func = F.cross_entropy, metrics = [accuracy])"
   ]
  },
  {
   "cell_type": "code",
   "execution_count": 18,
   "id": "3daff790-bd79-45b9-b0be-f45a9085e6f7",
   "metadata": {},
   "outputs": [
    {
     "data": {
      "text/html": [
       "<table border=\"1\" class=\"dataframe\">\n",
       "  <thead>\n",
       "    <tr style=\"text-align: left;\">\n",
       "      <th>epoch</th>\n",
       "      <th>train_loss</th>\n",
       "      <th>valid_loss</th>\n",
       "      <th>accuracy</th>\n",
       "      <th>time</th>\n",
       "    </tr>\n",
       "  </thead>\n",
       "  <tbody>\n",
       "    <tr>\n",
       "      <td>0</td>\n",
       "      <td>2.063525</td>\n",
       "      <td>1.868073</td>\n",
       "      <td>0.460423</td>\n",
       "      <td>00:02</td>\n",
       "    </tr>\n",
       "    <tr>\n",
       "      <td>1</td>\n",
       "      <td>1.396311</td>\n",
       "      <td>1.741027</td>\n",
       "      <td>0.464464</td>\n",
       "      <td>00:02</td>\n",
       "    </tr>\n",
       "    <tr>\n",
       "      <td>2</td>\n",
       "      <td>1.395319</td>\n",
       "      <td>1.648368</td>\n",
       "      <td>0.477775</td>\n",
       "      <td>00:02</td>\n",
       "    </tr>\n",
       "    <tr>\n",
       "      <td>3</td>\n",
       "      <td>1.396222</td>\n",
       "      <td>1.619111</td>\n",
       "      <td>0.494176</td>\n",
       "      <td>00:02</td>\n",
       "    </tr>\n",
       "    <tr>\n",
       "      <td>4</td>\n",
       "      <td>1.369929</td>\n",
       "      <td>1.678609</td>\n",
       "      <td>0.426432</td>\n",
       "      <td>00:02</td>\n",
       "    </tr>\n",
       "  </tbody>\n",
       "</table>"
      ],
      "text/plain": [
       "<IPython.core.display.HTML object>"
      ]
     },
     "metadata": {},
     "output_type": "display_data"
    },
    {
     "name": "stdout",
     "output_type": "stream",
     "text": [
      "CPU times: user 49 s, sys: 1.19 s, total: 50.2 s\n",
      "Wall time: 13.8 s\n"
     ]
    }
   ],
   "source": [
    "%%time\n",
    "learn.fit_one_cycle(5, 1e-3)"
   ]
  },
  {
   "cell_type": "code",
   "execution_count": 19,
   "id": "32d4b4b3-d3b1-4af0-9108-5692e1f421f2",
   "metadata": {},
   "outputs": [],
   "source": [
    "n, counts = 0, torch.zeros(len(vocab))\n",
    "for x,y in dls.valid :\n",
    "    #print (y.shape)\n",
    "    n += y.shape[0]\n",
    "    for i in range_of(vocab):\n",
    "        counts[i] += (y == i).long().sum()"
   ]
  },
  {
   "cell_type": "code",
   "execution_count": 20,
   "id": "8888b7f5-997a-47e8-ad85-7ba579c5ab99",
   "metadata": {},
   "outputs": [
    {
     "data": {
      "text/plain": [
       "(tensor(106.), 30, 30)"
      ]
     },
     "execution_count": 20,
     "metadata": {},
     "output_type": "execute_result"
    }
   ],
   "source": [
    "counts[0], len(counts), len(vocab)"
   ]
  },
  {
   "cell_type": "code",
   "execution_count": 21,
   "id": "b523ac82-72ce-477c-9060-b6d955a3dc64",
   "metadata": {},
   "outputs": [
    {
     "data": {
      "text/plain": [
       "29"
      ]
     },
     "execution_count": 21,
     "metadata": {},
     "output_type": "execute_result"
    }
   ],
   "source": [
    "i"
   ]
  },
  {
   "cell_type": "code",
   "execution_count": 22,
   "id": "db76b963-d038-4b6a-94d2-a435e75c259e",
   "metadata": {},
   "outputs": [
    {
     "data": {
      "text/plain": [
       "tensor([25,  9, 28,  9, 28,  1,  9,  2, 29, 26,  9, 28,  1,  9,  5, 29, 26,  9,\n",
       "        28,  1,  9,  8, 29, 26,  9, 28,  9, 28,  1,  9,  2, 29, 27,  9, 28,  1,\n",
       "         9,  5, 29, 27,  9, 28,  1,  9,  8, 29, 27])"
      ]
     },
     "execution_count": 22,
     "metadata": {},
     "output_type": "execute_result"
    }
   ],
   "source": [
    "y"
   ]
  },
  {
   "cell_type": "code",
   "execution_count": 23,
   "id": "351ed825-b176-4ff8-b0ce-a5f79df7f1ce",
   "metadata": {},
   "outputs": [
    {
     "data": {
      "text/plain": [
       "tensor([False, False, False, False, False, False, False, False,  True, False,\n",
       "        False, False, False, False, False,  True, False, False, False, False,\n",
       "        False, False,  True, False, False, False, False, False, False, False,\n",
       "        False,  True, False, False, False, False, False, False,  True, False,\n",
       "        False, False, False, False, False,  True, False])"
      ]
     },
     "execution_count": 23,
     "metadata": {},
     "output_type": "execute_result"
    }
   ],
   "source": [
    "y == i"
   ]
  },
  {
   "cell_type": "code",
   "execution_count": 24,
   "id": "897ddd97-aec7-4fb0-a948-78b5ca3ec18e",
   "metadata": {},
   "outputs": [
    {
     "data": {
      "text/plain": [
       "tensor([0, 0, 0, 0, 0, 0, 0, 0, 1, 0, 0, 0, 0, 0, 0, 1, 0, 0, 0, 0, 0, 0, 1, 0,\n",
       "        0, 0, 0, 0, 0, 0, 0, 1, 0, 0, 0, 0, 0, 0, 1, 0, 0, 0, 0, 0, 0, 1, 0])"
      ]
     },
     "execution_count": 24,
     "metadata": {},
     "output_type": "execute_result"
    }
   ],
   "source": [
    "(y == i).long()"
   ]
  },
  {
   "cell_type": "code",
   "execution_count": 25,
   "id": "7cc4addf-685f-442b-9b39-a197713a44c3",
   "metadata": {},
   "outputs": [
    {
     "data": {
      "text/plain": [
       "tensor(6)"
      ]
     },
     "execution_count": 25,
     "metadata": {},
     "output_type": "execute_result"
    }
   ],
   "source": [
    "(y == i).long().sum()"
   ]
  },
  {
   "cell_type": "code",
   "execution_count": 26,
   "id": "e1dc9e83-5e02-4341-92dd-998ebc3b3e46",
   "metadata": {},
   "outputs": [
    {
     "data": {
      "text/plain": [
       "4207"
      ]
     },
     "execution_count": 26,
     "metadata": {},
     "output_type": "execute_result"
    }
   ],
   "source": [
    "n"
   ]
  },
  {
   "cell_type": "code",
   "execution_count": 27,
   "id": "1697cd8a-4fab-481c-9a05-62acf5d547be",
   "metadata": {},
   "outputs": [
    {
     "data": {
      "text/plain": [
       "tensor(29)"
      ]
     },
     "execution_count": 27,
     "metadata": {},
     "output_type": "execute_result"
    }
   ],
   "source": [
    "idx = torch.argmax(counts) ; idx"
   ]
  },
  {
   "cell_type": "code",
   "execution_count": 28,
   "id": "d2608474-0c8c-4a73-b24c-7ebbe1ffac50",
   "metadata": {},
   "outputs": [
    {
     "data": {
      "text/plain": [
       "29"
      ]
     },
     "execution_count": 28,
     "metadata": {},
     "output_type": "execute_result"
    }
   ],
   "source": [
    "idx.item()"
   ]
  },
  {
   "cell_type": "code",
   "execution_count": 29,
   "id": "55eec677-7bab-41a3-867a-fd41a54fa62f",
   "metadata": {},
   "outputs": [
    {
     "data": {
      "text/plain": [
       "'thousand'"
      ]
     },
     "execution_count": 29,
     "metadata": {},
     "output_type": "execute_result"
    }
   ],
   "source": [
    "vocab[idx.item()]"
   ]
  },
  {
   "cell_type": "code",
   "execution_count": 30,
   "id": "eb662bfe-81e5-4b22-b572-a098e60ea1b4",
   "metadata": {},
   "outputs": [
    {
     "data": {
      "text/plain": [
       "0.15165200855716662"
      ]
     },
     "execution_count": 30,
     "metadata": {},
     "output_type": "execute_result"
    }
   ],
   "source": [
    "counts[idx].item() / n"
   ]
  },
  {
   "cell_type": "code",
   "execution_count": 31,
   "id": "87a07a1f-9318-4302-8f65-32dfec0dcabe",
   "metadata": {},
   "outputs": [],
   "source": [
    "## random accuracy = 15%\n",
    "## our baseline model accuracy - 49%"
   ]
  },
  {
   "cell_type": "code",
   "execution_count": 32,
   "id": "9141c717-250b-4d04-be51-a3efa75b9e2e",
   "metadata": {},
   "outputs": [],
   "source": [
    "## our first rnn model"
   ]
  },
  {
   "cell_type": "code",
   "execution_count": 33,
   "id": "d0f2020f-4441-4610-8599-790d373d908e",
   "metadata": {},
   "outputs": [],
   "source": [
    "class LMModel2(Module):\n",
    "    def __init__(self, vocab_sz, n_hidden):\n",
    "        self.i_h = nn.Embedding(vocab_sz, n_hidden)\n",
    "        self.h_h = nn.Linear(n_hidden, n_hidden)\n",
    "        self.h_o = nn.Linear(n_hidden, vocab_sz)\n",
    "        \n",
    "    def forward(self, x):\n",
    "        h = 0\n",
    "        for i in range(3):\n",
    "            h = h + self.i_h(x[:, i])\n",
    "            h = F.relu(self.h_h(h))\n",
    "        return self.h_o(h)"
   ]
  },
  {
   "cell_type": "code",
   "execution_count": 34,
   "id": "bd2e28ef-86e9-4a5c-87fe-320481916113",
   "metadata": {},
   "outputs": [
    {
     "data": {
      "text/html": [
       "<table border=\"1\" class=\"dataframe\">\n",
       "  <thead>\n",
       "    <tr style=\"text-align: left;\">\n",
       "      <th>epoch</th>\n",
       "      <th>train_loss</th>\n",
       "      <th>valid_loss</th>\n",
       "      <th>accuracy</th>\n",
       "      <th>time</th>\n",
       "    </tr>\n",
       "  </thead>\n",
       "  <tbody>\n",
       "    <tr>\n",
       "      <td>0</td>\n",
       "      <td>1.793204</td>\n",
       "      <td>2.051027</td>\n",
       "      <td>0.438792</td>\n",
       "      <td>00:02</td>\n",
       "    </tr>\n",
       "    <tr>\n",
       "      <td>1</td>\n",
       "      <td>1.394189</td>\n",
       "      <td>1.808800</td>\n",
       "      <td>0.466366</td>\n",
       "      <td>00:02</td>\n",
       "    </tr>\n",
       "    <tr>\n",
       "      <td>2</td>\n",
       "      <td>1.427380</td>\n",
       "      <td>1.659169</td>\n",
       "      <td>0.489660</td>\n",
       "      <td>00:02</td>\n",
       "    </tr>\n",
       "    <tr>\n",
       "      <td>3</td>\n",
       "      <td>1.396514</td>\n",
       "      <td>1.707816</td>\n",
       "      <td>0.424531</td>\n",
       "      <td>00:02</td>\n",
       "    </tr>\n",
       "  </tbody>\n",
       "</table>"
      ],
      "text/plain": [
       "<IPython.core.display.HTML object>"
      ]
     },
     "metadata": {},
     "output_type": "display_data"
    }
   ],
   "source": [
    "learn = Learner(dls, LMModel2(len(vocab), 64), loss_func = F.cross_entropy,\n",
    "                metrics = [accuracy])\n",
    "\n",
    "learn.fit_one_cycle(4, 1e-3)"
   ]
  },
  {
   "cell_type": "code",
   "execution_count": 35,
   "id": "cdadae4d-588e-42fe-beeb-be3015e3170d",
   "metadata": {},
   "outputs": [],
   "source": [
    "## hidden state - the activations that are updated at each step of a rnn"
   ]
  },
  {
   "cell_type": "code",
   "execution_count": 36,
   "id": "cb1f2457-6858-402f-8a0b-d4ac91ac41f1",
   "metadata": {},
   "outputs": [],
   "source": [
    "## maintaning the state of an rnn"
   ]
  },
  {
   "cell_type": "code",
   "execution_count": 37,
   "id": "ac3963e7-0b13-418f-ab4e-b2588f681448",
   "metadata": {},
   "outputs": [],
   "source": [
    "## to remove the gradient history in pytorch, we use the detach method"
   ]
  },
  {
   "cell_type": "code",
   "execution_count": 38,
   "id": "d49ae025-132e-409b-bf4a-bd2e1346743a",
   "metadata": {},
   "outputs": [],
   "source": [
    "class LMModel3(Module):\n",
    "    def __init__(self, vocab_sz, n_hidden):\n",
    "        self.i_h = nn.Embedding(vocab_sz, n_hidden)\n",
    "        self.h_h = nn.Linear(n_hidden, n_hidden)\n",
    "        self.h_o = nn.Linear(n_hidden, n_hidden)\n",
    "        self.h = 0\n",
    "    def forward(self, x):\n",
    "        for i in range(3):\n",
    "            self.h = self.h + self.i_h(x[:, i])\n",
    "            self.h = F.relu(self.h_h(self.h))\n",
    "        out = self.h_o(self.h)\n",
    "        self.h = self.h.detach()\n",
    "        \n",
    "        return out\n",
    "    \n",
    "    def reset(self):\n",
    "        self.h = 0"
   ]
  },
  {
   "cell_type": "code",
   "execution_count": 39,
   "id": "d7671fac-a13d-48e1-b9f4-9153bde72523",
   "metadata": {},
   "outputs": [
    {
     "data": {
      "text/plain": [
       "21031"
      ]
     },
     "execution_count": 39,
     "metadata": {},
     "output_type": "execute_result"
    }
   ],
   "source": [
    "len(seqs)"
   ]
  },
  {
   "cell_type": "code",
   "execution_count": 40,
   "id": "ba796295-04d7-4713-b6d6-2ccca9fd7010",
   "metadata": {},
   "outputs": [
    {
     "data": {
      "text/plain": [
       "(tensor([0, 1, 2]), 1)"
      ]
     },
     "execution_count": 40,
     "metadata": {},
     "output_type": "execute_result"
    }
   ],
   "source": [
    "seqs[0]"
   ]
  },
  {
   "cell_type": "code",
   "execution_count": 41,
   "id": "95511e5e-bd92-420d-b877-9053f1ac5fbb",
   "metadata": {},
   "outputs": [
    {
     "data": {
      "text/plain": [
       "64"
      ]
     },
     "execution_count": 41,
     "metadata": {},
     "output_type": "execute_result"
    }
   ],
   "source": [
    "bs"
   ]
  },
  {
   "cell_type": "code",
   "execution_count": 42,
   "id": "be63a465-5e2c-488f-b176-f2c6408b0520",
   "metadata": {},
   "outputs": [
    {
     "data": {
      "text/plain": [
       "328.609375"
      ]
     },
     "execution_count": 42,
     "metadata": {},
     "output_type": "execute_result"
    }
   ],
   "source": [
    "len(seqs) / bs"
   ]
  },
  {
   "cell_type": "code",
   "execution_count": 43,
   "id": "68ac4a86-1c8c-4d57-a11a-9807283f9de5",
   "metadata": {},
   "outputs": [
    {
     "data": {
      "text/plain": [
       "328"
      ]
     },
     "execution_count": 43,
     "metadata": {},
     "output_type": "execute_result"
    }
   ],
   "source": [
    "len(seqs) // bs"
   ]
  },
  {
   "cell_type": "code",
   "execution_count": 44,
   "id": "0ea2af98-aada-4654-8e4c-8d93ab2c7414",
   "metadata": {},
   "outputs": [],
   "source": [
    "m = len(seqs) // bs"
   ]
  },
  {
   "cell_type": "code",
   "execution_count": 45,
   "id": "7579d320-4f90-4eee-bef2-19c543b716d7",
   "metadata": {},
   "outputs": [
    {
     "data": {
      "text/plain": [
       "(328, 64, 21031)"
      ]
     },
     "execution_count": 45,
     "metadata": {},
     "output_type": "execute_result"
    }
   ],
   "source": [
    "m, bs, len(seqs)"
   ]
  },
  {
   "cell_type": "code",
   "execution_count": 46,
   "id": "f534c287-92e3-40fd-a503-82edba764737",
   "metadata": {},
   "outputs": [
    {
     "data": {
      "text/plain": [
       "20664"
      ]
     },
     "execution_count": 46,
     "metadata": {},
     "output_type": "execute_result"
    }
   ],
   "source": [
    "63*328"
   ]
  },
  {
   "cell_type": "code",
   "execution_count": 47,
   "id": "41493a9f-4e1e-4dc1-912f-5118e0418ca4",
   "metadata": {},
   "outputs": [],
   "source": [
    "def group_chunk(ds, bs):\n",
    "    m = len(ds) // bs\n",
    "    print (m)\n",
    "    new_ds = L()\n",
    "    for i in range(m):\n",
    "        new_ds += L(ds[i + m*j] for j in range(bs))\n",
    "    return new_ds"
   ]
  },
  {
   "cell_type": "code",
   "execution_count": 48,
   "id": "73696863-c6fd-46dc-a5f0-c4d017ed8630",
   "metadata": {},
   "outputs": [
    {
     "name": "stdout",
     "output_type": "stream",
     "text": [
      "262\n",
      "65\n"
     ]
    }
   ],
   "source": [
    "cut = int(len(seqs) * 0.8)\n",
    "dls = DataLoaders.from_dsets(group_chunk(seqs[:cut], bs),\n",
    "                             group_chunk(seqs[cut:], bs),\n",
    "                             bs = bs, drop_last = True, shuffle = False)"
   ]
  },
  {
   "cell_type": "code",
   "execution_count": 49,
   "id": "8a34e2b4-b5b0-4d77-ab20-11e76cca8539",
   "metadata": {},
   "outputs": [],
   "source": [
    "learn = Learner(dls, LMModel3(len(vocab), 64), loss_func = F.cross_entropy,\n",
    "                metrics = [accuracy], cbs = ModelResetter)"
   ]
  },
  {
   "cell_type": "code",
   "execution_count": 50,
   "id": "231bd134-47b8-40b3-bb02-36386178a855",
   "metadata": {},
   "outputs": [
    {
     "data": {
      "text/plain": [
       "LMModel3(\n",
       "  (i_h): Embedding(30, 64)\n",
       "  (h_h): Linear(in_features=64, out_features=64, bias=True)\n",
       "  (h_o): Linear(in_features=64, out_features=64, bias=True)\n",
       ")"
      ]
     },
     "execution_count": 50,
     "metadata": {},
     "output_type": "execute_result"
    }
   ],
   "source": [
    "learn.to(\"cuda\")"
   ]
  },
  {
   "cell_type": "code",
   "execution_count": 51,
   "id": "59607fa3-07db-4c81-a667-a3f03c2f1c16",
   "metadata": {},
   "outputs": [],
   "source": [
    "torch.cuda.empty_cache()"
   ]
  },
  {
   "cell_type": "code",
   "execution_count": 52,
   "id": "edf4090c-f260-4f4e-8382-9b45f6ce9fd0",
   "metadata": {},
   "outputs": [
    {
     "data": {
      "text/html": [
       "<table border=\"1\" class=\"dataframe\">\n",
       "  <thead>\n",
       "    <tr style=\"text-align: left;\">\n",
       "      <th>epoch</th>\n",
       "      <th>train_loss</th>\n",
       "      <th>valid_loss</th>\n",
       "      <th>accuracy</th>\n",
       "      <th>time</th>\n",
       "    </tr>\n",
       "  </thead>\n",
       "  <tbody>\n",
       "    <tr>\n",
       "      <td>0</td>\n",
       "      <td>1.775140</td>\n",
       "      <td>1.866404</td>\n",
       "      <td>0.480529</td>\n",
       "      <td>00:03</td>\n",
       "    </tr>\n",
       "    <tr>\n",
       "      <td>1</td>\n",
       "      <td>1.264527</td>\n",
       "      <td>1.677850</td>\n",
       "      <td>0.481010</td>\n",
       "      <td>00:03</td>\n",
       "    </tr>\n",
       "    <tr>\n",
       "      <td>2</td>\n",
       "      <td>1.067035</td>\n",
       "      <td>1.552077</td>\n",
       "      <td>0.551442</td>\n",
       "      <td>00:03</td>\n",
       "    </tr>\n",
       "    <tr>\n",
       "      <td>3</td>\n",
       "      <td>0.997819</td>\n",
       "      <td>1.652430</td>\n",
       "      <td>0.547115</td>\n",
       "      <td>00:03</td>\n",
       "    </tr>\n",
       "    <tr>\n",
       "      <td>4</td>\n",
       "      <td>0.947706</td>\n",
       "      <td>1.675855</td>\n",
       "      <td>0.561298</td>\n",
       "      <td>00:03</td>\n",
       "    </tr>\n",
       "    <tr>\n",
       "      <td>5</td>\n",
       "      <td>0.900315</td>\n",
       "      <td>1.679035</td>\n",
       "      <td>0.583173</td>\n",
       "      <td>00:03</td>\n",
       "    </tr>\n",
       "    <tr>\n",
       "      <td>6</td>\n",
       "      <td>0.844704</td>\n",
       "      <td>1.688965</td>\n",
       "      <td>0.595433</td>\n",
       "      <td>00:03</td>\n",
       "    </tr>\n",
       "    <tr>\n",
       "      <td>7</td>\n",
       "      <td>0.812817</td>\n",
       "      <td>1.543354</td>\n",
       "      <td>0.612019</td>\n",
       "      <td>00:03</td>\n",
       "    </tr>\n",
       "    <tr>\n",
       "      <td>8</td>\n",
       "      <td>0.781453</td>\n",
       "      <td>1.579977</td>\n",
       "      <td>0.622596</td>\n",
       "      <td>00:03</td>\n",
       "    </tr>\n",
       "    <tr>\n",
       "      <td>9</td>\n",
       "      <td>0.759960</td>\n",
       "      <td>1.615724</td>\n",
       "      <td>0.626923</td>\n",
       "      <td>00:03</td>\n",
       "    </tr>\n",
       "  </tbody>\n",
       "</table>"
      ],
      "text/plain": [
       "<IPython.core.display.HTML object>"
      ]
     },
     "metadata": {},
     "output_type": "display_data"
    }
   ],
   "source": [
    "learn.fit_one_cycle(10, 3e-3)"
   ]
  },
  {
   "cell_type": "code",
   "execution_count": 53,
   "id": "cebbb06c-1c70-4cfd-9274-3c73fe85cee2",
   "metadata": {},
   "outputs": [],
   "source": [
    "sl = 16\n",
    "seqs = L((tensor(nums[i:i+sl]), tensor(nums[i+1 : i + sl + 1]))\n",
    "          for i in range(0, len(nums) - sl - 1, sl))\n",
    "cut = int(len(seqs) * 0.8)"
   ]
  },
  {
   "cell_type": "code",
   "execution_count": 54,
   "id": "e1d9a554-093a-4e31-bfc8-51838b218d65",
   "metadata": {},
   "outputs": [
    {
     "data": {
      "text/plain": [
       "[(#16) ['one','.','two','.','three','.','four','.','five','.'...],\n",
       " (#16) ['.','two','.','three','.','four','.','five','.','six'...]]"
      ]
     },
     "execution_count": 54,
     "metadata": {},
     "output_type": "execute_result"
    }
   ],
   "source": [
    "[L(vocab[o] for o in s) for s in seqs[0]]"
   ]
  },
  {
   "cell_type": "code",
   "execution_count": 55,
   "id": "953285d2-d5e2-4f2d-a6d9-13c6f7c64e4e",
   "metadata": {},
   "outputs": [
    {
     "data": {
      "text/plain": [
       "(tensor([0, 1, 2, 1, 3, 1, 4, 1, 5, 1, 6, 1, 7, 1, 8, 1]),\n",
       " tensor([1, 2, 1, 3, 1, 4, 1, 5, 1, 6, 1, 7, 1, 8, 1, 9]))"
      ]
     },
     "execution_count": 55,
     "metadata": {},
     "output_type": "execute_result"
    }
   ],
   "source": [
    "seqs[0]"
   ]
  },
  {
   "cell_type": "code",
   "execution_count": 56,
   "id": "9b8dca46-4bdc-406f-ae2c-2f5041986c28",
   "metadata": {},
   "outputs": [],
   "source": [
    "class LMModel4(Module):\n",
    "    def __init__(self, vocab_sz, n_hidden):\n",
    "        self.i_h = nn.Embedding(vocab_sz, n_hidden)\n",
    "        self.h_h = nn.Linear(n_hidden, n_hidden)\n",
    "        self.h_o = nn.Linear(n_hidden, vocab_sz)\n",
    "        self.h = 0\n",
    "        \n",
    "    def forward(self, x):\n",
    "        outs = []\n",
    "        for i in range(sl):\n",
    "            self.h = self.h + self.i_h(x[:, i])\n",
    "            self.h = F.relu(self.h_h(self.h))\n",
    "            outs.append(self.h_o(self.h))\n",
    "        self.h = self.h.detach()\n",
    "        return torch.stack(outs, dim = 1)\n",
    "    \n",
    "    def reset(self): self.h = 0"
   ]
  },
  {
   "cell_type": "code",
   "execution_count": 57,
   "id": "61768c7f-ba75-4b15-b779-750c879ec9d8",
   "metadata": {},
   "outputs": [],
   "source": [
    "def loss_func(inp, targ):\n",
    "    return F.cross_entropy(inp.view(-1, len(vocab)), targ.view(-1))"
   ]
  },
  {
   "cell_type": "code",
   "execution_count": 58,
   "id": "ab725b2d-7ff7-4864-ad80-dd8cde648abf",
   "metadata": {},
   "outputs": [],
   "source": [
    "x,y = dls.one_batch()"
   ]
  },
  {
   "cell_type": "code",
   "execution_count": 59,
   "id": "9812d711-8e48-4022-a7b2-a6ab87ca7c4f",
   "metadata": {},
   "outputs": [
    {
     "data": {
      "text/plain": [
       "(torch.Size([64, 3]), torch.Size([64]))"
      ]
     },
     "execution_count": 59,
     "metadata": {},
     "output_type": "execute_result"
    }
   ],
   "source": [
    "x.shape, y.shape"
   ]
  },
  {
   "cell_type": "code",
   "execution_count": 60,
   "id": "caa3cc6d-4996-40e1-8634-85a8522367a9",
   "metadata": {},
   "outputs": [
    {
     "data": {
      "text/plain": [
       "tensor([ 1, 28,  3, 28,  7,  8,  1,  1, 27, 29,  0,  6,  0,  0,  9,  6, 28,  2,\n",
       "         6, 28,  1, 28, 29, 13,  2,  1, 24,  5,  1,  1,  3, 25,  0,  4, 28,  4,\n",
       "         5, 28,  4,  5, 29,  1, 28,  5, 21, 29,  1, 26,  6, 22,  3,  6, 27, 17,\n",
       "         4, 28,  1,  1, 29,  9, 28, 29,  9,  7])"
      ]
     },
     "execution_count": 60,
     "metadata": {},
     "output_type": "execute_result"
    }
   ],
   "source": [
    "y"
   ]
  },
  {
   "cell_type": "code",
   "execution_count": 61,
   "id": "3d723332-2125-479c-b8e8-ab65eb57569a",
   "metadata": {},
   "outputs": [
    {
     "data": {
      "text/plain": [
       "tensor([ 1, 28,  3, 28,  7,  8,  1,  1, 27, 29,  0,  6,  0,  0,  9,  6, 28,  2,\n",
       "         6, 28,  1, 28, 29, 13,  2,  1, 24,  5,  1,  1,  3, 25,  0,  4, 28,  4,\n",
       "         5, 28,  4,  5, 29,  1, 28,  5, 21, 29,  1, 26,  6, 22,  3,  6, 27, 17,\n",
       "         4, 28,  1,  1, 29,  9, 28, 29,  9,  7])"
      ]
     },
     "execution_count": 61,
     "metadata": {},
     "output_type": "execute_result"
    }
   ],
   "source": [
    "y.view(-1)"
   ]
  },
  {
   "cell_type": "code",
   "execution_count": 62,
   "id": "57153298-434a-494c-bf31-68f16f297223",
   "metadata": {},
   "outputs": [
    {
     "data": {
      "text/plain": [
       "tensor([ 0,  1,  2, 11,  1,  2, 25,  7,  1,  5,  1,  5, 28, 12,  1,  8, 28, 25,\n",
       "        29, 22,  6, 28, 25,  8, 29,  2, 28, 13,  1,  0,  5, 28, 21,  1,  0, 29,\n",
       "        24,  4,  1,  8, 28, 26,  1,  0, 29,  0, 28, 22,  2, 29,  2, 25,  9,  1,\n",
       "         4, 28, 27,  2, 29,  6, 28, 21,  2,  2, 29,  8,  5,  1,  2, 29,  0, 28,\n",
       "         1,  3, 29, 28, 22,  7, 29,  4, 28,  1,  3, 29, 28, 27,  7,  8, 28, 16,\n",
       "        21,  3,  1,  1,  4, 29,  1,  4, 29, 28, 14,  1,  4, 29,  4, 22,  8,  1,\n",
       "         6, 28, 24,  4, 29,  7, 27,  8,  1, 20,  5,  1,  3,  1,  5,  2, 28, 26,\n",
       "         5, 29,  3,  1,  5, 29, 29,  6, 28,  9,  1,  5, 28, 24,  6, 29,  9, 28,\n",
       "        21,  0,  1, 29,  2, 28,  1,  6, 29, 26,  0,  1, 29,  5, 28, 29,  7, 28,\n",
       "         8, 28, 21,  6, 29,  9, 29, 27,  5,  2, 28, 15,  2,  1,  7,  4, 28, 22,\n",
       "         7, 29,  5,  2,  1,  7,  7, 28, 27, 28, 18,  1])"
      ]
     },
     "execution_count": 62,
     "metadata": {},
     "output_type": "execute_result"
    }
   ],
   "source": [
    "x.view(-1)"
   ]
  },
  {
   "cell_type": "code",
   "execution_count": 63,
   "id": "2dbcea4a-5989-4cb7-bee3-9644112a4510",
   "metadata": {},
   "outputs": [
    {
     "name": "stdout",
     "output_type": "stream",
     "text": [
      "49\n",
      "12\n"
     ]
    }
   ],
   "source": [
    "bs = 64\n",
    "dls = DataLoaders.from_dsets(group_chunk(seqs[:cut], bs),\n",
    "                             group_chunk(seqs[cut:], bs),\n",
    "                             bs = bs, shuffle = False,\n",
    "                             drop_last = True)"
   ]
  },
  {
   "cell_type": "code",
   "execution_count": 64,
   "id": "f81f06db-409b-4b74-a5f5-bc27a32d6c4a",
   "metadata": {},
   "outputs": [],
   "source": [
    "x,y = dls.one_batch()"
   ]
  },
  {
   "cell_type": "code",
   "execution_count": 65,
   "id": "0ca66caf-b8bd-4fda-ba9b-ea87cc53ddda",
   "metadata": {},
   "outputs": [
    {
     "data": {
      "text/plain": [
       "(torch.Size([64, 16]), torch.Size([64, 16]))"
      ]
     },
     "execution_count": 65,
     "metadata": {},
     "output_type": "execute_result"
    }
   ],
   "source": [
    "x.shape, y.shape"
   ]
  },
  {
   "cell_type": "code",
   "execution_count": 66,
   "id": "075a9ed1-32b2-4447-9ac4-883d480a3210",
   "metadata": {},
   "outputs": [
    {
     "data": {
      "text/plain": [
       "tensor([[ 0,  1,  2,  ...,  1,  8,  1],\n",
       "        [ 2, 28, 11,  ..., 28, 14,  1],\n",
       "        [ 6,  1,  3,  ..., 28, 25,  9],\n",
       "        ...,\n",
       "        [ 7, 29,  6,  ...,  1,  7, 29],\n",
       "        [28, 26,  0,  ...,  7, 28, 26],\n",
       "        [ 7,  1,  7,  ..., 27,  9,  1]])"
      ]
     },
     "execution_count": 66,
     "metadata": {},
     "output_type": "execute_result"
    }
   ],
   "source": [
    "x"
   ]
  },
  {
   "cell_type": "code",
   "execution_count": 67,
   "id": "6b890bb3-c15b-4382-8aa7-8050cfbe36ec",
   "metadata": {},
   "outputs": [
    {
     "data": {
      "text/plain": [
       "tensor([1, 2, 1, 3, 1, 4, 1, 5, 1, 6, 1, 7, 1, 8, 1, 9])"
      ]
     },
     "execution_count": 67,
     "metadata": {},
     "output_type": "execute_result"
    }
   ],
   "source": [
    "y[0]"
   ]
  },
  {
   "cell_type": "code",
   "execution_count": 68,
   "id": "2cc59b3f-3c73-458f-ac81-8b97487d559b",
   "metadata": {},
   "outputs": [
    {
     "data": {
      "text/plain": [
       "tensor([0, 1, 2, 1, 3, 1, 4, 1, 5, 1, 6, 1, 7, 1, 8, 1])"
      ]
     },
     "execution_count": 68,
     "metadata": {},
     "output_type": "execute_result"
    }
   ],
   "source": [
    "x[0]"
   ]
  },
  {
   "cell_type": "code",
   "execution_count": 69,
   "id": "c6464c05-b6fb-43e6-8cc6-3422e3e697d1",
   "metadata": {},
   "outputs": [
    {
     "data": {
      "text/plain": [
       "tensor([[ 1,  2,  1,  ...,  8,  1,  9],\n",
       "        [28, 11,  1,  ..., 14,  1,  2],\n",
       "        [ 1,  3, 28,  ..., 25,  9,  1],\n",
       "        ...,\n",
       "        [29,  6, 28,  ...,  7, 29,  6],\n",
       "        [26,  0,  1,  ..., 28, 26,  3],\n",
       "        [ 1,  7, 29,  ...,  9,  1,  7]])"
      ]
     },
     "execution_count": 69,
     "metadata": {},
     "output_type": "execute_result"
    }
   ],
   "source": [
    "y"
   ]
  },
  {
   "cell_type": "code",
   "execution_count": 70,
   "id": "2a2e9c4f-3608-4c32-b18c-4054b564856c",
   "metadata": {},
   "outputs": [
    {
     "data": {
      "text/plain": [
       "tensor([1, 2, 1,  ..., 9, 1, 7])"
      ]
     },
     "execution_count": 70,
     "metadata": {},
     "output_type": "execute_result"
    }
   ],
   "source": [
    "y.view(-1)"
   ]
  },
  {
   "cell_type": "code",
   "execution_count": 71,
   "id": "c9acab1f-b4fc-4642-935d-cb7b2dbc9f68",
   "metadata": {},
   "outputs": [],
   "source": [
    "learn = Learner(dls, LMModel4(len(vocab), 64), loss_func = loss_func,\n",
    "                metrics = accuracy, cbs = ModelResetter)"
   ]
  },
  {
   "cell_type": "code",
   "execution_count": 72,
   "id": "db2c80b4-1c3e-47ac-aae4-2c9b4d554a7b",
   "metadata": {},
   "outputs": [
    {
     "data": {
      "text/plain": [
       "LMModel4(\n",
       "  (i_h): Embedding(30, 64)\n",
       "  (h_h): Linear(in_features=64, out_features=64, bias=True)\n",
       "  (h_o): Linear(in_features=64, out_features=30, bias=True)\n",
       ")"
      ]
     },
     "execution_count": 72,
     "metadata": {},
     "output_type": "execute_result"
    }
   ],
   "source": [
    "learn.to(\"cuda\")"
   ]
  },
  {
   "cell_type": "code",
   "execution_count": 73,
   "id": "8f611135-6c28-49f3-b198-7b86a6f891de",
   "metadata": {},
   "outputs": [
    {
     "data": {
      "text/html": [
       "<table border=\"1\" class=\"dataframe\">\n",
       "  <thead>\n",
       "    <tr style=\"text-align: left;\">\n",
       "      <th>epoch</th>\n",
       "      <th>train_loss</th>\n",
       "      <th>valid_loss</th>\n",
       "      <th>accuracy</th>\n",
       "      <th>time</th>\n",
       "    </tr>\n",
       "  </thead>\n",
       "  <tbody>\n",
       "    <tr>\n",
       "      <td>0</td>\n",
       "      <td>3.176683</td>\n",
       "      <td>3.015017</td>\n",
       "      <td>0.346029</td>\n",
       "      <td>00:02</td>\n",
       "    </tr>\n",
       "    <tr>\n",
       "      <td>1</td>\n",
       "      <td>2.275389</td>\n",
       "      <td>1.944346</td>\n",
       "      <td>0.464193</td>\n",
       "      <td>00:02</td>\n",
       "    </tr>\n",
       "    <tr>\n",
       "      <td>2</td>\n",
       "      <td>1.719252</td>\n",
       "      <td>1.805481</td>\n",
       "      <td>0.465495</td>\n",
       "      <td>00:02</td>\n",
       "    </tr>\n",
       "    <tr>\n",
       "      <td>3</td>\n",
       "      <td>1.440933</td>\n",
       "      <td>1.988345</td>\n",
       "      <td>0.428385</td>\n",
       "      <td>00:02</td>\n",
       "    </tr>\n",
       "    <tr>\n",
       "      <td>4</td>\n",
       "      <td>1.268063</td>\n",
       "      <td>1.893156</td>\n",
       "      <td>0.538005</td>\n",
       "      <td>00:02</td>\n",
       "    </tr>\n",
       "    <tr>\n",
       "      <td>5</td>\n",
       "      <td>1.152140</td>\n",
       "      <td>1.793194</td>\n",
       "      <td>0.519450</td>\n",
       "      <td>00:02</td>\n",
       "    </tr>\n",
       "    <tr>\n",
       "      <td>6</td>\n",
       "      <td>1.048050</td>\n",
       "      <td>1.794085</td>\n",
       "      <td>0.560140</td>\n",
       "      <td>00:02</td>\n",
       "    </tr>\n",
       "    <tr>\n",
       "      <td>7</td>\n",
       "      <td>0.966877</td>\n",
       "      <td>1.831328</td>\n",
       "      <td>0.564779</td>\n",
       "      <td>00:02</td>\n",
       "    </tr>\n",
       "    <tr>\n",
       "      <td>8</td>\n",
       "      <td>0.899862</td>\n",
       "      <td>1.910296</td>\n",
       "      <td>0.575765</td>\n",
       "      <td>00:02</td>\n",
       "    </tr>\n",
       "    <tr>\n",
       "      <td>9</td>\n",
       "      <td>0.860902</td>\n",
       "      <td>1.793428</td>\n",
       "      <td>0.570638</td>\n",
       "      <td>00:02</td>\n",
       "    </tr>\n",
       "    <tr>\n",
       "      <td>10</td>\n",
       "      <td>0.802626</td>\n",
       "      <td>1.876859</td>\n",
       "      <td>0.579183</td>\n",
       "      <td>00:02</td>\n",
       "    </tr>\n",
       "    <tr>\n",
       "      <td>11</td>\n",
       "      <td>0.767365</td>\n",
       "      <td>1.913331</td>\n",
       "      <td>0.585368</td>\n",
       "      <td>00:02</td>\n",
       "    </tr>\n",
       "    <tr>\n",
       "      <td>12</td>\n",
       "      <td>0.745081</td>\n",
       "      <td>1.916569</td>\n",
       "      <td>0.594238</td>\n",
       "      <td>00:02</td>\n",
       "    </tr>\n",
       "    <tr>\n",
       "      <td>13</td>\n",
       "      <td>0.725542</td>\n",
       "      <td>1.878691</td>\n",
       "      <td>0.592936</td>\n",
       "      <td>00:02</td>\n",
       "    </tr>\n",
       "    <tr>\n",
       "      <td>14</td>\n",
       "      <td>0.710564</td>\n",
       "      <td>1.856475</td>\n",
       "      <td>0.593669</td>\n",
       "      <td>00:02</td>\n",
       "    </tr>\n",
       "  </tbody>\n",
       "</table>"
      ],
      "text/plain": [
       "<IPython.core.display.HTML object>"
      ]
     },
     "metadata": {},
     "output_type": "display_data"
    }
   ],
   "source": [
    "learn.fit_one_cycle(15, 3e-3)"
   ]
  },
  {
   "cell_type": "code",
   "execution_count": 74,
   "id": "1f054fe2-3707-44d0-b59b-d70343c9731b",
   "metadata": {},
   "outputs": [],
   "source": [
    "class LMModel5(Module):\n",
    "    def __init__(self, vocab_sz, n_hidden, n_layers):\n",
    "        self.i_h = nn.Embedding(vocab_sz, n_hidden)\n",
    "        self.rnn = nn.RNN(n_hidden, n_hidden, n_layers, batch_first = True)\n",
    "        self.h_o = nn.Linear(n_hidden, vocab_sz)\n",
    "        self.h = torch.zeros(n_layers, bs, n_hidden)\n",
    "        \n",
    "    def forward(self, x):\n",
    "        res, h = self.rnn(self.i_h(x), self.h)\n",
    "        self.h = h.detach()\n",
    "        return self.h_o(res)\n",
    "    \n",
    "    def reset(self):\n",
    "        self.h.zero_()"
   ]
  },
  {
   "cell_type": "code",
   "execution_count": 75,
   "id": "4619c641-5bd3-492f-83ea-c27677183023",
   "metadata": {},
   "outputs": [
    {
     "data": {
      "text/html": [
       "<table border=\"1\" class=\"dataframe\">\n",
       "  <thead>\n",
       "    <tr style=\"text-align: left;\">\n",
       "      <th>epoch</th>\n",
       "      <th>train_loss</th>\n",
       "      <th>valid_loss</th>\n",
       "      <th>accuracy</th>\n",
       "      <th>time</th>\n",
       "    </tr>\n",
       "  </thead>\n",
       "  <tbody>\n",
       "    <tr>\n",
       "      <td>0</td>\n",
       "      <td>3.028404</td>\n",
       "      <td>2.636201</td>\n",
       "      <td>0.338298</td>\n",
       "      <td>00:03</td>\n",
       "    </tr>\n",
       "    <tr>\n",
       "      <td>1</td>\n",
       "      <td>2.140126</td>\n",
       "      <td>1.819728</td>\n",
       "      <td>0.471110</td>\n",
       "      <td>00:02</td>\n",
       "    </tr>\n",
       "    <tr>\n",
       "      <td>2</td>\n",
       "      <td>1.697969</td>\n",
       "      <td>1.914252</td>\n",
       "      <td>0.329102</td>\n",
       "      <td>00:02</td>\n",
       "    </tr>\n",
       "    <tr>\n",
       "      <td>3</td>\n",
       "      <td>1.502005</td>\n",
       "      <td>1.828901</td>\n",
       "      <td>0.434082</td>\n",
       "      <td>00:02</td>\n",
       "    </tr>\n",
       "    <tr>\n",
       "      <td>4</td>\n",
       "      <td>1.340618</td>\n",
       "      <td>1.696417</td>\n",
       "      <td>0.481120</td>\n",
       "      <td>00:03</td>\n",
       "    </tr>\n",
       "    <tr>\n",
       "      <td>5</td>\n",
       "      <td>1.176616</td>\n",
       "      <td>1.665526</td>\n",
       "      <td>0.519694</td>\n",
       "      <td>00:02</td>\n",
       "    </tr>\n",
       "    <tr>\n",
       "      <td>6</td>\n",
       "      <td>0.996413</td>\n",
       "      <td>1.533898</td>\n",
       "      <td>0.515137</td>\n",
       "      <td>00:02</td>\n",
       "    </tr>\n",
       "    <tr>\n",
       "      <td>7</td>\n",
       "      <td>0.850094</td>\n",
       "      <td>1.571767</td>\n",
       "      <td>0.514486</td>\n",
       "      <td>00:03</td>\n",
       "    </tr>\n",
       "    <tr>\n",
       "      <td>8</td>\n",
       "      <td>0.742787</td>\n",
       "      <td>1.687974</td>\n",
       "      <td>0.514730</td>\n",
       "      <td>00:03</td>\n",
       "    </tr>\n",
       "    <tr>\n",
       "      <td>9</td>\n",
       "      <td>0.660529</td>\n",
       "      <td>1.745036</td>\n",
       "      <td>0.509033</td>\n",
       "      <td>00:02</td>\n",
       "    </tr>\n",
       "    <tr>\n",
       "      <td>10</td>\n",
       "      <td>0.590859</td>\n",
       "      <td>1.749050</td>\n",
       "      <td>0.513509</td>\n",
       "      <td>00:03</td>\n",
       "    </tr>\n",
       "    <tr>\n",
       "      <td>11</td>\n",
       "      <td>0.539597</td>\n",
       "      <td>1.768373</td>\n",
       "      <td>0.511963</td>\n",
       "      <td>00:03</td>\n",
       "    </tr>\n",
       "    <tr>\n",
       "      <td>12</td>\n",
       "      <td>0.503868</td>\n",
       "      <td>1.754387</td>\n",
       "      <td>0.517334</td>\n",
       "      <td>00:03</td>\n",
       "    </tr>\n",
       "    <tr>\n",
       "      <td>13</td>\n",
       "      <td>0.481235</td>\n",
       "      <td>1.770282</td>\n",
       "      <td>0.512939</td>\n",
       "      <td>00:02</td>\n",
       "    </tr>\n",
       "    <tr>\n",
       "      <td>14</td>\n",
       "      <td>0.469585</td>\n",
       "      <td>1.780747</td>\n",
       "      <td>0.513102</td>\n",
       "      <td>00:03</td>\n",
       "    </tr>\n",
       "  </tbody>\n",
       "</table>"
      ],
      "text/plain": [
       "<IPython.core.display.HTML object>"
      ]
     },
     "metadata": {},
     "output_type": "display_data"
    }
   ],
   "source": [
    "learn = Learner(dls, LMModel5(len(vocab), 64, 2),\n",
    "                loss_func = CrossEntropyLossFlat(),\n",
    "                metrics = accuracy,\n",
    "                cbs = ModelResetter)\n",
    "learn.fit_one_cycle(15, 3e-3)"
   ]
  },
  {
   "cell_type": "code",
   "execution_count": 76,
   "id": "5b15cb2a-93da-48ee-b503-82f98c4d46c8",
   "metadata": {},
   "outputs": [],
   "source": [
    "## our single layer rnn worked better because multi layer rnn has a chance of vanishing or exploding gradients"
   ]
  },
  {
   "cell_type": "code",
   "execution_count": 77,
   "id": "26aaab81-e108-436a-9f40-c143ad095034",
   "metadata": {},
   "outputs": [],
   "source": [
    "## In RNN we had one hidden state, but in LSTM we have two hidden states, Hidden state help us in \n",
    "## 1. having the right information for the output layer to predict the correct next token.\n",
    "## 2. retaining memory of everything that happened in the sentence "
   ]
  },
  {
   "cell_type": "code",
   "execution_count": 78,
   "id": "d76107ef-ce52-4a72-a582-c20367532923",
   "metadata": {},
   "outputs": [],
   "source": [
    "## In LSTM we have cell state - which is responsible for keeping long short term memory, while hidden state is used to focus on the next token to predict"
   ]
  },
  {
   "cell_type": "code",
   "execution_count": 79,
   "id": "6a18cd44-7aef-448e-8a4e-e1e06884ed07",
   "metadata": {},
   "outputs": [],
   "source": [
    "## building an LSTM"
   ]
  },
  {
   "cell_type": "code",
   "execution_count": 80,
   "id": "867eeb6d-e384-4d9f-b655-9d5014efe5e7",
   "metadata": {},
   "outputs": [],
   "source": [
    "class LSTMCell(Module):\n",
    "    def __init__(self, ni, nh):\n",
    "        self.forget_gate = nn.Linear(ni + nh, nh)\n",
    "        self.input_gate = nn.Linear(ni + nh, nh)\n",
    "        self.cell_gate = nn.Linear(ni + nh, nh)\n",
    "        self.output_gate = nn.Linear(ni + nh, nh)\n",
    "        \n",
    "    def forward(self, input, state):\n",
    "        h,c = state\n",
    "        h = torch.stack([h, input], dim = 1)\n",
    "        forget = torch.sigmoid(self.forget_gategate(h))\n",
    "        c = c * forget\n",
    "        inp = torch.sigmoid(self.input_gate(h))\n",
    "        cell = torch.tanh(self.cell_gate(h))\n",
    "        c = c + inp * cell\n",
    "        out = torch.sigmoid(self.output_gate(h))\n",
    "        h = out * torch.tanh(c)\n",
    "        return h, (h,c)"
   ]
  },
  {
   "cell_type": "code",
   "execution_count": 81,
   "id": "0783ab7f-c392-4bad-9ccf-4c233bfa9865",
   "metadata": {},
   "outputs": [],
   "source": [
    "## refactored and optimised code"
   ]
  },
  {
   "cell_type": "code",
   "execution_count": 82,
   "id": "bbd492a7-48e4-403a-97e4-f1ac696c12be",
   "metadata": {},
   "outputs": [],
   "source": [
    "class LSTMCell(Module):\n",
    "    def __init__(self, ni, nh):\n",
    "        self.ih = nn.Linear(ni, 4*nh)\n",
    "        self.hh = nn.Linear(nh, 4*nh)\n",
    "        \n",
    "    def forward(self, input, state):\n",
    "        h,c = state\n",
    "        # One big multiplication for all the states is better than 4 smaller ones\n",
    "        gates = (self.ih(input) + self.hh(h)).chunk(4, 1)\n",
    "        ingate, forgetgate, outgate = map(torch.sigmoid, gates[:3])\n",
    "        cellgate = gates[3].tanh()\n",
    "        \n",
    "        c = (forgetgate *c) + (ingate * cellgate)\n",
    "        h = outgate * c.tanh()\n",
    "        return h, (h, c)"
   ]
  },
  {
   "cell_type": "code",
   "execution_count": 86,
   "id": "8cdc80ca-9bf6-431e-a961-bf6862753ec1",
   "metadata": {},
   "outputs": [
    {
     "data": {
      "text/plain": [
       "(tensor([0, 1, 2]), tensor([3, 4, 5]), tensor([6, 7, 8]), tensor([ 9, 10]))"
      ]
     },
     "execution_count": 86,
     "metadata": {},
     "output_type": "execute_result"
    }
   ],
   "source": [
    "torch.arange(11).chunk(4,)"
   ]
  },
  {
   "cell_type": "code",
   "execution_count": 87,
   "id": "0f81c66c-d2c8-446b-ab1a-b8c03db333f2",
   "metadata": {},
   "outputs": [
    {
     "data": {
      "text/plain": [
       "(tensor([0, 1, 2, 3, 4, 5]), tensor([ 6,  7,  8,  9, 10]))"
      ]
     },
     "execution_count": 87,
     "metadata": {},
     "output_type": "execute_result"
    }
   ],
   "source": [
    "torch.arange(11).chunk(2, )"
   ]
  },
  {
   "cell_type": "code",
   "execution_count": 88,
   "id": "ebcc26a9-46df-4d75-8245-4f50b45a9bbf",
   "metadata": {},
   "outputs": [],
   "source": [
    "## training a language model using LSTM"
   ]
  },
  {
   "cell_type": "code",
   "execution_count": 92,
   "id": "9656549c-6b26-403e-b895-85f789ee6c2c",
   "metadata": {},
   "outputs": [],
   "source": [
    "class LMModel6(Module):\n",
    "    def __init__(self, vocab_sz, n_hidden, n_layers):\n",
    "        self.i_h = nn.Embedding(vocab_sz, n_hidden)\n",
    "        # https://pytorch.org/docs/stable/generated/torch.nn.LSTM.html\n",
    "        self.rnn = nn.LSTM(n_hidden, n_hidden, n_layers, batch_first = True)\n",
    "        self.h_o = nn.Linear(n_hidden, vocab_sz)\n",
    "        self.h = [torch.zeros(n_layers, bs, n_hidden) for _ in range(2)]\n",
    "        \n",
    "    def forward(self, x):\n",
    "        res, h = self.rnn(self.i_h(x), self.h)\n",
    "        self.h = [h_.detach() for h_ in h]\n",
    "        return self.h_o(res)\n",
    "    \n",
    "    def reset(self):\n",
    "        for h in self.h : h.zero_()"
   ]
  },
  {
   "cell_type": "code",
   "execution_count": 93,
   "id": "94afbae7-34c6-4af9-a912-e75f35e35756",
   "metadata": {},
   "outputs": [],
   "source": [
    "learn = Learner(dls, LMModel6(len(vocab), 64, 2),\n",
    "                loss_func = CrossEntropyLossFlat(),\n",
    "                metrics = accuracy,\n",
    "                cbs = ModelResetter)"
   ]
  },
  {
   "cell_type": "code",
   "execution_count": 94,
   "id": "ccfa0ea1-7394-4af5-b799-d0b5da60c44c",
   "metadata": {},
   "outputs": [
    {
     "data": {
      "text/html": [
       "<table border=\"1\" class=\"dataframe\">\n",
       "  <thead>\n",
       "    <tr style=\"text-align: left;\">\n",
       "      <th>epoch</th>\n",
       "      <th>train_loss</th>\n",
       "      <th>valid_loss</th>\n",
       "      <th>accuracy</th>\n",
       "      <th>time</th>\n",
       "    </tr>\n",
       "  </thead>\n",
       "  <tbody>\n",
       "    <tr>\n",
       "      <td>0</td>\n",
       "      <td>2.998760</td>\n",
       "      <td>2.702487</td>\n",
       "      <td>0.305990</td>\n",
       "      <td>00:03</td>\n",
       "    </tr>\n",
       "    <tr>\n",
       "      <td>1</td>\n",
       "      <td>2.200390</td>\n",
       "      <td>1.756889</td>\n",
       "      <td>0.460775</td>\n",
       "      <td>00:03</td>\n",
       "    </tr>\n",
       "    <tr>\n",
       "      <td>2</td>\n",
       "      <td>1.639697</td>\n",
       "      <td>1.699353</td>\n",
       "      <td>0.487793</td>\n",
       "      <td>00:03</td>\n",
       "    </tr>\n",
       "    <tr>\n",
       "      <td>3</td>\n",
       "      <td>1.364824</td>\n",
       "      <td>1.957832</td>\n",
       "      <td>0.476481</td>\n",
       "      <td>00:03</td>\n",
       "    </tr>\n",
       "    <tr>\n",
       "      <td>4</td>\n",
       "      <td>1.172055</td>\n",
       "      <td>2.067166</td>\n",
       "      <td>0.503255</td>\n",
       "      <td>00:03</td>\n",
       "    </tr>\n",
       "    <tr>\n",
       "      <td>5</td>\n",
       "      <td>0.983346</td>\n",
       "      <td>1.962176</td>\n",
       "      <td>0.557292</td>\n",
       "      <td>00:03</td>\n",
       "    </tr>\n",
       "    <tr>\n",
       "      <td>6</td>\n",
       "      <td>0.740874</td>\n",
       "      <td>1.860632</td>\n",
       "      <td>0.615234</td>\n",
       "      <td>00:03</td>\n",
       "    </tr>\n",
       "    <tr>\n",
       "      <td>7</td>\n",
       "      <td>0.492307</td>\n",
       "      <td>1.778017</td>\n",
       "      <td>0.681885</td>\n",
       "      <td>00:03</td>\n",
       "    </tr>\n",
       "    <tr>\n",
       "      <td>8</td>\n",
       "      <td>0.320050</td>\n",
       "      <td>1.721262</td>\n",
       "      <td>0.727458</td>\n",
       "      <td>00:03</td>\n",
       "    </tr>\n",
       "    <tr>\n",
       "      <td>9</td>\n",
       "      <td>0.214866</td>\n",
       "      <td>1.692271</td>\n",
       "      <td>0.748372</td>\n",
       "      <td>00:03</td>\n",
       "    </tr>\n",
       "    <tr>\n",
       "      <td>10</td>\n",
       "      <td>0.152078</td>\n",
       "      <td>1.703497</td>\n",
       "      <td>0.750000</td>\n",
       "      <td>00:03</td>\n",
       "    </tr>\n",
       "    <tr>\n",
       "      <td>11</td>\n",
       "      <td>0.108002</td>\n",
       "      <td>1.640915</td>\n",
       "      <td>0.748779</td>\n",
       "      <td>00:03</td>\n",
       "    </tr>\n",
       "    <tr>\n",
       "      <td>12</td>\n",
       "      <td>0.081697</td>\n",
       "      <td>1.628295</td>\n",
       "      <td>0.753906</td>\n",
       "      <td>00:03</td>\n",
       "    </tr>\n",
       "    <tr>\n",
       "      <td>13</td>\n",
       "      <td>0.065939</td>\n",
       "      <td>1.672817</td>\n",
       "      <td>0.756022</td>\n",
       "      <td>00:03</td>\n",
       "    </tr>\n",
       "    <tr>\n",
       "      <td>14</td>\n",
       "      <td>0.056961</td>\n",
       "      <td>1.668242</td>\n",
       "      <td>0.756429</td>\n",
       "      <td>00:03</td>\n",
       "    </tr>\n",
       "  </tbody>\n",
       "</table>"
      ],
      "text/plain": [
       "<IPython.core.display.HTML object>"
      ]
     },
     "metadata": {},
     "output_type": "display_data"
    }
   ],
   "source": [
    "learn.fit_one_cycle(15, 1e-2)"
   ]
  },
  {
   "cell_type": "code",
   "execution_count": 95,
   "id": "1722b007-914b-4fd2-bb0d-89696255912e",
   "metadata": {},
   "outputs": [
    {
     "data": {
      "image/png": "[encoded data removed]",
      "text/plain": [
       "<Figure size 432x288 with 1 Axes>"
      ]
     },
     "metadata": {
      "needs_background": "light"
     },
     "output_type": "display_data"
    }
   ],
   "source": [
    "learn.recorder.plot_loss()"
   ]
  },
  {
   "cell_type": "code",
   "execution_count": 96,
   "id": "1a7f5af2-52d9-440e-aa12-1e88028eb039",
   "metadata": {},
   "outputs": [],
   "source": [
    "## Regularizing an LSTM"
   ]
  },
  {
   "cell_type": "code",
   "execution_count": 97,
   "id": "9fa51255-28e7-437d-8d50-036ebd850b5a",
   "metadata": {},
   "outputs": [],
   "source": [
    "## dropout"
   ]
  },
  {
   "cell_type": "code",
   "execution_count": 98,
   "id": "246b554c-0fc7-42a1-90fa-e416a2854dad",
   "metadata": {},
   "outputs": [],
   "source": [
    "## dropout helps the neurons to cooperate better together, then it makes the activations more noisy thus making\n",
    "## the model more robust"
   ]
  },
  {
   "cell_type": "code",
   "execution_count": 99,
   "id": "32b938b8-4437-409f-92dc-4da8a799480d",
   "metadata": {},
   "outputs": [],
   "source": [
    "class Dropout(Module):\n",
    "    def __init__(self, p): self.p = p\n",
    "    def forward(self, x):\n",
    "        if not self.training : return x\n",
    "        mask = x.new(*x.shape).bernoulli_(1 - p)\n",
    "        return x * mask.div_(1-p)"
   ]
  },
  {
   "cell_type": "code",
   "execution_count": 100,
   "id": "fad3f185-e591-4e35-aea1-10992f100f8c",
   "metadata": {},
   "outputs": [
    {
     "data": {
      "text/plain": [
       "tensor([0, 1, 2, 3, 4, 5, 6, 7, 8, 9])"
      ]
     },
     "execution_count": 100,
     "metadata": {},
     "output_type": "execute_result"
    }
   ],
   "source": [
    "x = torch.arange(10)\n",
    "x"
   ]
  },
  {
   "cell_type": "code",
   "execution_count": 101,
   "id": "7978b133-45d4-4e10-bc12-6430d88ffdcd",
   "metadata": {},
   "outputs": [
    {
     "data": {
      "text/plain": [
       "torch.Size([10])"
      ]
     },
     "execution_count": 101,
     "metadata": {},
     "output_type": "execute_result"
    }
   ],
   "source": [
    "x.shape"
   ]
  },
  {
   "cell_type": "code",
   "execution_count": 102,
   "id": "2ed2c433-e92e-4c00-a80e-29650424519c",
   "metadata": {},
   "outputs": [],
   "source": [
    "p = 0.2\n",
    "m = x.new(*x.shape).bernoulli_(1-p)"
   ]
  },
  {
   "cell_type": "code",
   "execution_count": 103,
   "id": "786b0ae3-df91-4c18-a6e7-d0a6e2663b2c",
   "metadata": {},
   "outputs": [
    {
     "data": {
      "text/plain": [
       "tensor([1, 1, 1, 1, 0, 0, 0, 0, 1, 1])"
      ]
     },
     "execution_count": 103,
     "metadata": {},
     "output_type": "execute_result"
    }
   ],
   "source": [
    "m"
   ]
  },
  {
   "cell_type": "code",
   "execution_count": 104,
   "id": "80be815f-b8e3-4feb-bf1d-8418cd88e426",
   "metadata": {},
   "outputs": [
    {
     "data": {
      "text/plain": [
       "tensor([ 0.8000,  0.8000,  0.8000,  0.8000, -0.2000, -0.2000, -0.2000, -0.2000,\n",
       "         0.8000,  0.8000])"
      ]
     },
     "execution_count": 104,
     "metadata": {},
     "output_type": "execute_result"
    }
   ],
   "source": [
    "m/1-p"
   ]
  },
  {
   "cell_type": "code",
   "execution_count": 106,
   "id": "67e0ed2f-7be7-4d2a-82f7-7c242b95d839",
   "metadata": {},
   "outputs": [],
   "source": [
    "## activation regularization and temporal activation regularization\n",
    "## in weight decay we add a small penalty to reduce the weight to as small as possible. in lstm we try to make the final activations\n",
    "## as small as possible instead of the weights."
   ]
  },
  {
   "cell_type": "code",
   "execution_count": 107,
   "id": "8a84224b-71d1-4740-ace3-46e49e8fcf4d",
   "metadata": {},
   "outputs": [],
   "source": [
    "## loss += alpha * activations.pow(2).mean().\n",
    "\n",
    "## Temporal activation regularization is linked to the faxct we are predicting tokens in a setence. When we read them in order,\n",
    "## TAR is there to encourage that output of LSTM should make sense when we read them in order.\n",
    "## TAR is there to add a penalty to the loss and make the difference between 2 activations as small as possible.\n",
    "## our activation tensor has shape - (bs * sl * n_hid) and we read consecutive activ on the sl axis\n",
    "## loss += beta * (activations[:, 1:] -  activations[:, -1]).pow(2).mean()\n",
    "## alpha and beta are 2 hyperparams to tune\n",
    "## Activation regularization is often applied on the dropped out activations\n",
    "## TAR is applied on the non dropped out acts"
   ]
  },
  {
   "cell_type": "code",
   "execution_count": 108,
   "id": "9b97fa63-22df-4705-9ed7-8cdc50c260c4",
   "metadata": {},
   "outputs": [],
   "source": [
    "## training a weight tiedd regularized LSTM"
   ]
  },
  {
   "cell_type": "code",
   "execution_count": 109,
   "id": "3f8f0874-046c-4f45-aab2-0475ac8048ac",
   "metadata": {},
   "outputs": [],
   "source": [
    "## here we assign the same weight matrix to the embedding layer and the output layer because\n",
    "## our embedding layer maps vocabulary to activations and \n",
    "## the output hidden layer maps activation to vocabulary\n",
    "## intuitively these mappings could be the same so we assign the same weight matrix"
   ]
  },
  {
   "cell_type": "code",
   "execution_count": 110,
   "id": "14742fdd-c107-4835-a87e-4d989effce1e",
   "metadata": {},
   "outputs": [],
   "source": [
    "class LMModel7(Module):\n",
    "    def __init__(self, vocab_sz, n_hidden, n_layers, p):\n",
    "        self.i_h = nn.Embedding(vocab_sz, n_hidden)\n",
    "        # https://pytorch.org/docs/stable/generated/torch.nn.LSTM.html\n",
    "        self.rnn = nn.LSTM(n_hidden, n_hidden, n_layers, batch_first = True)\n",
    "        self.drop = nn.Dropout(p)\n",
    "        self.h_o = nn.Linear(n_hidden, vocab_sz)\n",
    "        self.h_o.weight = self.i_h.weight\n",
    "        self.h = [torch.zeros(n_layers, bs, n_hidden) for _ in range(2)]\n",
    "        \n",
    "    def forward(self, x):\n",
    "        raw, h = self.rnn(self.i_h(x), self.h)\n",
    "        out = self.drop(raw)\n",
    "        self.h = [h_.detach() for h_ in h]\n",
    "        return self.h_o(out), raw, out\n",
    "    \n",
    "    def reset(self):\n",
    "        for h in self.h : h.zero_()"
   ]
  },
  {
   "cell_type": "code",
   "execution_count": 111,
   "id": "c5376810-00bb-4f1f-9ccb-9d423ed73416",
   "metadata": {},
   "outputs": [],
   "source": [
    "learn = Learner(dls, LMModel7(len(vocab), 64, 2, 0.5),\n",
    "                loss_func = CrossEntropyLossFlat(),\n",
    "                metrics = accuracy,\n",
    "                cbs = [ModelResetter, RNNRegularizer(alpha = 2, beta = 1)])"
   ]
  },
  {
   "cell_type": "code",
   "execution_count": 112,
   "id": "928cd54f-16ac-478a-a562-727336c73580",
   "metadata": {},
   "outputs": [],
   "source": [
    "## Text learner automatically adds cbs for us\n",
    "learn = TextLearner(dls, LMModel7(len(vocab), 64, 2, 0.4),\n",
    "                    loss_func = CrossEntropyLossFlat(), metrics = accuracy)"
   ]
  },
  {
   "cell_type": "code",
   "execution_count": 113,
   "id": "91990561-5911-4f87-a1e4-58053033263d",
   "metadata": {},
   "outputs": [
    {
     "data": {
      "text/html": [
       "<table border=\"1\" class=\"dataframe\">\n",
       "  <thead>\n",
       "    <tr style=\"text-align: left;\">\n",
       "      <th>epoch</th>\n",
       "      <th>train_loss</th>\n",
       "      <th>valid_loss</th>\n",
       "      <th>accuracy</th>\n",
       "      <th>time</th>\n",
       "    </tr>\n",
       "  </thead>\n",
       "  <tbody>\n",
       "    <tr>\n",
       "      <td>0</td>\n",
       "      <td>2.512929</td>\n",
       "      <td>2.016880</td>\n",
       "      <td>0.506836</td>\n",
       "      <td>00:03</td>\n",
       "    </tr>\n",
       "    <tr>\n",
       "      <td>1</td>\n",
       "      <td>1.564199</td>\n",
       "      <td>1.379075</td>\n",
       "      <td>0.599935</td>\n",
       "      <td>00:03</td>\n",
       "    </tr>\n",
       "    <tr>\n",
       "      <td>2</td>\n",
       "      <td>0.840838</td>\n",
       "      <td>0.853399</td>\n",
       "      <td>0.773682</td>\n",
       "      <td>00:03</td>\n",
       "    </tr>\n",
       "    <tr>\n",
       "      <td>3</td>\n",
       "      <td>0.416019</td>\n",
       "      <td>0.959748</td>\n",
       "      <td>0.808024</td>\n",
       "      <td>00:03</td>\n",
       "    </tr>\n",
       "    <tr>\n",
       "      <td>4</td>\n",
       "      <td>0.208302</td>\n",
       "      <td>0.911576</td>\n",
       "      <td>0.816895</td>\n",
       "      <td>00:03</td>\n",
       "    </tr>\n",
       "    <tr>\n",
       "      <td>5</td>\n",
       "      <td>0.113943</td>\n",
       "      <td>0.841154</td>\n",
       "      <td>0.822184</td>\n",
       "      <td>00:03</td>\n",
       "    </tr>\n",
       "    <tr>\n",
       "      <td>6</td>\n",
       "      <td>0.069178</td>\n",
       "      <td>0.892808</td>\n",
       "      <td>0.838053</td>\n",
       "      <td>00:03</td>\n",
       "    </tr>\n",
       "    <tr>\n",
       "      <td>7</td>\n",
       "      <td>0.044836</td>\n",
       "      <td>0.890409</td>\n",
       "      <td>0.842285</td>\n",
       "      <td>00:03</td>\n",
       "    </tr>\n",
       "    <tr>\n",
       "      <td>8</td>\n",
       "      <td>0.032113</td>\n",
       "      <td>0.829500</td>\n",
       "      <td>0.836914</td>\n",
       "      <td>00:03</td>\n",
       "    </tr>\n",
       "    <tr>\n",
       "      <td>9</td>\n",
       "      <td>0.025212</td>\n",
       "      <td>0.775771</td>\n",
       "      <td>0.852865</td>\n",
       "      <td>00:03</td>\n",
       "    </tr>\n",
       "    <tr>\n",
       "      <td>10</td>\n",
       "      <td>0.021318</td>\n",
       "      <td>0.760197</td>\n",
       "      <td>0.845866</td>\n",
       "      <td>00:03</td>\n",
       "    </tr>\n",
       "    <tr>\n",
       "      <td>11</td>\n",
       "      <td>0.017681</td>\n",
       "      <td>0.791093</td>\n",
       "      <td>0.847900</td>\n",
       "      <td>00:03</td>\n",
       "    </tr>\n",
       "    <tr>\n",
       "      <td>12</td>\n",
       "      <td>0.014933</td>\n",
       "      <td>0.850643</td>\n",
       "      <td>0.845947</td>\n",
       "      <td>00:03</td>\n",
       "    </tr>\n",
       "    <tr>\n",
       "      <td>13</td>\n",
       "      <td>0.012723</td>\n",
       "      <td>0.836793</td>\n",
       "      <td>0.847249</td>\n",
       "      <td>00:03</td>\n",
       "    </tr>\n",
       "    <tr>\n",
       "      <td>14</td>\n",
       "      <td>0.011568</td>\n",
       "      <td>0.831030</td>\n",
       "      <td>0.846436</td>\n",
       "      <td>00:03</td>\n",
       "    </tr>\n",
       "  </tbody>\n",
       "</table>"
      ],
      "text/plain": [
       "<IPython.core.display.HTML object>"
      ]
     },
     "metadata": {},
     "output_type": "display_data"
    }
   ],
   "source": [
    "learn.fit_one_cycle(15, 1e-2, wd = 0.1)"
   ]
  },
  {
   "cell_type": "code",
   "execution_count": null,
   "id": "6fdbca84-7e35-4ebf-a1fe-39f1c2750b00",
   "metadata": {},
   "outputs": [],
   "source": []
  }
 ],
 "metadata": {
  "kernelspec": {
   "display_name": "Python 3",
   "language": "python",
   "name": "python3"
  },
  "language_info": {
   "codemirror_mode": {
    "name": "ipython",
    "version": 3
   },
   "file_extension": ".py",
   "mimetype": "text/x-python",
   "name": "python",
   "nbconvert_exporter": "python",
   "pygments_lexer": "ipython3",
   "version": "3.8.10"
  }
 },
 "nbformat": 4,
 "nbformat_minor": 5
}
