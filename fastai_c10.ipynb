{
 "cells": [
  {
   "cell_type": "code",
   "execution_count": 1,
   "id": "8d682853-6721-4d40-9a9e-63e530277921",
   "metadata": {},
   "outputs": [],
   "source": [
    "import fastai\n",
    "from fastai.text.all import *\n",
    "from pathlib import Path"
   ]
  },
  {
   "cell_type": "code",
   "execution_count": 2,
   "id": "1485c75c-c108-42f2-92c2-d1fdef41d0dc",
   "metadata": {},
   "outputs": [
    {
     "name": "stdout",
     "output_type": "stream",
     "text": [
      "CPU times: user 0 ns, sys: 3.75 ms, total: 3.75 ms\n",
      "Wall time: 3.19 ms\n"
     ]
    }
   ],
   "source": [
    "%%time\n",
    "path = untar_data(URLs.IMDB)"
   ]
  },
  {
   "cell_type": "code",
   "execution_count": 3,
   "id": "17288ce7-f774-4330-ae42-fa17ccf8a12b",
   "metadata": {},
   "outputs": [
    {
     "data": {
      "text/plain": [
       "Path('/home/.fastai/data/imdb')"
      ]
     },
     "execution_count": 3,
     "metadata": {},
     "output_type": "execute_result"
    }
   ],
   "source": [
    "path"
   ]
  },
  {
   "cell_type": "code",
   "execution_count": 4,
   "id": "4f43d55e-ddb9-4eae-8fd4-73dff7a302c5",
   "metadata": {},
   "outputs": [
    {
     "name": "stdout",
     "output_type": "stream",
     "text": [
      "CPU times: user 1.06 s, sys: 75.5 ms, total: 1.14 s\n",
      "Wall time: 1.14 s\n"
     ]
    }
   ],
   "source": [
    "%%time\n",
    "files = get_text_files(path, folders = ['train', 'test', 'unsup'])"
   ]
  },
  {
   "cell_type": "code",
   "execution_count": 5,
   "id": "2a1fb5ca-b664-4b70-8a55-5ebf9899dfbf",
   "metadata": {},
   "outputs": [
    {
     "data": {
      "text/plain": [
       "(#100000) [Path('/home/.fastai/data/imdb/test/neg/6201_1.txt'),Path('/home/.fastai/data/imdb/test/neg/11881_2.txt'),Path('/home/.fastai/data/imdb/test/neg/11690_1.txt'),Path('/home/.fastai/data/imdb/test/neg/7300_1.txt'),Path('/home/.fastai/data/imdb/test/neg/2931_1.txt'),Path('/home/.fastai/data/imdb/test/neg/11165_4.txt'),Path('/home/.fastai/data/imdb/test/neg/1026_2.txt'),Path('/home/.fastai/data/imdb/test/neg/11499_3.txt'),Path('/home/.fastai/data/imdb/test/neg/3201_1.txt'),Path('/home/.fastai/data/imdb/test/neg/429_3.txt')...]"
      ]
     },
     "execution_count": 5,
     "metadata": {},
     "output_type": "execute_result"
    }
   ],
   "source": [
    "files"
   ]
  },
  {
   "cell_type": "code",
   "execution_count": 6,
   "id": "7217c1a3-bf18-407a-9dd8-ca9665df9451",
   "metadata": {},
   "outputs": [
    {
     "data": {
      "text/plain": [
       "\"I didn't know what to expect when I started watching this movie, by the end\""
      ]
     },
     "execution_count": 6,
     "metadata": {},
     "output_type": "execute_result"
    }
   ],
   "source": [
    "txt = files[0].open().read(); txt[:75]"
   ]
  },
  {
   "cell_type": "code",
   "execution_count": 7,
   "id": "45e8415d-dfb0-4804-9ab3-8e02f53772a7",
   "metadata": {},
   "outputs": [
    {
     "data": {
      "text/plain": [
       "\"I didn't know what to expect when I started watching this movie, by the end of it I was pulling my hairs out. This was one of the most pathetic movies of this year...in fact, in the last ten years. David Dhawan should just give up his career as a director. I am yet to come across one original script that David Dhawan has worked on. This one was a complete bit y bit rip off Hitch. I have nothing against remakes as such, but this one is just so lousy that it makes you even hate the original one (which was pretty decent). I fail to understand what actors like Salman and Govinda saw in this script. I read somewhere, that this was supposed to be Govinda's comeback vehicle. If thats true, then only God can save his career. Salman just overacted to the hilt. Govinda who I think is an actor of very high caliber was completely wasted. Katrina Kaif and LAra Dutta had nothing to do apart form wearing designer clothes and smiling for no rhyme or reason. Please stay away form this one!\""
      ]
     },
     "execution_count": 7,
     "metadata": {},
     "output_type": "execute_result"
    }
   ],
   "source": [
    "txt"
   ]
  },
  {
   "cell_type": "code",
   "execution_count": 8,
   "id": "ef2bf9b8-54ed-42b1-9811-a8c6c7e018c0",
   "metadata": {},
   "outputs": [
    {
     "name": "stdout",
     "output_type": "stream",
     "text": [
      "(#212) ['I','did',\"n't\",'know','what','to','expect','when','I','started','watching','this','movie',',','by','the','end','of','it','I','was','pulling','my','hairs','out','.','This','was','one','of'...]\n",
      "CPU times: user 253 ms, sys: 3.77 ms, total: 256 ms\n",
      "Wall time: 258 ms\n"
     ]
    }
   ],
   "source": [
    "%%time\n",
    "spacy = WordTokenizer()\n",
    "toks = first(spacy([txt]))\n",
    "\n",
    "print (coll_repr(toks, 30))"
   ]
  },
  {
   "cell_type": "code",
   "execution_count": 9,
   "id": "ef8ec18e-62a5-4c94-9ecc-801789b794a5",
   "metadata": {},
   "outputs": [
    {
     "data": {
      "text/plain": [
       "(#9) ['The','U.S.','dollar','$','1','is','$','1.00','.']"
      ]
     },
     "execution_count": 9,
     "metadata": {},
     "output_type": "execute_result"
    }
   ],
   "source": [
    "first(spacy(['The U.S. dollar $1 is $1.00.']))"
   ]
  },
  {
   "cell_type": "code",
   "execution_count": 10,
   "id": "3550c6d7-3b0a-4773-af56-d37afb1a8bea",
   "metadata": {},
   "outputs": [
    {
     "name": "stdout",
     "output_type": "stream",
     "text": [
      "(#231) ['xxbos','i','did',\"n't\",'know','what','to','expect','when','i','started','watching','this','movie',',','by','the','end','of','it','i','was','pulling','my','hairs','out','.','xxmaj','this','was','one'...]\n"
     ]
    }
   ],
   "source": [
    "tkn = Tokenizer(spacy)\n",
    "print (coll_repr(tkn(txt), 31))"
   ]
  },
  {
   "cell_type": "code",
   "execution_count": 11,
   "id": "05d6f601-ff42-4ba4-95f0-5ae265dcb0c5",
   "metadata": {},
   "outputs": [
    {
     "data": {
      "text/plain": [
       "[<function fastai.text.core.fix_html(x)>,\n",
       " <function fastai.text.core.replace_rep(t)>,\n",
       " <function fastai.text.core.replace_wrep(t)>,\n",
       " <function fastai.text.core.spec_add_spaces(t)>,\n",
       " <function fastai.text.core.rm_useless_spaces(t)>,\n",
       " <function fastai.text.core.replace_all_caps(t)>,\n",
       " <function fastai.text.core.replace_maj(t)>,\n",
       " <function fastai.text.core.lowercase(t, add_bos=True, add_eos=False)>]"
      ]
     },
     "execution_count": 11,
     "metadata": {},
     "output_type": "execute_result"
    }
   ],
   "source": [
    "defaults.text_proc_rules"
   ]
  },
  {
   "cell_type": "code",
   "execution_count": 12,
   "id": "33f9d80f-e3e0-4473-92ac-6000cfdd9a83",
   "metadata": {},
   "outputs": [
    {
     "data": {
      "text/plain": [
       "\u001b[0;31mSignature:\u001b[0m \u001b[0mreplace_rep\u001b[0m\u001b[0;34m(\u001b[0m\u001b[0mt\u001b[0m\u001b[0;34m)\u001b[0m\u001b[0;34m\u001b[0m\u001b[0;34m\u001b[0m\u001b[0m\n",
       "\u001b[0;31mSource:\u001b[0m   \n",
       "\u001b[0;32mdef\u001b[0m \u001b[0mreplace_rep\u001b[0m\u001b[0;34m(\u001b[0m\u001b[0mt\u001b[0m\u001b[0;34m)\u001b[0m\u001b[0;34m:\u001b[0m\u001b[0;34m\u001b[0m\n",
       "\u001b[0;34m\u001b[0m    \u001b[0;34m\"Replace repetitions at the character level: cccc -- TK_REP 4 c\"\u001b[0m\u001b[0;34m\u001b[0m\n",
       "\u001b[0;34m\u001b[0m    \u001b[0;32mdef\u001b[0m \u001b[0m_replace_rep\u001b[0m\u001b[0;34m(\u001b[0m\u001b[0mm\u001b[0m\u001b[0;34m)\u001b[0m\u001b[0;34m:\u001b[0m\u001b[0;34m\u001b[0m\n",
       "\u001b[0;34m\u001b[0m        \u001b[0mc\u001b[0m\u001b[0;34m,\u001b[0m\u001b[0mcc\u001b[0m \u001b[0;34m=\u001b[0m \u001b[0mm\u001b[0m\u001b[0;34m.\u001b[0m\u001b[0mgroups\u001b[0m\u001b[0;34m(\u001b[0m\u001b[0;34m)\u001b[0m\u001b[0;34m\u001b[0m\n",
       "\u001b[0;34m\u001b[0m        \u001b[0;32mreturn\u001b[0m \u001b[0;34mf' {TK_REP} {len(cc)+1} {c} '\u001b[0m\u001b[0;34m\u001b[0m\n",
       "\u001b[0;34m\u001b[0m    \u001b[0;32mreturn\u001b[0m \u001b[0m_re_rep\u001b[0m\u001b[0;34m.\u001b[0m\u001b[0msub\u001b[0m\u001b[0;34m(\u001b[0m\u001b[0m_replace_rep\u001b[0m\u001b[0;34m,\u001b[0m \u001b[0mt\u001b[0m\u001b[0;34m)\u001b[0m\u001b[0;34m\u001b[0m\u001b[0;34m\u001b[0m\u001b[0m\n",
       "\u001b[0;31mFile:\u001b[0m      /opt/conda/lib/python3.8/site-packages/fastai/text/core.py\n",
       "\u001b[0;31mType:\u001b[0m      function\n"
      ]
     },
     "metadata": {},
     "output_type": "display_data"
    }
   ],
   "source": [
    "??replace_rep"
   ]
  },
  {
   "cell_type": "code",
   "execution_count": 13,
   "id": "1394e0f0-275b-4a62-889c-1ff410d9fab5",
   "metadata": {},
   "outputs": [
    {
     "data": {
      "text/plain": [
       "\"(#11) ['xxbos','©','xxmaj','fast.ai','xxrep','3','w','.fast.ai','/','xxup','index']\""
      ]
     },
     "execution_count": 13,
     "metadata": {},
     "output_type": "execute_result"
    }
   ],
   "source": [
    "coll_repr(tkn('&copy;     Fast.ai www.fast.ai/INDEX'), 31)"
   ]
  },
  {
   "cell_type": "code",
   "execution_count": 14,
   "id": "f7cc6f3b-1f69-4a5c-a6c5-6a648bb99694",
   "metadata": {},
   "outputs": [],
   "source": [
    "txts = L(o.open().read() for o in files[:2000])"
   ]
  },
  {
   "cell_type": "code",
   "execution_count": 15,
   "id": "82faeef9-177d-4f4f-ad93-63417a63e0c2",
   "metadata": {},
   "outputs": [],
   "source": [
    "def subword(sz):\n",
    "    sp = SubwordTokenizer(vocab_sz = sz)\n",
    "    sp.setup(txts)\n",
    "    return ' '.join(first(sp([txt]))[:70])"
   ]
  },
  {
   "cell_type": "code",
   "execution_count": 16,
   "id": "465e0d38-aa11-4f82-8cc2-9b9ba217817e",
   "metadata": {},
   "outputs": [
    {
     "data": {
      "text/html": [],
      "text/plain": [
       "<IPython.core.display.HTML object>"
      ]
     },
     "metadata": {},
     "output_type": "display_data"
    },
    {
     "name": "stderr",
     "output_type": "stream",
     "text": [
      "sentencepiece_trainer.cc(177) LOG(INFO) Running command: --input=tmp/texts.out --vocab_size=1000 --model_prefix=tmp/spm --character_coverage=0.99999 --model_type=unigram --unk_id=9 --pad_id=-1 --bos_id=-1 --eos_id=-1 --minloglevel=2 --user_defined_symbols=▁xxunk,▁xxpad,▁xxbos,▁xxeos,▁xxfld,▁xxrep,▁xxwrep,▁xxup,▁xxmaj --hard_vocab_limit=false\n"
     ]
    },
    {
     "data": {
      "text/plain": [
       "\"▁I ▁didn ' t ▁know ▁what ▁to ▁expect ▁when ▁I ▁start ed ▁watching ▁this ▁movie , ▁by ▁the ▁end ▁of ▁it ▁I ▁was ▁p ul ling ▁my ▁ ha ir s ▁out . ▁This ▁was ▁one ▁of ▁the ▁most ▁pa the tic ▁movies ▁of ▁this ▁year ... in ▁fact , ▁in ▁the ▁last ▁t en ▁years . ▁Da v id ▁D ha w an ▁should ▁just ▁give ▁up ▁his ▁care\""
      ]
     },
     "execution_count": 16,
     "metadata": {},
     "output_type": "execute_result"
    }
   ],
   "source": [
    "subword(1000)"
   ]
  },
  {
   "cell_type": "code",
   "execution_count": 17,
   "id": "12cd9262-e3ef-46de-87de-1cb2c46f6074",
   "metadata": {},
   "outputs": [
    {
     "data": {
      "text/html": [],
      "text/plain": [
       "<IPython.core.display.HTML object>"
      ]
     },
     "metadata": {},
     "output_type": "display_data"
    },
    {
     "data": {
      "text/plain": [
       "\"▁I ▁d id n ' t ▁ k n o w ▁w h at ▁to ▁ e x p e c t ▁w h en ▁I ▁st ar t ed ▁w at ch ing ▁this ▁movie , ▁ b y ▁the ▁ en d ▁of ▁it ▁I ▁was ▁p u ll ing ▁ m y ▁h a ir s ▁ o u t . ▁ T h i s ▁was\""
      ]
     },
     "execution_count": 17,
     "metadata": {},
     "output_type": "execute_result"
    }
   ],
   "source": [
    "subword(200)"
   ]
  },
  {
   "cell_type": "code",
   "execution_count": 18,
   "id": "2237f16a-6f52-4d6f-ad3c-af286e09617d",
   "metadata": {},
   "outputs": [
    {
     "data": {
      "text/html": [],
      "text/plain": [
       "<IPython.core.display.HTML object>"
      ]
     },
     "metadata": {},
     "output_type": "display_data"
    },
    {
     "data": {
      "text/plain": [
       "\"▁I ▁didn ' t ▁know ▁what ▁to ▁expect ▁when ▁I ▁started ▁watching ▁this ▁movie , ▁by ▁the ▁end ▁of ▁it ▁I ▁was ▁pull ing ▁my ▁hair s ▁out . ▁This ▁was ▁one ▁of ▁the ▁most ▁pathetic ▁movies ▁of ▁this ▁year ... in ▁fact , ▁in ▁the ▁last ▁ten ▁years . ▁David ▁Dhawan ▁should ▁just ▁give ▁up ▁his ▁career ▁as ▁a ▁director . ▁I ▁am ▁yet ▁to ▁come ▁a cross ▁one\""
      ]
     },
     "execution_count": 18,
     "metadata": {},
     "output_type": "execute_result"
    }
   ],
   "source": [
    "subword(1000000)"
   ]
  },
  {
   "cell_type": "code",
   "execution_count": 19,
   "id": "372ae52a-ae16-4f90-8f53-153edad861ea",
   "metadata": {},
   "outputs": [],
   "source": [
    "## numericalization with fastai"
   ]
  },
  {
   "cell_type": "code",
   "execution_count": 20,
   "id": "08898689-231a-4e61-8370-e59692a4a38c",
   "metadata": {},
   "outputs": [
    {
     "name": "stdout",
     "output_type": "stream",
     "text": [
      "(#231) ['xxbos','i','did',\"n't\",'know','what','to','expect','when','i','started','watching','this','movie',',','by','the','end','of','it','i','was','pulling','my','hairs','out','.','xxmaj','this','was','one'...]\n"
     ]
    }
   ],
   "source": [
    "toks = tkn(txt)\n",
    "print (coll_repr(tkn(txt), 31))"
   ]
  },
  {
   "cell_type": "code",
   "execution_count": 21,
   "id": "60e026db-dd07-4d07-a75a-cd1f249ba669",
   "metadata": {},
   "outputs": [
    {
     "data": {
      "text/plain": [
       "(#231) ['xxbos','i','did',\"n't\",'know','what','to','expect','when','i'...]"
      ]
     },
     "execution_count": 21,
     "metadata": {},
     "output_type": "execute_result"
    }
   ],
   "source": [
    "toks200 = txts[:200].map(tkn)\n",
    "toks200[0]"
   ]
  },
  {
   "cell_type": "code",
   "execution_count": 22,
   "id": "e1ed94f9-d354-4fec-9402-c1d1efe7666e",
   "metadata": {},
   "outputs": [
    {
     "name": "stdout",
     "output_type": "stream",
     "text": [
      "['xxbos', 'i', 'did', \"n't\", 'know', 'what', 'to', 'expect', 'when', 'i', 'started', 'watching', 'this', 'movie', ',', 'by', 'the', 'end', 'of', 'it', 'i', 'was', 'pulling', 'my', 'hairs', 'out', '.', 'xxmaj', 'this', 'was', 'one', 'of', 'the', 'most', 'pathetic', 'movies', 'of', 'this', 'year', '…', 'in', 'fact', ',', 'in', 'the', 'last', 'ten', 'years', '.', 'xxmaj', 'david', 'xxmaj', 'dhawan', 'should', 'just', 'give', 'up', 'his', 'career', 'as', 'a', 'director', '.', 'i', 'am', 'yet', 'to', 'come', 'across', 'one', 'original', 'script', 'that', 'xxmaj', 'david', 'xxmaj', 'dhawan', 'has', 'worked', 'on', '.', 'xxmaj', 'this', 'one', 'was', 'a', 'complete', 'bit', 'y', 'bit', 'rip', 'off', 'xxmaj', 'hitch', '.', 'i', 'have', 'nothing', 'against', 'remakes', 'as', 'such', ',', 'but', 'this', 'one', 'is', 'just', 'so', 'lousy', 'that', 'it', 'makes', 'you', 'even', 'hate', 'the', 'original', 'one', '(', 'which', 'was', 'pretty', 'decent', ')', '.', 'i', 'fail', 'to', 'understand', 'what', 'actors', 'like', 'xxmaj', 'salman', 'and', 'xxmaj', 'govinda', 'saw', 'in', 'this', 'script', '.', 'i', 'read', 'somewhere', ',', 'that', 'this', 'was', 'supposed', 'to', 'be', 'xxmaj', 'govinda', \"'s\", 'comeback', 'vehicle', '.', 'xxmaj', 'if', 'that', 's', 'true', ',', 'then', 'only', 'xxmaj', 'god', 'can', 'save', 'his', 'career', '.', 'xxmaj', 'salman', 'just', 'overacted', 'to', 'the', 'hilt', '.', 'xxmaj', 'govinda', 'who', 'i', 'think', 'is', 'an', 'actor', 'of', 'very', 'high', 'caliber', 'was', 'completely', 'wasted', '.', 'xxmaj', 'katrina', 'xxmaj', 'kaif', 'and', 'lara', 'xxmaj', 'dutta', 'had', 'nothing', 'to', 'do', 'apart', 'form', 'wearing', 'designer', 'clothes', 'and', 'smiling', 'for', 'no', 'rhyme', 'or', 'reason', '.', 'xxmaj', 'please', 'stay', 'away', 'form', 'this', 'one', '!']\n"
     ]
    }
   ],
   "source": [
    "print (toks200[0])"
   ]
  },
  {
   "cell_type": "code",
   "execution_count": 23,
   "id": "ebed2542-7a8b-4cc8-8a6c-abdf6c525641",
   "metadata": {},
   "outputs": [
    {
     "data": {
      "text/plain": [
       "\"(#1880) ['xxunk','xxpad','xxbos','xxeos','xxfld','xxrep','xxwrep','xxup','xxmaj','the','.',',','a','of','and','to','is','it','i','this'...]\""
      ]
     },
     "execution_count": 23,
     "metadata": {},
     "output_type": "execute_result"
    }
   ],
   "source": [
    "num = Numericalize()\n",
    "num.setup(toks200)\n",
    "coll_repr(num.vocab, 20)"
   ]
  },
  {
   "cell_type": "code",
   "execution_count": 24,
   "id": "e9d12335-30c6-4a6a-9480-0e3308c2596e",
   "metadata": {},
   "outputs": [],
   "source": [
    "nums = num(toks)[:20]; num;"
   ]
  },
  {
   "cell_type": "code",
   "execution_count": 25,
   "id": "b6f01711-b5d6-4409-a7f9-5035eb161ee6",
   "metadata": {},
   "outputs": [
    {
     "data": {
      "text/plain": [
       "TensorText([  2,  18,  91,  33, 144,  62,  15, 452,  72,  18, 925, 151,  19,  27,\n",
       "         11,  68,   9, 135,  13,  17])"
      ]
     },
     "execution_count": 25,
     "metadata": {},
     "output_type": "execute_result"
    }
   ],
   "source": [
    "nums"
   ]
  },
  {
   "cell_type": "code",
   "execution_count": 26,
   "id": "ba17f82c-7bc7-4ef5-8720-d212f58f0904",
   "metadata": {},
   "outputs": [
    {
     "data": {
      "text/plain": [
       "\"xxbos i did n't know what to expect when i started watching this movie , by the end of it\""
      ]
     },
     "execution_count": 26,
     "metadata": {},
     "output_type": "execute_result"
    }
   ],
   "source": [
    "' '.join(num.vocab[o] for o in nums)"
   ]
  },
  {
   "cell_type": "code",
   "execution_count": 27,
   "id": "4a308683-7d23-4ff6-a926-b6a7e3fa373f",
   "metadata": {},
   "outputs": [
    {
     "data": {
      "text/plain": [
       "(#20) ['xxbos','i','did',\"n't\",'know','what','to','expect','when','i'...]"
      ]
     },
     "execution_count": 27,
     "metadata": {},
     "output_type": "execute_result"
    }
   ],
   "source": [
    "toks[:20]"
   ]
  },
  {
   "cell_type": "code",
   "execution_count": 28,
   "id": "2127df2d-26ed-4f72-b803-6eb2fb4fcd16",
   "metadata": {},
   "outputs": [],
   "source": [
    "nums200 = toks200.map(num)"
   ]
  },
  {
   "cell_type": "code",
   "execution_count": 29,
   "id": "fa3efdd3-2624-4d31-ad8c-2a043af9a4b1",
   "metadata": {},
   "outputs": [],
   "source": [
    "dl = LMDataLoader(nums200)"
   ]
  },
  {
   "cell_type": "code",
   "execution_count": 30,
   "id": "9691c3be-bdea-4c4e-87e4-ae0379cbfb28",
   "metadata": {},
   "outputs": [
    {
     "data": {
      "text/plain": [
       "(torch.Size([64, 72]), torch.Size([64, 72]))"
      ]
     },
     "execution_count": 30,
     "metadata": {},
     "output_type": "execute_result"
    }
   ],
   "source": [
    "x,y = first(dl)\n",
    "x.shape, y.shape"
   ]
  },
  {
   "cell_type": "code",
   "execution_count": 31,
   "id": "8b756c43-e854-4ede-805d-7b8364eb4c1d",
   "metadata": {},
   "outputs": [
    {
     "data": {
      "text/plain": [
       "\"xxbos i did n't know what to expect when i started watching this movie , by the end of it\""
      ]
     },
     "execution_count": 31,
     "metadata": {},
     "output_type": "execute_result"
    }
   ],
   "source": [
    "' '.join(num.vocab[o] for o in x[0][:20])"
   ]
  },
  {
   "cell_type": "code",
   "execution_count": 32,
   "id": "962b2004-61fe-42fc-a1f1-b063aa1e7a4c",
   "metadata": {},
   "outputs": [
    {
     "data": {
      "text/plain": [
       "\"i did n't know what to expect when i started watching this movie , by the end of it i\""
      ]
     },
     "execution_count": 32,
     "metadata": {},
     "output_type": "execute_result"
    }
   ],
   "source": [
    "' '.join(num.vocab[o] for o in y[0][:20])"
   ]
  },
  {
   "cell_type": "code",
   "execution_count": 33,
   "id": "551c28a3-ea35-411a-b726-fab673943fd8",
   "metadata": {},
   "outputs": [],
   "source": [
    "## language model using datablock"
   ]
  },
  {
   "cell_type": "code",
   "execution_count": 34,
   "id": "0be7c8f0-8da5-42a1-b961-415a2b61d504",
   "metadata": {},
   "outputs": [],
   "source": [
    "get_imdb = partial(get_text_files, folders = ['train', 'test', 'unsup'])"
   ]
  },
  {
   "cell_type": "code",
   "execution_count": 35,
   "id": "5224a412-51a7-4910-9836-78d096319b7b",
   "metadata": {},
   "outputs": [],
   "source": [
    "dls_lm = DataBlock(blocks = TextBlock.from_folder(path, is_lm = True),\n",
    "                   get_items = get_imdb, splitter = RandomSplitter(0.1)).dataloaders(path, path = path, bs = 128, seq_len = 80)"
   ]
  },
  {
   "cell_type": "code",
   "execution_count": 36,
   "id": "4e7d885b-ee0c-474d-b64e-d6b02be03726",
   "metadata": {},
   "outputs": [
    {
     "data": {
      "text/html": [
       "<table border=\"1\" class=\"dataframe\">\n",
       "  <thead>\n",
       "    <tr style=\"text-align: right;\">\n",
       "      <th></th>\n",
       "      <th>text</th>\n",
       "      <th>text_</th>\n",
       "    </tr>\n",
       "  </thead>\n",
       "  <tbody>\n",
       "    <tr>\n",
       "      <th>0</th>\n",
       "      <td>xxbos xxmaj though i was a kid when \" looker \" came out . xxmaj you got ta absorb yourself into the world of science xxunk - fi ) . xxmaj albert xxunk \" , \" shoot xxmaj the xxmaj moon \" ) , xxmaj susan xxunk xxmaj partridge xxmaj family \" , \" la xxmaj law \" ) , xxmaj james xxmaj coburn , xxmaj dorian xxmaj harewood , and others make of a very fine cast of characters</td>\n",
       "      <td>xxmaj though i was a kid when \" looker \" came out . xxmaj you got ta absorb yourself into the world of science xxunk - fi ) . xxmaj albert xxunk \" , \" shoot xxmaj the xxmaj moon \" ) , xxmaj susan xxunk xxmaj partridge xxmaj family \" , \" la xxmaj law \" ) , xxmaj james xxmaj coburn , xxmaj dorian xxmaj harewood , and others make of a very fine cast of characters in</td>\n",
       "    </tr>\n",
       "    <tr>\n",
       "      <th>1</th>\n",
       "      <td>as i said , the plot is simple . xxmaj everything else is plain odd . xxmaj the direction is odd , with a weird rotating opening shot to out - of - nowhere sped up sequences . xxmaj the dialouge and the acting is very odd ; odd in a rambling sort of way . xxmaj and the sound track is the oddest thing in the movie , from the weird \" envy \" song that keeps on reappearing</td>\n",
       "      <td>i said , the plot is simple . xxmaj everything else is plain odd . xxmaj the direction is odd , with a weird rotating opening shot to out - of - nowhere sped up sequences . xxmaj the dialouge and the acting is very odd ; odd in a rambling sort of way . xxmaj and the sound track is the oddest thing in the movie , from the weird \" envy \" song that keeps on reappearing to</td>\n",
       "    </tr>\n",
       "    <tr>\n",
       "      <th>2</th>\n",
       "      <td>indigo kids or feeling spiritually up - lifted … or any of the things the xxmaj producer , xxmaj stephen xxmaj simon , said the film was going to do . xxmaj that 's perhaps their biggest mistake … creating an expectation they did n't deliver on . \\n\\n xxmaj also , if xxmaj stephen had used the adjective \" extraordinary \" one more time ( i counted at least 6 times ) to describe the film , i would</td>\n",
       "      <td>kids or feeling spiritually up - lifted … or any of the things the xxmaj producer , xxmaj stephen xxmaj simon , said the film was going to do . xxmaj that 's perhaps their biggest mistake … creating an expectation they did n't deliver on . \\n\\n xxmaj also , if xxmaj stephen had used the adjective \" extraordinary \" one more time ( i counted at least 6 times ) to describe the film , i would have</td>\n",
       "    </tr>\n",
       "  </tbody>\n",
       "</table>"
      ],
      "text/plain": [
       "<IPython.core.display.HTML object>"
      ]
     },
     "metadata": {},
     "output_type": "display_data"
    }
   ],
   "source": [
    "dls_lm.show_batch(max_n = 3)"
   ]
  },
  {
   "cell_type": "code",
   "execution_count": 37,
   "id": "5249688c-c5d1-43ee-acd1-3a80efca5231",
   "metadata": {},
   "outputs": [],
   "source": [
    "learn = language_model_learner(dls_lm, AWD_LSTM, drop_mult = 0.3,\n",
    "                               metrics = [accuracy, Perplexity()]).to_fp16()"
   ]
  },
  {
   "cell_type": "code",
   "execution_count": 38,
   "id": "a997cfc9-25ac-4b3c-89ea-2def15b6f9ac",
   "metadata": {},
   "outputs": [],
   "source": [
    "#perplexity = exponential of the loss function"
   ]
  },
  {
   "cell_type": "code",
   "execution_count": 40,
   "id": "beeccecb-48eb-4a19-859f-d882e676f1e4",
   "metadata": {},
   "outputs": [
    {
     "data": {
      "text/html": [
       "<table border=\"1\" class=\"dataframe\">\n",
       "  <thead>\n",
       "    <tr style=\"text-align: left;\">\n",
       "      <th>epoch</th>\n",
       "      <th>train_loss</th>\n",
       "      <th>valid_loss</th>\n",
       "      <th>accuracy</th>\n",
       "      <th>perplexity</th>\n",
       "      <th>time</th>\n",
       "    </tr>\n",
       "  </thead>\n",
       "  <tbody>\n",
       "    <tr>\n",
       "      <td>0</td>\n",
       "      <td>3.999691</td>\n",
       "      <td>3.904979</td>\n",
       "      <td>0.300210</td>\n",
       "      <td>49.649036</td>\n",
       "      <td>13:55</td>\n",
       "    </tr>\n",
       "  </tbody>\n",
       "</table>"
      ],
      "text/plain": [
       "<IPython.core.display.HTML object>"
      ]
     },
     "metadata": {},
     "output_type": "display_data"
    },
    {
     "name": "stdout",
     "output_type": "stream",
     "text": [
      "CPU times: user 13min 46s, sys: 10.9 s, total: 13min 57s\n",
      "Wall time: 13min 55s\n"
     ]
    }
   ],
   "source": [
    "%%time\n",
    "learn.fit_one_cycle(1, 2e-2)"
   ]
  },
  {
   "cell_type": "code",
   "execution_count": 41,
   "id": "707ea53d-8627-409e-ab5b-38971e5b0455",
   "metadata": {},
   "outputs": [
    {
     "data": {
      "text/plain": [
       "Path('/home/.fastai/data/imdb/models/1epoch.pth')"
      ]
     },
     "execution_count": 41,
     "metadata": {},
     "output_type": "execute_result"
    }
   ],
   "source": [
    "learn.save('1epoch')"
   ]
  },
  {
   "cell_type": "code",
   "execution_count": 43,
   "id": "5bec6e9a-a839-4653-b371-db05a53bdd02",
   "metadata": {},
   "outputs": [
    {
     "data": {
      "text/plain": [
       "Path('/home/.fastai/data/imdb')"
      ]
     },
     "execution_count": 43,
     "metadata": {},
     "output_type": "execute_result"
    }
   ],
   "source": [
    "learn.path"
   ]
  },
  {
   "cell_type": "code",
   "execution_count": 44,
   "id": "2b951cfb-18ef-4534-a5eb-f1a89378fa0f",
   "metadata": {},
   "outputs": [],
   "source": [
    "model_path = Path.cwd()/\"models/\""
   ]
  },
  {
   "cell_type": "code",
   "execution_count": 45,
   "id": "7ee1d30e-6293-4255-8e0e-79bd28e32752",
   "metadata": {},
   "outputs": [],
   "source": [
    "learn.path = model_path"
   ]
  },
  {
   "cell_type": "code",
   "execution_count": 46,
   "id": "717d363d-3a3f-41ab-a250-7d7e9eb7f141",
   "metadata": {},
   "outputs": [
    {
     "data": {
      "text/plain": [
       "Path('/home/fastai_ch10/models/models/1epoch.pth')"
      ]
     },
     "execution_count": 46,
     "metadata": {},
     "output_type": "execute_result"
    }
   ],
   "source": [
    "learn.save(\"1epoch\")"
   ]
  },
  {
   "cell_type": "code",
   "execution_count": 47,
   "id": "906b0a37-483e-4a2f-a461-15759abab3db",
   "metadata": {},
   "outputs": [],
   "source": [
    "learn.unfreeze()"
   ]
  },
  {
   "cell_type": "code",
   "execution_count": 48,
   "id": "05bfa95c-0ce4-4586-9554-f7bd9109e290",
   "metadata": {},
   "outputs": [
    {
     "data": {
      "text/html": [
       "<table border=\"1\" class=\"dataframe\">\n",
       "  <thead>\n",
       "    <tr style=\"text-align: left;\">\n",
       "      <th>epoch</th>\n",
       "      <th>train_loss</th>\n",
       "      <th>valid_loss</th>\n",
       "      <th>accuracy</th>\n",
       "      <th>perplexity</th>\n",
       "      <th>time</th>\n",
       "    </tr>\n",
       "  </thead>\n",
       "  <tbody>\n",
       "    <tr>\n",
       "      <td>0</td>\n",
       "      <td>3.713475</td>\n",
       "      <td>3.706157</td>\n",
       "      <td>0.323179</td>\n",
       "      <td>40.697117</td>\n",
       "      <td>14:31</td>\n",
       "    </tr>\n",
       "    <tr>\n",
       "      <td>1</td>\n",
       "      <td>3.572263</td>\n",
       "      <td>3.624089</td>\n",
       "      <td>0.333019</td>\n",
       "      <td>37.490570</td>\n",
       "      <td>14:28</td>\n",
       "    </tr>\n",
       "  </tbody>\n",
       "</table>"
      ],
      "text/plain": [
       "<IPython.core.display.HTML object>"
      ]
     },
     "metadata": {},
     "output_type": "display_data"
    }
   ],
   "source": [
    "learn.fit_one_cycle(2, 2e-3)"
   ]
  },
  {
   "cell_type": "code",
   "execution_count": 49,
   "id": "8caed3dd-a2c2-4f12-b7b4-cb13638a0fc9",
   "metadata": {},
   "outputs": [],
   "source": [
    "learn.save_encoder('finetuned')"
   ]
  },
  {
   "cell_type": "code",
   "execution_count": 39,
   "id": "4cf25883-543e-4e48-a121-7af6acd46556",
   "metadata": {},
   "outputs": [],
   "source": [
    "## text generation"
   ]
  },
  {
   "cell_type": "code",
   "execution_count": 50,
   "id": "bdd34755-2699-4559-99aa-4c10faec103f",
   "metadata": {},
   "outputs": [],
   "source": [
    "## loading learner\n",
    "\n",
    "learn = learn.load(\"finetuned\", strict = False)"
   ]
  },
  {
   "cell_type": "code",
   "execution_count": 51,
   "id": "2c946892-dc3f-4d68-ae7e-267e65f18364",
   "metadata": {},
   "outputs": [
    {
     "data": {
      "text/html": [],
      "text/plain": [
       "<IPython.core.display.HTML object>"
      ]
     },
     "metadata": {},
     "output_type": "display_data"
    },
    {
     "data": {
      "text/html": [],
      "text/plain": [
       "<IPython.core.display.HTML object>"
      ]
     },
     "metadata": {},
     "output_type": "display_data"
    },
    {
     "name": "stdout",
     "output_type": "stream",
     "text": [
      "i liked this movie because he \" wanted to create a movie that would happen , but it would have to be more one - dimensional . He had to work on it . \" In his book Swedish Cinema ,\n",
      "i liked this movie because it was a bad work , and in it it was not a serious way to make an interesting movie , so it was not a film . As a result , the story of the film is not\n"
     ]
    }
   ],
   "source": [
    "TEXT = \"I liked this movie because\"\n",
    "N_WORDS = 40\n",
    "N_SENTENCES = 2\n",
    "preds = [learn.predict(TEXT, N_WORDS, temperature = 0.75)\n",
    "         for _ in range(N_SENTENCES)]\n",
    "\n",
    "print (\"\\n\".join(preds))"
   ]
  },
  {
   "cell_type": "code",
   "execution_count": 53,
   "id": "3bf82b0c-d876-447c-a3f3-ee82fc5ec5a3",
   "metadata": {},
   "outputs": [],
   "source": [
    "dls_clas = DataBlock(blocks = (TextBlock.from_folder(path, vocab = dls_lm.vocab), CategoryBlock),\n",
    "                     get_y = parent_label,\n",
    "                     get_items = partial(get_text_files, folders = ['train', 'test']),\n",
    "                     splitter = GrandparentSplitter(valid_name = 'test')).dataloaders(path, path = path, bs = 128,\n",
    "                                                                                      seq_len = 72)"
   ]
  },
  {
   "cell_type": "code",
   "execution_count": 54,
   "id": "06c0e7b7-e991-4dfd-8738-93896f0ed221",
   "metadata": {},
   "outputs": [
    {
     "data": {
      "text/html": [
       "<table border=\"1\" class=\"dataframe\">\n",
       "  <thead>\n",
       "    <tr style=\"text-align: right;\">\n",
       "      <th></th>\n",
       "      <th>text</th>\n",
       "      <th>category</th>\n",
       "    </tr>\n",
       "  </thead>\n",
       "  <tbody>\n",
       "    <tr>\n",
       "      <th>0</th>\n",
       "      <td>xxbos xxmaj match 1 : xxmaj tag xxmaj team xxmaj table xxmaj match xxmaj bubba xxmaj ray and xxmaj spike xxmaj dudley vs xxmaj eddie xxmaj guerrero and xxmaj chris xxmaj benoit xxmaj bubba xxmaj ray and xxmaj spike xxmaj dudley started things off with a xxmaj tag xxmaj team xxmaj table xxmaj match against xxmaj eddie xxmaj guerrero and xxmaj chris xxmaj benoit . xxmaj according to the rules of the match , both opponents have to go through tables in order to get the win . xxmaj benoit and xxmaj guerrero heated up early on by taking turns hammering first xxmaj spike and then xxmaj bubba xxmaj ray . a xxmaj german xxunk by xxmaj benoit to xxmaj bubba took the wind out of the xxmaj dudley brother . xxmaj spike tried to help his brother , but the referee restrained him while xxmaj benoit and xxmaj guerrero</td>\n",
       "      <td>pos</td>\n",
       "    </tr>\n",
       "    <tr>\n",
       "      <th>1</th>\n",
       "      <td>xxbos * * attention xxmaj spoilers * * \\n\\n xxmaj first of all , let me say that xxmaj rob xxmaj roy is one of the best films of the 90 's . xxmaj it was an amazing achievement for all those involved , especially the acting of xxmaj liam xxmaj neeson , xxmaj jessica xxmaj lange , xxmaj john xxmaj hurt , xxmaj brian xxmaj cox , and xxmaj tim xxmaj roth . xxmaj michael xxmaj canton xxmaj jones painted a wonderful portrait of the honor and dishonor that men can represent in themselves . xxmaj but alas … \\n\\n it constantly , and unfairly gets compared to \" braveheart \" . xxmaj these are two entirely different films , probably only similar in the fact that they are both about xxmaj scots in historical xxmaj scotland . xxmaj yet , this comparison frequently bothers me because it seems</td>\n",
       "      <td>pos</td>\n",
       "    </tr>\n",
       "    <tr>\n",
       "      <th>2</th>\n",
       "      <td>xxbos xxmaj some have praised _ xxunk _ as a xxmaj disney adventure for adults . i do n't think so -- at least not for thinking adults . \\n\\n xxmaj this script suggests a beginning as a live - action movie , that struck someone as the type of crap you can not sell to adults anymore . xxmaj the \" crack staff \" of many older adventure movies has been done well before , ( think _ the xxmaj dirty xxmaj dozen _ ) but _ atlantis _ represents one of the worse films in that motif . xxmaj the characters are weak . xxmaj even the background that each member trots out seems stock and awkward at best . xxmaj an xxup md / xxmaj medicine xxmaj man , a tomboy mechanic whose father always wanted sons , if we have not at least seen these before</td>\n",
       "      <td>neg</td>\n",
       "    </tr>\n",
       "  </tbody>\n",
       "</table>"
      ],
      "text/plain": [
       "<IPython.core.display.HTML object>"
      ]
     },
     "metadata": {},
     "output_type": "display_data"
    }
   ],
   "source": [
    "dls_clas.show_batch(max_n = 3)"
   ]
  },
  {
   "cell_type": "code",
   "execution_count": 55,
   "id": "cd0f4296-3caf-42d8-91e6-a59627448727",
   "metadata": {},
   "outputs": [],
   "source": [
    "nums_samp = toks200[:10].map(num)"
   ]
  },
  {
   "cell_type": "code",
   "execution_count": 56,
   "id": "4d541ef9-9cbb-4129-8e77-75e5c3e3db76",
   "metadata": {},
   "outputs": [
    {
     "data": {
      "text/plain": [
       "(#10) [231,260,148,335,137,363,155,299,145,60]"
      ]
     },
     "execution_count": 56,
     "metadata": {},
     "output_type": "execute_result"
    }
   ],
   "source": [
    "nums_samp.map(len)"
   ]
  },
  {
   "cell_type": "code",
   "execution_count": 57,
   "id": "49fd952c-9cc9-4196-a589-8496437b00e6",
   "metadata": {},
   "outputs": [],
   "source": [
    "learn = text_classifier_learner(dls_clas, AWD_LSTM, drop_mult = 0.5,\n",
    "                                metrics = accuracy).to_fp16()"
   ]
  },
  {
   "cell_type": "code",
   "execution_count": 60,
   "id": "ec789bb3-edf3-4ba6-bdd3-ef522c2453fd",
   "metadata": {},
   "outputs": [
    {
     "data": {
      "text/plain": [
       "Path('/home/.fastai/data/imdb')"
      ]
     },
     "execution_count": 60,
     "metadata": {},
     "output_type": "execute_result"
    }
   ],
   "source": [
    "learn.path"
   ]
  },
  {
   "cell_type": "code",
   "execution_count": 61,
   "id": "9cefe35f-b0e8-4c38-b594-2d9d73f56cbc",
   "metadata": {},
   "outputs": [],
   "source": [
    "model_path = Path.cwd()/\"models/\""
   ]
  },
  {
   "cell_type": "code",
   "execution_count": 62,
   "id": "786188b0-3f05-48af-a282-ebc8fcb2975d",
   "metadata": {},
   "outputs": [],
   "source": [
    "learn.path = model_path"
   ]
  },
  {
   "cell_type": "code",
   "execution_count": 63,
   "id": "1c2de7c7-ee4b-47a1-b656-227fbd7ec1c7",
   "metadata": {},
   "outputs": [],
   "source": [
    "learn = learn.load_encoder('finetuned')"
   ]
  },
  {
   "cell_type": "code",
   "execution_count": 64,
   "id": "ff429b71-3a74-441f-b665-83632917a93b",
   "metadata": {},
   "outputs": [
    {
     "data": {
      "text/html": [
       "<table border=\"1\" class=\"dataframe\">\n",
       "  <thead>\n",
       "    <tr style=\"text-align: left;\">\n",
       "      <th>epoch</th>\n",
       "      <th>train_loss</th>\n",
       "      <th>valid_loss</th>\n",
       "      <th>accuracy</th>\n",
       "      <th>time</th>\n",
       "    </tr>\n",
       "  </thead>\n",
       "  <tbody>\n",
       "    <tr>\n",
       "      <td>0</td>\n",
       "      <td>0.280186</td>\n",
       "      <td>0.208220</td>\n",
       "      <td>0.916880</td>\n",
       "      <td>00:35</td>\n",
       "    </tr>\n",
       "  </tbody>\n",
       "</table>"
      ],
      "text/plain": [
       "<IPython.core.display.HTML object>"
      ]
     },
     "metadata": {},
     "output_type": "display_data"
    }
   ],
   "source": [
    "learn.fit_one_cycle(1, 2e-2)"
   ]
  },
  {
   "cell_type": "code",
   "execution_count": 65,
   "id": "95f2a8bb-db1e-479f-b738-44415f82093f",
   "metadata": {},
   "outputs": [
    {
     "data": {
      "text/html": [
       "<table border=\"1\" class=\"dataframe\">\n",
       "  <thead>\n",
       "    <tr style=\"text-align: left;\">\n",
       "      <th>epoch</th>\n",
       "      <th>train_loss</th>\n",
       "      <th>valid_loss</th>\n",
       "      <th>accuracy</th>\n",
       "      <th>time</th>\n",
       "    </tr>\n",
       "  </thead>\n",
       "  <tbody>\n",
       "    <tr>\n",
       "      <td>0</td>\n",
       "      <td>0.243239</td>\n",
       "      <td>0.186518</td>\n",
       "      <td>0.927160</td>\n",
       "      <td>00:41</td>\n",
       "    </tr>\n",
       "  </tbody>\n",
       "</table>"
      ],
      "text/plain": [
       "<IPython.core.display.HTML object>"
      ]
     },
     "metadata": {},
     "output_type": "display_data"
    }
   ],
   "source": [
    "learn.freeze_to(-2)\n",
    "learn.fit_one_cycle(1, slice(1e-2/(2.6**4), 1e-2))"
   ]
  },
  {
   "cell_type": "code",
   "execution_count": 66,
   "id": "8a712df7-9f90-4d4c-bb50-68529a9af73b",
   "metadata": {},
   "outputs": [
    {
     "data": {
      "text/html": [
       "<table border=\"1\" class=\"dataframe\">\n",
       "  <thead>\n",
       "    <tr style=\"text-align: left;\">\n",
       "      <th>epoch</th>\n",
       "      <th>train_loss</th>\n",
       "      <th>valid_loss</th>\n",
       "      <th>accuracy</th>\n",
       "      <th>time</th>\n",
       "    </tr>\n",
       "  </thead>\n",
       "  <tbody>\n",
       "    <tr>\n",
       "      <td>0</td>\n",
       "      <td>0.196988</td>\n",
       "      <td>0.165861</td>\n",
       "      <td>0.936560</td>\n",
       "      <td>00:49</td>\n",
       "    </tr>\n",
       "  </tbody>\n",
       "</table>"
      ],
      "text/plain": [
       "<IPython.core.display.HTML object>"
      ]
     },
     "metadata": {},
     "output_type": "display_data"
    }
   ],
   "source": [
    "learn.freeze_to(-3)\n",
    "learn.fit_one_cycle(1, slice(5e-3/(2.6**4), 5e-3))"
   ]
  },
  {
   "cell_type": "code",
   "execution_count": 67,
   "id": "75ba7ffa-8c63-4a00-bffa-26d3105a88d7",
   "metadata": {},
   "outputs": [
    {
     "data": {
      "text/html": [
       "<table border=\"1\" class=\"dataframe\">\n",
       "  <thead>\n",
       "    <tr style=\"text-align: left;\">\n",
       "      <th>epoch</th>\n",
       "      <th>train_loss</th>\n",
       "      <th>valid_loss</th>\n",
       "      <th>accuracy</th>\n",
       "      <th>time</th>\n",
       "    </tr>\n",
       "  </thead>\n",
       "  <tbody>\n",
       "    <tr>\n",
       "      <td>0</td>\n",
       "      <td>0.165762</td>\n",
       "      <td>0.161472</td>\n",
       "      <td>0.939000</td>\n",
       "      <td>01:01</td>\n",
       "    </tr>\n",
       "    <tr>\n",
       "      <td>1</td>\n",
       "      <td>0.139669</td>\n",
       "      <td>0.162305</td>\n",
       "      <td>0.940280</td>\n",
       "      <td>01:01</td>\n",
       "    </tr>\n",
       "  </tbody>\n",
       "</table>"
      ],
      "text/plain": [
       "<IPython.core.display.HTML object>"
      ]
     },
     "metadata": {},
     "output_type": "display_data"
    }
   ],
   "source": [
    "learn.unfreeze()\n",
    "learn.fit_one_cycle(2, slice(1e-3/(2.6**4), 1e-3))"
   ]
  },
  {
   "cell_type": "code",
   "execution_count": null,
   "id": "cd8a99d0-4a15-445a-bb08-4ea31b5c1719",
   "metadata": {},
   "outputs": [],
   "source": []
  }
 ],
 "metadata": {
  "kernelspec": {
   "display_name": "Python 3 (ipykernel)",
   "language": "python",
   "name": "python3"
  },
  "language_info": {
   "codemirror_mode": {
    "name": "ipython",
    "version": 3
   },
   "file_extension": ".py",
   "mimetype": "text/x-python",
   "name": "python",
   "nbconvert_exporter": "python",
   "pygments_lexer": "ipython3",
   "version": "3.8.12"
  }
 },
 "nbformat": 4,
 "nbformat_minor": 5
}
