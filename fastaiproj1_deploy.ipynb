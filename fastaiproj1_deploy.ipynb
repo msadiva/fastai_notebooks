{
  "nbformat": 4,
  "nbformat_minor": 0,
  "metadata": {
    "colab": {
      "name": "fastaiproj1_deploy.ipynb",
      "provenance": [],
      "collapsed_sections": []
    },
    "kernelspec": {
      "name": "python3",
      "display_name": "Python 3"
    },
    "language_info": {
      "name": "python"
    },
    "accelerator": "GPU",
    "widgets": {
      "application/vnd.jupyter.widget-state+json": {
        "b5bae6afd3414e84b5b990f49a6016b0": {
          "model_module": "@jupyter-widgets/controls",
          "model_name": "FileUploadModel",
          "model_module_version": "1.5.0",
          "state": {
            "_view_name": "FileUploadView",
            "_counter": 3,
            "style": "IPY_MODEL_5d36f6e298454658bbfa9349269f6751",
            "_dom_classes": [],
            "description": "Upload",
            "multiple": false,
            "_model_name": "FileUploadModel",
            "data": [
              null
            ],
            "button_style": "",
            "_view_module": "@jupyter-widgets/controls",
            "_model_module_version": "1.5.0",
            "accept": "",
            "_view_count": null,
            "disabled": false,
            "_view_module_version": "1.5.0",
            "error": "",
            "description_tooltip": null,
            "metadata": [
              {
                "name": "images (1).jfif",
                "type": "image/jpeg",
                "size": 10325,
                "lastModified": 1637866701252
              }
            ],
            "_model_module": "@jupyter-widgets/controls",
            "layout": "IPY_MODEL_caab0d81ed4548a4b0ca40b2ffaa2bff",
            "icon": "upload"
          }
        },
        "5d36f6e298454658bbfa9349269f6751": {
          "model_module": "@jupyter-widgets/controls",
          "model_name": "ButtonStyleModel",
          "model_module_version": "1.5.0",
          "state": {
            "_view_name": "StyleView",
            "_model_name": "ButtonStyleModel",
            "_view_module": "@jupyter-widgets/base",
            "_model_module_version": "1.5.0",
            "_view_count": null,
            "button_color": null,
            "font_weight": "",
            "_view_module_version": "1.2.0",
            "_model_module": "@jupyter-widgets/controls"
          }
        },
        "caab0d81ed4548a4b0ca40b2ffaa2bff": {
          "model_module": "@jupyter-widgets/base",
          "model_name": "LayoutModel",
          "model_module_version": "1.2.0",
          "state": {
            "_view_name": "LayoutView",
            "grid_template_rows": null,
            "right": null,
            "justify_content": null,
            "_view_module": "@jupyter-widgets/base",
            "overflow": null,
            "_model_module_version": "1.2.0",
            "_view_count": null,
            "flex_flow": null,
            "width": null,
            "min_width": null,
            "border": null,
            "align_items": null,
            "bottom": null,
            "_model_module": "@jupyter-widgets/base",
            "top": null,
            "grid_column": null,
            "overflow_y": null,
            "overflow_x": null,
            "grid_auto_flow": null,
            "grid_area": null,
            "grid_template_columns": null,
            "flex": null,
            "_model_name": "LayoutModel",
            "justify_items": null,
            "grid_row": null,
            "max_height": null,
            "align_content": null,
            "visibility": null,
            "align_self": null,
            "height": null,
            "min_height": null,
            "padding": null,
            "grid_auto_rows": null,
            "grid_gap": null,
            "max_width": null,
            "order": null,
            "_view_module_version": "1.2.0",
            "grid_template_areas": null,
            "object_position": null,
            "object_fit": null,
            "grid_auto_columns": null,
            "margin": null,
            "display": null,
            "left": null
          }
        },
        "4909b57c5eda4a33a0980b14647fad7a": {
          "model_module": "@jupyter-widgets/output",
          "model_name": "OutputModel",
          "model_module_version": "1.0.0",
          "state": {
            "_view_name": "OutputView",
            "msg_id": "",
            "_dom_classes": [],
            "_model_name": "OutputModel",
            "outputs": [
              {
                "output_type": "display_data",
                "data": {
                  "image/png": "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\n",
                  "text/plain": "<PIL.Image.Image image mode=RGB size=128x65 at 0x7F90B6FB30D0>"
                },
                "metadata": {}
              }
            ],
            "_view_module": "@jupyter-widgets/output",
            "_model_module_version": "1.0.0",
            "_view_count": null,
            "_view_module_version": "1.0.0",
            "layout": "IPY_MODEL_142eceef9ae44184b73654527f84bdd9",
            "_model_module": "@jupyter-widgets/output"
          }
        },
        "142eceef9ae44184b73654527f84bdd9": {
          "model_module": "@jupyter-widgets/base",
          "model_name": "LayoutModel",
          "model_module_version": "1.2.0",
          "state": {
            "_view_name": "LayoutView",
            "grid_template_rows": null,
            "right": null,
            "justify_content": null,
            "_view_module": "@jupyter-widgets/base",
            "overflow": null,
            "_model_module_version": "1.2.0",
            "_view_count": null,
            "flex_flow": null,
            "width": null,
            "min_width": null,
            "border": null,
            "align_items": null,
            "bottom": null,
            "_model_module": "@jupyter-widgets/base",
            "top": null,
            "grid_column": null,
            "overflow_y": null,
            "overflow_x": null,
            "grid_auto_flow": null,
            "grid_area": null,
            "grid_template_columns": null,
            "flex": null,
            "_model_name": "LayoutModel",
            "justify_items": null,
            "grid_row": null,
            "max_height": null,
            "align_content": null,
            "visibility": null,
            "align_self": null,
            "height": null,
            "min_height": null,
            "padding": null,
            "grid_auto_rows": null,
            "grid_gap": null,
            "max_width": null,
            "order": null,
            "_view_module_version": "1.2.0",
            "grid_template_areas": null,
            "object_position": null,
            "object_fit": null,
            "grid_auto_columns": null,
            "margin": null,
            "display": null,
            "left": null
          }
        },
        "6c0209aa8db14cb3b9020e11f2274d52": {
          "model_module": "@jupyter-widgets/controls",
          "model_name": "LabelModel",
          "model_module_version": "1.5.0",
          "state": {
            "_view_name": "LabelView",
            "style": "IPY_MODEL_d830ba33f40749dda0236f918178b6c5",
            "_dom_classes": [],
            "description": "",
            "_model_name": "LabelModel",
            "placeholder": "​",
            "_view_module": "@jupyter-widgets/controls",
            "_model_module_version": "1.5.0",
            "value": "Prediction is proper with probability TensorBase([0.0021, 0.9979])",
            "_view_count": null,
            "_view_module_version": "1.5.0",
            "description_tooltip": null,
            "_model_module": "@jupyter-widgets/controls",
            "layout": "IPY_MODEL_e66925d4a9634dd3b2ebafe57cccab52"
          }
        },
        "d830ba33f40749dda0236f918178b6c5": {
          "model_module": "@jupyter-widgets/controls",
          "model_name": "DescriptionStyleModel",
          "model_module_version": "1.5.0",
          "state": {
            "_view_name": "StyleView",
            "_model_name": "DescriptionStyleModel",
            "description_width": "",
            "_view_module": "@jupyter-widgets/base",
            "_model_module_version": "1.5.0",
            "_view_count": null,
            "_view_module_version": "1.2.0",
            "_model_module": "@jupyter-widgets/controls"
          }
        },
        "e66925d4a9634dd3b2ebafe57cccab52": {
          "model_module": "@jupyter-widgets/base",
          "model_name": "LayoutModel",
          "model_module_version": "1.2.0",
          "state": {
            "_view_name": "LayoutView",
            "grid_template_rows": null,
            "right": null,
            "justify_content": null,
            "_view_module": "@jupyter-widgets/base",
            "overflow": null,
            "_model_module_version": "1.2.0",
            "_view_count": null,
            "flex_flow": null,
            "width": null,
            "min_width": null,
            "border": null,
            "align_items": null,
            "bottom": null,
            "_model_module": "@jupyter-widgets/base",
            "top": null,
            "grid_column": null,
            "overflow_y": null,
            "overflow_x": null,
            "grid_auto_flow": null,
            "grid_area": null,
            "grid_template_columns": null,
            "flex": null,
            "_model_name": "LayoutModel",
            "justify_items": null,
            "grid_row": null,
            "max_height": null,
            "align_content": null,
            "visibility": null,
            "align_self": null,
            "height": null,
            "min_height": null,
            "padding": null,
            "grid_auto_rows": null,
            "grid_gap": null,
            "max_width": null,
            "order": null,
            "_view_module_version": "1.2.0",
            "grid_template_areas": null,
            "object_position": null,
            "object_fit": null,
            "grid_auto_columns": null,
            "margin": null,
            "display": null,
            "left": null
          }
        },
        "01d36762992e483590c7808a7cf39e42": {
          "model_module": "@jupyter-widgets/controls",
          "model_name": "ButtonModel",
          "model_module_version": "1.5.0",
          "state": {
            "_view_name": "ButtonView",
            "style": "IPY_MODEL_159425fa62354381b5cbde7d533fd2d3",
            "_dom_classes": [],
            "description": "classify",
            "_model_name": "ButtonModel",
            "button_style": "",
            "_view_module": "@jupyter-widgets/controls",
            "_model_module_version": "1.5.0",
            "tooltip": "",
            "_view_count": null,
            "disabled": false,
            "_view_module_version": "1.5.0",
            "layout": "IPY_MODEL_bdca0e5966374e3988b9d576f9a62bd6",
            "_model_module": "@jupyter-widgets/controls",
            "icon": ""
          }
        },
        "159425fa62354381b5cbde7d533fd2d3": {
          "model_module": "@jupyter-widgets/controls",
          "model_name": "ButtonStyleModel",
          "model_module_version": "1.5.0",
          "state": {
            "_view_name": "StyleView",
            "_model_name": "ButtonStyleModel",
            "_view_module": "@jupyter-widgets/base",
            "_model_module_version": "1.5.0",
            "_view_count": null,
            "button_color": null,
            "font_weight": "",
            "_view_module_version": "1.2.0",
            "_model_module": "@jupyter-widgets/controls"
          }
        },
        "bdca0e5966374e3988b9d576f9a62bd6": {
          "model_module": "@jupyter-widgets/base",
          "model_name": "LayoutModel",
          "model_module_version": "1.2.0",
          "state": {
            "_view_name": "LayoutView",
            "grid_template_rows": null,
            "right": null,
            "justify_content": null,
            "_view_module": "@jupyter-widgets/base",
            "overflow": null,
            "_model_module_version": "1.2.0",
            "_view_count": null,
            "flex_flow": null,
            "width": null,
            "min_width": null,
            "border": null,
            "align_items": null,
            "bottom": null,
            "_model_module": "@jupyter-widgets/base",
            "top": null,
            "grid_column": null,
            "overflow_y": null,
            "overflow_x": null,
            "grid_auto_flow": null,
            "grid_area": null,
            "grid_template_columns": null,
            "flex": null,
            "_model_name": "LayoutModel",
            "justify_items": null,
            "grid_row": null,
            "max_height": null,
            "align_content": null,
            "visibility": null,
            "align_self": null,
            "height": null,
            "min_height": null,
            "padding": null,
            "grid_auto_rows": null,
            "grid_gap": null,
            "max_width": null,
            "order": null,
            "_view_module_version": "1.2.0",
            "grid_template_areas": null,
            "object_position": null,
            "object_fit": null,
            "grid_auto_columns": null,
            "margin": null,
            "display": null,
            "left": null
          }
        },
        "f54d06302a5d47f4ad5aba2b4b21e533": {
          "model_module": "@jupyter-widgets/controls",
          "model_name": "VBoxModel",
          "model_module_version": "1.5.0",
          "state": {
            "_view_name": "VBoxView",
            "_dom_classes": [],
            "_model_name": "VBoxModel",
            "_view_module": "@jupyter-widgets/controls",
            "_model_module_version": "1.5.0",
            "_view_count": null,
            "_view_module_version": "1.5.0",
            "box_style": "",
            "layout": "IPY_MODEL_61acafccd0d24b4a8dddb9f49ea732bc",
            "_model_module": "@jupyter-widgets/controls",
            "children": [
              "IPY_MODEL_367f632d0bab4730bebb87541209c9a1",
              "IPY_MODEL_b5bae6afd3414e84b5b990f49a6016b0",
              "IPY_MODEL_01d36762992e483590c7808a7cf39e42",
              "IPY_MODEL_4909b57c5eda4a33a0980b14647fad7a",
              "IPY_MODEL_6c0209aa8db14cb3b9020e11f2274d52"
            ]
          }
        },
        "61acafccd0d24b4a8dddb9f49ea732bc": {
          "model_module": "@jupyter-widgets/base",
          "model_name": "LayoutModel",
          "model_module_version": "1.2.0",
          "state": {
            "_view_name": "LayoutView",
            "grid_template_rows": null,
            "right": null,
            "justify_content": null,
            "_view_module": "@jupyter-widgets/base",
            "overflow": null,
            "_model_module_version": "1.2.0",
            "_view_count": null,
            "flex_flow": null,
            "width": null,
            "min_width": null,
            "border": null,
            "align_items": null,
            "bottom": null,
            "_model_module": "@jupyter-widgets/base",
            "top": null,
            "grid_column": null,
            "overflow_y": null,
            "overflow_x": null,
            "grid_auto_flow": null,
            "grid_area": null,
            "grid_template_columns": null,
            "flex": null,
            "_model_name": "LayoutModel",
            "justify_items": null,
            "grid_row": null,
            "max_height": null,
            "align_content": null,
            "visibility": null,
            "align_self": null,
            "height": null,
            "min_height": null,
            "padding": null,
            "grid_auto_rows": null,
            "grid_gap": null,
            "max_width": null,
            "order": null,
            "_view_module_version": "1.2.0",
            "grid_template_areas": null,
            "object_position": null,
            "object_fit": null,
            "grid_auto_columns": null,
            "margin": null,
            "display": null,
            "left": null
          }
        },
        "367f632d0bab4730bebb87541209c9a1": {
          "model_module": "@jupyter-widgets/controls",
          "model_name": "LabelModel",
          "model_module_version": "1.5.0",
          "state": {
            "_view_name": "LabelView",
            "style": "IPY_MODEL_f91b4c64f58042f380d262ee0d2185f2",
            "_dom_classes": [],
            "description": "",
            "_model_name": "LabelModel",
            "placeholder": "​",
            "_view_module": "@jupyter-widgets/controls",
            "_model_module_version": "1.5.0",
            "value": "Classify whether mask is worn properly",
            "_view_count": null,
            "_view_module_version": "1.5.0",
            "description_tooltip": null,
            "_model_module": "@jupyter-widgets/controls",
            "layout": "IPY_MODEL_cf300bece24a4a0a8649f84584e86885"
          }
        },
        "f91b4c64f58042f380d262ee0d2185f2": {
          "model_module": "@jupyter-widgets/controls",
          "model_name": "DescriptionStyleModel",
          "model_module_version": "1.5.0",
          "state": {
            "_view_name": "StyleView",
            "_model_name": "DescriptionStyleModel",
            "description_width": "",
            "_view_module": "@jupyter-widgets/base",
            "_model_module_version": "1.5.0",
            "_view_count": null,
            "_view_module_version": "1.2.0",
            "_model_module": "@jupyter-widgets/controls"
          }
        },
        "cf300bece24a4a0a8649f84584e86885": {
          "model_module": "@jupyter-widgets/base",
          "model_name": "LayoutModel",
          "model_module_version": "1.2.0",
          "state": {
            "_view_name": "LayoutView",
            "grid_template_rows": null,
            "right": null,
            "justify_content": null,
            "_view_module": "@jupyter-widgets/base",
            "overflow": null,
            "_model_module_version": "1.2.0",
            "_view_count": null,
            "flex_flow": null,
            "width": null,
            "min_width": null,
            "border": null,
            "align_items": null,
            "bottom": null,
            "_model_module": "@jupyter-widgets/base",
            "top": null,
            "grid_column": null,
            "overflow_y": null,
            "overflow_x": null,
            "grid_auto_flow": null,
            "grid_area": null,
            "grid_template_columns": null,
            "flex": null,
            "_model_name": "LayoutModel",
            "justify_items": null,
            "grid_row": null,
            "max_height": null,
            "align_content": null,
            "visibility": null,
            "align_self": null,
            "height": null,
            "min_height": null,
            "padding": null,
            "grid_auto_rows": null,
            "grid_gap": null,
            "max_width": null,
            "order": null,
            "_view_module_version": "1.2.0",
            "grid_template_areas": null,
            "object_position": null,
            "object_fit": null,
            "grid_auto_columns": null,
            "margin": null,
            "display": null,
            "left": null
          }
        }
      }
    }
  },
  "cells": [
    {
      "cell_type": "code",
      "metadata": {
        "colab": {
          "base_uri": "https://localhost:8080/"
        },
        "id": "e9X0bMY8WBha",
        "outputId": "7c19c3ba-9ef6-4831-f643-5039634889bb"
      },
      "source": [
        "! nvidia-smi"
      ],
      "execution_count": 1,
      "outputs": [
        {
          "output_type": "stream",
          "name": "stdout",
          "text": [
            "Thu Nov 25 18:25:11 2021       \n",
            "+-----------------------------------------------------------------------------+\n",
            "| NVIDIA-SMI 495.44       Driver Version: 460.32.03    CUDA Version: 11.2     |\n",
            "|-------------------------------+----------------------+----------------------+\n",
            "| GPU  Name        Persistence-M| Bus-Id        Disp.A | Volatile Uncorr. ECC |\n",
            "| Fan  Temp  Perf  Pwr:Usage/Cap|         Memory-Usage | GPU-Util  Compute M. |\n",
            "|                               |                      |               MIG M. |\n",
            "|===============================+======================+======================|\n",
            "|   0  Tesla K80           Off  | 00000000:00:04.0 Off |                    0 |\n",
            "| N/A   64C    P8    31W / 149W |      0MiB / 11441MiB |      0%      Default |\n",
            "|                               |                      |                  N/A |\n",
            "+-------------------------------+----------------------+----------------------+\n",
            "                                                                               \n",
            "+-----------------------------------------------------------------------------+\n",
            "| Processes:                                                                  |\n",
            "|  GPU   GI   CI        PID   Type   Process name                  GPU Memory |\n",
            "|        ID   ID                                                   Usage      |\n",
            "|=============================================================================|\n",
            "|  No running processes found                                                 |\n",
            "+-----------------------------------------------------------------------------+\n"
          ]
        }
      ]
    },
    {
      "cell_type": "code",
      "metadata": {
        "colab": {
          "base_uri": "https://localhost:8080/"
        },
        "id": "hXHUr2tEWbWq",
        "outputId": "404002bf-610a-40ce-afc4-22264cad285b"
      },
      "source": [
        "pip install fastai --upgrade"
      ],
      "execution_count": 2,
      "outputs": [
        {
          "output_type": "stream",
          "name": "stdout",
          "text": [
            "Requirement already satisfied: fastai in /usr/local/lib/python3.7/dist-packages (1.0.61)\n",
            "Collecting fastai\n",
            "  Downloading fastai-2.5.3-py3-none-any.whl (189 kB)\n",
            "\u001b[K     |████████████████████████████████| 189 kB 5.0 MB/s \n",
            "\u001b[?25hRequirement already satisfied: packaging in /usr/local/lib/python3.7/dist-packages (from fastai) (21.3)\n",
            "Requirement already satisfied: pyyaml in /usr/local/lib/python3.7/dist-packages (from fastai) (3.13)\n",
            "Requirement already satisfied: pandas in /usr/local/lib/python3.7/dist-packages (from fastai) (1.1.5)\n",
            "Requirement already satisfied: pip in /usr/local/lib/python3.7/dist-packages (from fastai) (21.1.3)\n",
            "Requirement already satisfied: scipy in /usr/local/lib/python3.7/dist-packages (from fastai) (1.4.1)\n",
            "Requirement already satisfied: pillow>6.0.0 in /usr/local/lib/python3.7/dist-packages (from fastai) (7.1.2)\n",
            "Requirement already satisfied: fastprogress>=0.2.4 in /usr/local/lib/python3.7/dist-packages (from fastai) (1.0.0)\n",
            "Requirement already satisfied: torch<1.11,>=1.7.0 in /usr/local/lib/python3.7/dist-packages (from fastai) (1.10.0+cu111)\n",
            "Requirement already satisfied: spacy<4 in /usr/local/lib/python3.7/dist-packages (from fastai) (2.2.4)\n",
            "Collecting fastcore<1.4,>=1.3.22\n",
            "  Downloading fastcore-1.3.27-py3-none-any.whl (56 kB)\n",
            "\u001b[K     |████████████████████████████████| 56 kB 4.5 MB/s \n",
            "\u001b[?25hRequirement already satisfied: scikit-learn in /usr/local/lib/python3.7/dist-packages (from fastai) (1.0.1)\n",
            "Requirement already satisfied: torchvision>=0.8.2 in /usr/local/lib/python3.7/dist-packages (from fastai) (0.11.1+cu111)\n",
            "Collecting fastdownload<2,>=0.0.5\n",
            "  Downloading fastdownload-0.0.5-py3-none-any.whl (13 kB)\n",
            "Requirement already satisfied: requests in /usr/local/lib/python3.7/dist-packages (from fastai) (2.23.0)\n",
            "Requirement already satisfied: matplotlib in /usr/local/lib/python3.7/dist-packages (from fastai) (3.2.2)\n",
            "Requirement already satisfied: numpy in /usr/local/lib/python3.7/dist-packages (from fastprogress>=0.2.4->fastai) (1.19.5)\n",
            "Requirement already satisfied: murmurhash<1.1.0,>=0.28.0 in /usr/local/lib/python3.7/dist-packages (from spacy<4->fastai) (1.0.6)\n",
            "Requirement already satisfied: catalogue<1.1.0,>=0.0.7 in /usr/local/lib/python3.7/dist-packages (from spacy<4->fastai) (1.0.0)\n",
            "Requirement already satisfied: wasabi<1.1.0,>=0.4.0 in /usr/local/lib/python3.7/dist-packages (from spacy<4->fastai) (0.8.2)\n",
            "Requirement already satisfied: blis<0.5.0,>=0.4.0 in /usr/local/lib/python3.7/dist-packages (from spacy<4->fastai) (0.4.1)\n",
            "Requirement already satisfied: cymem<2.1.0,>=2.0.2 in /usr/local/lib/python3.7/dist-packages (from spacy<4->fastai) (2.0.6)\n",
            "Requirement already satisfied: thinc==7.4.0 in /usr/local/lib/python3.7/dist-packages (from spacy<4->fastai) (7.4.0)\n",
            "Requirement already satisfied: setuptools in /usr/local/lib/python3.7/dist-packages (from spacy<4->fastai) (57.4.0)\n",
            "Requirement already satisfied: plac<1.2.0,>=0.9.6 in /usr/local/lib/python3.7/dist-packages (from spacy<4->fastai) (1.1.3)\n",
            "Requirement already satisfied: preshed<3.1.0,>=3.0.2 in /usr/local/lib/python3.7/dist-packages (from spacy<4->fastai) (3.0.6)\n",
            "Requirement already satisfied: tqdm<5.0.0,>=4.38.0 in /usr/local/lib/python3.7/dist-packages (from spacy<4->fastai) (4.62.3)\n",
            "Requirement already satisfied: srsly<1.1.0,>=1.0.2 in /usr/local/lib/python3.7/dist-packages (from spacy<4->fastai) (1.0.5)\n",
            "Requirement already satisfied: importlib-metadata>=0.20 in /usr/local/lib/python3.7/dist-packages (from catalogue<1.1.0,>=0.0.7->spacy<4->fastai) (4.8.2)\n",
            "Requirement already satisfied: typing-extensions>=3.6.4 in /usr/local/lib/python3.7/dist-packages (from importlib-metadata>=0.20->catalogue<1.1.0,>=0.0.7->spacy<4->fastai) (3.10.0.2)\n",
            "Requirement already satisfied: zipp>=0.5 in /usr/local/lib/python3.7/dist-packages (from importlib-metadata>=0.20->catalogue<1.1.0,>=0.0.7->spacy<4->fastai) (3.6.0)\n",
            "Requirement already satisfied: chardet<4,>=3.0.2 in /usr/local/lib/python3.7/dist-packages (from requests->fastai) (3.0.4)\n",
            "Requirement already satisfied: urllib3!=1.25.0,!=1.25.1,<1.26,>=1.21.1 in /usr/local/lib/python3.7/dist-packages (from requests->fastai) (1.24.3)\n",
            "Requirement already satisfied: idna<3,>=2.5 in /usr/local/lib/python3.7/dist-packages (from requests->fastai) (2.10)\n",
            "Requirement already satisfied: certifi>=2017.4.17 in /usr/local/lib/python3.7/dist-packages (from requests->fastai) (2021.10.8)\n",
            "Requirement already satisfied: python-dateutil>=2.1 in /usr/local/lib/python3.7/dist-packages (from matplotlib->fastai) (2.8.2)\n",
            "Requirement already satisfied: pyparsing!=2.0.4,!=2.1.2,!=2.1.6,>=2.0.1 in /usr/local/lib/python3.7/dist-packages (from matplotlib->fastai) (3.0.6)\n",
            "Requirement already satisfied: cycler>=0.10 in /usr/local/lib/python3.7/dist-packages (from matplotlib->fastai) (0.11.0)\n",
            "Requirement already satisfied: kiwisolver>=1.0.1 in /usr/local/lib/python3.7/dist-packages (from matplotlib->fastai) (1.3.2)\n",
            "Requirement already satisfied: six>=1.5 in /usr/local/lib/python3.7/dist-packages (from python-dateutil>=2.1->matplotlib->fastai) (1.15.0)\n",
            "Requirement already satisfied: pytz>=2017.2 in /usr/local/lib/python3.7/dist-packages (from pandas->fastai) (2018.9)\n",
            "Requirement already satisfied: joblib>=0.11 in /usr/local/lib/python3.7/dist-packages (from scikit-learn->fastai) (1.1.0)\n",
            "Requirement already satisfied: threadpoolctl>=2.0.0 in /usr/local/lib/python3.7/dist-packages (from scikit-learn->fastai) (3.0.0)\n",
            "Installing collected packages: fastcore, fastdownload, fastai\n",
            "  Attempting uninstall: fastai\n",
            "    Found existing installation: fastai 1.0.61\n",
            "    Uninstalling fastai-1.0.61:\n",
            "      Successfully uninstalled fastai-1.0.61\n",
            "Successfully installed fastai-2.5.3 fastcore-1.3.27 fastdownload-0.0.5\n"
          ]
        }
      ]
    },
    {
      "cell_type": "code",
      "metadata": {
        "id": "PQhpPq_NWfNd"
      },
      "source": [
        "import fastai\n",
        "from fastai.vision.all import *\n",
        "from ipywidgets import widgets"
      ],
      "execution_count": 4,
      "outputs": []
    },
    {
      "cell_type": "code",
      "metadata": {
        "id": "-Irue1F8WlDf"
      },
      "source": [
        "learn = load_learner(\"/content/export (1).pkl\")"
      ],
      "execution_count": 24,
      "outputs": []
    },
    {
      "cell_type": "code",
      "metadata": {
        "colab": {
          "base_uri": "https://localhost:8080/",
          "height": 49,
          "referenced_widgets": [
            "b5bae6afd3414e84b5b990f49a6016b0",
            "5d36f6e298454658bbfa9349269f6751",
            "caab0d81ed4548a4b0ca40b2ffaa2bff"
          ]
        },
        "id": "gQzt8JtiYTi9",
        "outputId": "91084250-1e15-4245-eb26-fe45a5169dae"
      },
      "source": [
        "upload = widgets.FileUpload()\n",
        "\n",
        "upload"
      ],
      "execution_count": 8,
      "outputs": [
        {
          "output_type": "display_data",
          "data": {
            "application/vnd.jupyter.widget-view+json": {
              "model_id": "b5bae6afd3414e84b5b990f49a6016b0",
              "version_minor": 0,
              "version_major": 2
            },
            "text/plain": [
              "FileUpload(value={}, description='Upload')"
            ]
          },
          "metadata": {}
        }
      ]
    },
    {
      "cell_type": "code",
      "metadata": {
        "id": "JWfqhebsYhay"
      },
      "source": [
        "img = PILImage.create(upload.data[-1])"
      ],
      "execution_count": 14,
      "outputs": []
    },
    {
      "cell_type": "code",
      "metadata": {
        "colab": {
          "base_uri": "https://localhost:8080/",
          "height": 102
        },
        "id": "1y25d2Y4Ynqt",
        "outputId": "6cbdf375-7a51-4036-89a6-63d7c8280de9"
      },
      "source": [
        "img.to_thumb(128,128)"
      ],
      "execution_count": 15,
      "outputs": [
        {
          "output_type": "execute_result",
          "data": {
            "image/png": "[encoded data removed]",
            "text/plain": [
              "<PIL.Image.Image image mode=RGB size=128x85 at 0x7F90B7C44690>"
            ]
          },
          "metadata": {},
          "execution_count": 15
        }
      ]
    },
    {
      "cell_type": "code",
      "metadata": {
        "colab": {
          "base_uri": "https://localhost:8080/",
          "height": 82,
          "referenced_widgets": [
            "4909b57c5eda4a33a0980b14647fad7a",
            "142eceef9ae44184b73654527f84bdd9"
          ]
        },
        "id": "WdSoXVxLZlmF",
        "outputId": "9fb8873d-6ae5-4716-8225-e5a65a157651"
      },
      "source": [
        "out = widgets.Output()\n",
        "\n",
        "out.clear_output() \n",
        "\n",
        "with out : display(img.to_thumb(128,128))  \n",
        "out"
      ],
      "execution_count": 23,
      "outputs": [
        {
          "output_type": "display_data",
          "data": {
            "application/vnd.jupyter.widget-view+json": {
              "model_id": "4909b57c5eda4a33a0980b14647fad7a",
              "version_minor": 0,
              "version_major": 2
            },
            "text/plain": [
              "Output()"
            ]
          },
          "metadata": {}
        }
      ]
    },
    {
      "cell_type": "code",
      "metadata": {
        "colab": {
          "base_uri": "https://localhost:8080/",
          "height": 17
        },
        "id": "I5QFzjP7aPaA",
        "outputId": "c7c6dfeb-eb31-4f1d-96e0-408cdb4fcaf4"
      },
      "source": [
        "pred = learn.predict(img)"
      ],
      "execution_count": 25,
      "outputs": [
        {
          "output_type": "display_data",
          "data": {
            "text/html": [
              ""
            ],
            "text/plain": [
              "<IPython.core.display.HTML object>"
            ]
          },
          "metadata": {}
        }
      ]
    },
    {
      "cell_type": "code",
      "metadata": {
        "colab": {
          "base_uri": "https://localhost:8080/"
        },
        "id": "v2P6kIbNbBIA",
        "outputId": "d9d43d6f-2d08-4f92-e229-c83a130cb834"
      },
      "source": [
        "pred"
      ],
      "execution_count": 26,
      "outputs": [
        {
          "output_type": "execute_result",
          "data": {
            "text/plain": [
              "('improper', TensorBase(0), TensorBase([1.0000e+00, 9.9598e-11]))"
            ]
          },
          "metadata": {},
          "execution_count": 26
        }
      ]
    },
    {
      "cell_type": "code",
      "metadata": {
        "colab": {
          "base_uri": "https://localhost:8080/",
          "height": 49,
          "referenced_widgets": [
            "6c0209aa8db14cb3b9020e11f2274d52",
            "d830ba33f40749dda0236f918178b6c5",
            "e66925d4a9634dd3b2ebafe57cccab52"
          ]
        },
        "id": "GqHACDeZbCMG",
        "outputId": "f63ec9a5-b196-42ab-8ea8-5a0ebd58a3c7"
      },
      "source": [
        "lbl = widgets.Label()\n",
        "\n",
        "lbl.value = f\"Prediction is {pred[0]} with probability {pred[2]}\"\n",
        "\n",
        "(lbl)"
      ],
      "execution_count": 33,
      "outputs": [
        {
          "output_type": "display_data",
          "data": {
            "application/vnd.jupyter.widget-view+json": {
              "model_id": "6c0209aa8db14cb3b9020e11f2274d52",
              "version_minor": 0,
              "version_major": 2
            },
            "text/plain": [
              "Label(value='Prediction is improper with probability TensorBase([1.0000e+00, 9.9598e-11])')"
            ]
          },
          "metadata": {}
        }
      ]
    },
    {
      "cell_type": "code",
      "metadata": {
        "colab": {
          "base_uri": "https://localhost:8080/",
          "height": 49,
          "referenced_widgets": [
            "01d36762992e483590c7808a7cf39e42",
            "159425fa62354381b5cbde7d533fd2d3",
            "bdca0e5966374e3988b9d576f9a62bd6"
          ]
        },
        "id": "d7afouz6cMCc",
        "outputId": "27e26aaf-ffad-4f3b-a106-bddb1be144ab"
      },
      "source": [
        "btn = widgets.Button(description = \"classify\")\n",
        "\n",
        "btn"
      ],
      "execution_count": 31,
      "outputs": [
        {
          "output_type": "display_data",
          "data": {
            "application/vnd.jupyter.widget-view+json": {
              "model_id": "01d36762992e483590c7808a7cf39e42",
              "version_minor": 0,
              "version_major": 2
            },
            "text/plain": [
              "Button(description='classify', style=ButtonStyle())"
            ]
          },
          "metadata": {}
        }
      ]
    },
    {
      "cell_type": "code",
      "metadata": {
        "id": "AFQZEAkobJrF"
      },
      "source": [
        "def on_btn_click(change):\n",
        "  img = PILImage.create(upload.data[-1])\n",
        "  out.clear_output()\n",
        "  with out : display(img.to_thumb(128,128))\n",
        "  pred = learn.predict(img)\n",
        "  lbl.value =  f\"Prediction is {pred[0]} with probability {pred[2]}\""
      ],
      "execution_count": 35,
      "outputs": []
    },
    {
      "cell_type": "code",
      "metadata": {
        "id": "W7rnIp2qb_zm"
      },
      "source": [
        "btn.on_click(on_btn_click)"
      ],
      "execution_count": 36,
      "outputs": []
    },
    {
      "cell_type": "code",
      "metadata": {
        "id": "VGhycekpb6sV"
      },
      "source": [
        "from ipywidgets import * "
      ],
      "execution_count": 30,
      "outputs": []
    },
    {
      "cell_type": "code",
      "metadata": {
        "colab": {
          "base_uri": "https://localhost:8080/",
          "height": 210,
          "referenced_widgets": [
            "f54d06302a5d47f4ad5aba2b4b21e533",
            "61acafccd0d24b4a8dddb9f49ea732bc",
            "367f632d0bab4730bebb87541209c9a1",
            "b5bae6afd3414e84b5b990f49a6016b0",
            "01d36762992e483590c7808a7cf39e42",
            "4909b57c5eda4a33a0980b14647fad7a",
            "6c0209aa8db14cb3b9020e11f2274d52",
            "f91b4c64f58042f380d262ee0d2185f2",
            "cf300bece24a4a0a8649f84584e86885",
            "5d36f6e298454658bbfa9349269f6751",
            "caab0d81ed4548a4b0ca40b2ffaa2bff",
            "159425fa62354381b5cbde7d533fd2d3",
            "bdca0e5966374e3988b9d576f9a62bd6",
            "d830ba33f40749dda0236f918178b6c5",
            "e66925d4a9634dd3b2ebafe57cccab52",
            "142eceef9ae44184b73654527f84bdd9"
          ]
        },
        "id": "BdVyAE8-b1ZR",
        "outputId": "76cf0114-d25d-4c26-c2b9-3bd1c250cd43"
      },
      "source": [
        "VBox([widgets.Label(\"Classify whether mask is worn properly\"), upload, btn, out, lbl])"
      ],
      "execution_count": 39,
      "outputs": [
        {
          "output_type": "display_data",
          "data": {
            "application/vnd.jupyter.widget-view+json": {
              "model_id": "f54d06302a5d47f4ad5aba2b4b21e533",
              "version_minor": 0,
              "version_major": 2
            },
            "text/plain": [
              "VBox(children=(Label(value='Classify whether mask is worn properly'), FileUpload(value={'download (1).jfif': {…"
            ]
          },
          "metadata": {}
        },
        {
          "output_type": "display_data",
          "data": {
            "text/html": [
              ""
            ],
            "text/plain": [
              "<IPython.core.display.HTML object>"
            ]
          },
          "metadata": {}
        },
        {
          "output_type": "display_data",
          "data": {
            "text/html": [
              ""
            ],
            "text/plain": [
              "<IPython.core.display.HTML object>"
            ]
          },
          "metadata": {}
        }
      ]
    },
    {
      "cell_type": "code",
      "metadata": {
        "id": "A2Bd0PZCcrH-"
      },
      "source": [
        ""
      ],
      "execution_count": 34,
      "outputs": []
    },
    {
      "cell_type": "code",
      "metadata": {
        "id": "citZuXJtcr3E"
      },
      "source": [
        ""
      ],
      "execution_count": null,
      "outputs": []
    }
  ]
}