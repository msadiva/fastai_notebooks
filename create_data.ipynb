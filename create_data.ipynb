{
 "cells": [
  {
   "cell_type": "code",
   "execution_count": 1,
   "id": "b5051d12-fd55-48c7-af47-93367eb0b4c6",
   "metadata": {},
   "outputs": [
    {
     "name": "stdout",
     "output_type": "stream",
     "text": [
      "CPU times: user 4 µs, sys: 1 µs, total: 5 µs\n",
      "Wall time: 6.44 µs\n"
     ]
    }
   ],
   "source": [
    "%%time\n",
    "import os\n",
    "import shutil"
   ]
  },
  {
   "cell_type": "code",
   "execution_count": 8,
   "id": "e89691dd-0dc5-4892-b60e-c4825eb4676e",
   "metadata": {},
   "outputs": [
    {
     "name": "stdout",
     "output_type": "stream",
     "text": [
      "33997\n",
      "1906\n",
      "1300\n",
      "14294\n",
      "14355\n",
      "25112\n",
      "5465\n",
      "CPU times: user 18.1 ms, sys: 11.9 ms, total: 30 ms\n",
      "Wall time: 28.3 ms\n"
     ]
    }
   ],
   "source": [
    "%%time\n",
    "for i in [\"-\", \",\", \"!\", \"(\", \")\", \"+\", \"0\"]:\n",
    "    os.chdir(\"/home/extracted_images/{}\".format(i))\n",
    "    print (len(os.listdir()))"
   ]
  },
  {
   "cell_type": "code",
   "execution_count": 7,
   "id": "7339814f-608d-4565-96cd-3553d5cdb37f",
   "metadata": {},
   "outputs": [
    {
     "data": {
      "text/plain": [
       "'/home/extracted_images/-'"
      ]
     },
     "execution_count": 7,
     "metadata": {},
     "output_type": "execute_result"
    }
   ],
   "source": [
    "os.getcwd()"
   ]
  },
  {
   "cell_type": "code",
   "execution_count": 31,
   "id": "73b049fe-21a1-4b64-8ba5-12743bde6bb8",
   "metadata": {},
   "outputs": [
    {
     "name": "stdout",
     "output_type": "stream",
     "text": [
      "CPU times: user 77.7 ms, sys: 107 ms, total: 184 ms\n",
      "Wall time: 187 ms\n"
     ]
    }
   ],
   "source": [
    "%%time\n",
    "for i in [\"-\", \",\", \"!\", \"(\", \")\", \"+\", \"0\"]:\n",
    "    os.chdir(\"/home/extracted_images/{}\".format(i))\n",
    "    path = os.getcwd()\n",
    "    count = 0\n",
    "    for j in os.listdir():\n",
    "        if count < 500 :\n",
    "            if os.path.isdir(\"/home/subset_extracted_images/{}\".format(i)) :\n",
    "                move = f\"/home/subset_extracted_images/{i}/\"\n",
    "                shutil.move((path + \"/\" + str(j)), move)\n",
    "                count += 1\n",
    "            else :\n",
    "                dirr = f\"/home/subset_extracted_images/{i}/\"\n",
    "                os.mkdir(dirr)"
   ]
  },
  {
   "cell_type": "code",
   "execution_count": 34,
   "id": "48294f61-1b8b-4d4c-8d1c-e76219b9ca66",
   "metadata": {},
   "outputs": [
    {
     "data": {
      "text/plain": [
       "501"
      ]
     },
     "execution_count": 34,
     "metadata": {},
     "output_type": "execute_result"
    }
   ],
   "source": [
    "len(os.listdir(\"/home/subset_extracted_images/!\"))"
   ]
  },
  {
   "cell_type": "code",
   "execution_count": null,
   "id": "2786e48c-5d9c-442f-8d17-5664daeaf550",
   "metadata": {},
   "outputs": [],
   "source": []
  }
 ],
 "metadata": {
  "kernelspec": {
   "display_name": "Python 3 (ipykernel)",
   "language": "python",
   "name": "python3"
  },
  "language_info": {
   "codemirror_mode": {
    "name": "ipython",
    "version": 3
   },
   "file_extension": ".py",
   "mimetype": "text/x-python",
   "name": "python",
   "nbconvert_exporter": "python",
   "pygments_lexer": "ipython3",
   "version": "3.8.10"
  }
 },
 "nbformat": 4,
 "nbformat_minor": 5
}
