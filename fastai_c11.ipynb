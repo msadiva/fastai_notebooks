{
 "cells": [
  {
   "cell_type": "code",
   "execution_count": 1,
   "id": "7b3d0c23-a62f-4016-8d93-c4c0c27f88d6",
   "metadata": {},
   "outputs": [],
   "source": [
    "## learn fastai's mid level API for processing data"
   ]
  },
  {
   "cell_type": "code",
   "execution_count": 2,
   "id": "49474ddf-5a96-451c-9056-7ad2d601f2c9",
   "metadata": {},
   "outputs": [
    {
     "name": "stdout",
     "output_type": "stream",
     "text": [
      "CPU times: user 2.08 s, sys: 1.2 s, total: 3.28 s\n",
      "Wall time: 3.22 s\n"
     ]
    }
   ],
   "source": [
    "%%time\n",
    "import fastai\n",
    "from fastai.text.all import *\n",
    "from pathlib import Path"
   ]
  },
  {
   "cell_type": "code",
   "execution_count": 3,
   "id": "12154ccb-13b7-4002-b6ea-5ad2122aa5c9",
   "metadata": {},
   "outputs": [
    {
     "data": {
      "text/html": [
       "\n",
       "    <div>\n",
       "        <style>\n",
       "            /* Turns off some styling */\n",
       "            progress {\n",
       "                /* gets rid of default border in Firefox and Opera. */\n",
       "                border: none;\n",
       "                /* Needs to be in here for Safari polyfill so background images work as expected. */\n",
       "                background-size: auto;\n",
       "            }\n",
       "            .progress-bar-interrupted, .progress-bar-interrupted::-webkit-progress-bar {\n",
       "                background: #F44336;\n",
       "            }\n",
       "        </style>\n",
       "      <progress value='144441344' class='' max='144440600' style='width:300px; height:20px; vertical-align: middle;'></progress>\n",
       "      100.00% [144441344/144440600 00:18<00:00]\n",
       "    </div>\n",
       "    "
      ],
      "text/plain": [
       "<IPython.core.display.HTML object>"
      ]
     },
     "metadata": {},
     "output_type": "display_data"
    }
   ],
   "source": [
    "path = untar_data(URLs.IMDB)"
   ]
  },
  {
   "cell_type": "code",
   "execution_count": 4,
   "id": "47594574-7f9d-4579-9c44-b234b83f3e4c",
   "metadata": {},
   "outputs": [
    {
     "data": {
      "text/plain": [
       "Path('/home/.fastai/data/imdb')"
      ]
     },
     "execution_count": 4,
     "metadata": {},
     "output_type": "execute_result"
    }
   ],
   "source": [
    "path"
   ]
  },
  {
   "cell_type": "code",
   "execution_count": 5,
   "id": "3aee8761-3c44-4cea-8446-7c6b3eb992f3",
   "metadata": {},
   "outputs": [
    {
     "name": "stdout",
     "output_type": "stream",
     "text": [
      "CPU times: user 696 ms, sys: 31.6 ms, total: 728 ms\n",
      "Wall time: 726 ms\n"
     ]
    }
   ],
   "source": [
    "%%time\n",
    "files = get_text_files(path, folders = ['train', 'test', 'unsup'])"
   ]
  },
  {
   "cell_type": "code",
   "execution_count": 6,
   "id": "425e021b-0539-420e-b9eb-a9fd5bf627fa",
   "metadata": {},
   "outputs": [],
   "source": [
    "txts = L(o.open().read() for o in files[:2000])"
   ]
  },
  {
   "cell_type": "code",
   "execution_count": 7,
   "id": "caccfa10-0594-4aa4-8c5a-f6a1621a23d8",
   "metadata": {},
   "outputs": [
    {
     "data": {
      "text/plain": [
       "\"I didn't know what to expect when I started watching this movie, by the end of it I was pulling my hairs out. This was one of the most pathetic movies of this year...in fact, in the last ten years. David Dhawan should just give up his career as a director. I am yet to come across one original script that David Dhawan has worked on. This one was a complete bit y bit rip off Hitch. I have nothing against remakes as such, but this one is just so lousy that it makes you even hate the original one (which was pretty decent). I fail to understand what actors like Salman and Govinda saw in this script. I read somewhere, that this was supposed to be Govinda's comeback vehicle. If thats true, then only God can save his career. Salman just overacted to the hilt. Govinda who I think is an actor of very high caliber was completely wasted. Katrina Kaif and LAra Dutta had nothing to do apart form wearing designer clothes and smiling for no rhyme or reason. Please stay away form this one!\""
      ]
     },
     "execution_count": 7,
     "metadata": {},
     "output_type": "execute_result"
    }
   ],
   "source": [
    "txts[0]"
   ]
  },
  {
   "cell_type": "code",
   "execution_count": 8,
   "id": "bf0c8bbd-fbe8-4194-85cc-3f3018e77681",
   "metadata": {},
   "outputs": [
    {
     "data": {
      "text/html": [],
      "text/plain": [
       "<IPython.core.display.HTML object>"
      ]
     },
     "metadata": {},
     "output_type": "display_data"
    },
    {
     "data": {
      "text/plain": [
       "(#231) ['xxbos','i','did',\"n't\",'know','what','to','expect','when','i'...]"
      ]
     },
     "execution_count": 8,
     "metadata": {},
     "output_type": "execute_result"
    }
   ],
   "source": [
    "tok = Tokenizer.from_folder(path)\n",
    "tok.setup(txts)\n",
    "toks = txts.map(tok)\n",
    "toks[0]"
   ]
  },
  {
   "cell_type": "code",
   "execution_count": 9,
   "id": "ccceda16-5683-40a3-b0fe-f33864774bd4",
   "metadata": {},
   "outputs": [
    {
     "data": {
      "text/plain": [
       "TensorText([  2,  17,  80,  32, 131,  63,  15, 530,  75,  17])"
      ]
     },
     "execution_count": 9,
     "metadata": {},
     "output_type": "execute_result"
    }
   ],
   "source": [
    "num = Numericalize()\n",
    "num.setup(toks)\n",
    "nums = toks.map(num)\n",
    "nums[0][:10]"
   ]
  },
  {
   "cell_type": "code",
   "execution_count": 10,
   "id": "1ef9160b-68e4-415f-8184-08edbe757620",
   "metadata": {},
   "outputs": [
    {
     "data": {
      "text/plain": [
       "(#10) ['xxbos','i','did',\"n't\",'know','what','to','expect','when','i']"
      ]
     },
     "execution_count": 10,
     "metadata": {},
     "output_type": "execute_result"
    }
   ],
   "source": [
    "nums_dec = num.decode(nums[0][:10]); nums_dec"
   ]
  },
  {
   "cell_type": "code",
   "execution_count": 11,
   "id": "a7d45dc4-ccc6-4521-af50-5d635429f293",
   "metadata": {},
   "outputs": [
    {
     "data": {
      "text/plain": [
       "\"xxbos i did n't know what to expect when i\""
      ]
     },
     "execution_count": 11,
     "metadata": {},
     "output_type": "execute_result"
    }
   ],
   "source": [
    "tok.decode(nums_dec)"
   ]
  },
  {
   "cell_type": "code",
   "execution_count": 12,
   "id": "6231260e-c5ac-4b10-847b-15e23bc95e7a",
   "metadata": {},
   "outputs": [],
   "source": [
    "## Both Tokenize and Numericalize are Transforms"
   ]
  },
  {
   "cell_type": "code",
   "execution_count": 13,
   "id": "61349a3b-a83b-4c36-bc32-517f34eed0c4",
   "metadata": {},
   "outputs": [],
   "source": [
    "## Transforms is always applied on TUPLES (input, target)"
   ]
  },
  {
   "cell_type": "code",
   "execution_count": 14,
   "id": "6906fc59-a305-4748-8d09-d3026887f2a6",
   "metadata": {},
   "outputs": [
    {
     "data": {
      "text/plain": [
       "((#231) ['xxbos','i','did',\"n't\",'know','what','to','expect','when','i'...],\n",
       " (#260) ['xxbos','xxmaj','for','several','reasons',',','this','movie','is','simply'...])"
      ]
     },
     "execution_count": 14,
     "metadata": {},
     "output_type": "execute_result"
    }
   ],
   "source": [
    "tok((txts[0], txts[1]))"
   ]
  },
  {
   "cell_type": "code",
   "execution_count": 15,
   "id": "c14bd690-dba8-426b-a0c9-5a85244c6aae",
   "metadata": {},
   "outputs": [],
   "source": [
    "## Writing your own Transform"
   ]
  },
  {
   "cell_type": "code",
   "execution_count": 16,
   "id": "4710a311-39af-4f86-b292-86d54b585b24",
   "metadata": {},
   "outputs": [],
   "source": [
    "## x:int means transform will only be applied when it is an integer\n",
    "def f(x:int): return x + 1"
   ]
  },
  {
   "cell_type": "code",
   "execution_count": 17,
   "id": "1a4ab90b-dba1-4c2d-b35f-1cfbe3ec8031",
   "metadata": {},
   "outputs": [
    {
     "data": {
      "text/plain": [
       "(3, 2.0)"
      ]
     },
     "execution_count": 17,
     "metadata": {},
     "output_type": "execute_result"
    }
   ],
   "source": [
    "tfm = Transform(f)\n",
    "tfm(2), tfm(2.0)"
   ]
  },
  {
   "cell_type": "code",
   "execution_count": 18,
   "id": "fbd61c98-9c2b-4787-af1f-ffc81c56d08b",
   "metadata": {},
   "outputs": [],
   "source": [
    "def f(x:str) : return \"hello\" + x"
   ]
  },
  {
   "cell_type": "code",
   "execution_count": 19,
   "id": "e49a15f0-bb0f-4349-851a-11b23c4d8d22",
   "metadata": {},
   "outputs": [
    {
     "data": {
      "text/plain": [
       "('hellosadiva', 2)"
      ]
     },
     "execution_count": 19,
     "metadata": {},
     "output_type": "execute_result"
    }
   ],
   "source": [
    "tfm = Transform(f)\n",
    "tfm(\"sadiva\"), tfm(2)"
   ]
  },
  {
   "cell_type": "code",
   "execution_count": 20,
   "id": "5cb25054-97a1-4bbe-9857-279b5e7a3402",
   "metadata": {},
   "outputs": [],
   "source": [
    "@Transform\n",
    "def f(x:int): return x + 3"
   ]
  },
  {
   "cell_type": "code",
   "execution_count": 21,
   "id": "c23bb67d-1a25-4920-8041-9f8ca9bad46b",
   "metadata": {},
   "outputs": [
    {
     "data": {
      "text/plain": [
       "(7, 4.0)"
      ]
     },
     "execution_count": 21,
     "metadata": {},
     "output_type": "execute_result"
    }
   ],
   "source": [
    "f(4), f(4.00)"
   ]
  },
  {
   "cell_type": "code",
   "execution_count": 22,
   "id": "ba5f97c2-6d41-46dc-81be-87dee9900675",
   "metadata": {},
   "outputs": [],
   "source": [
    "## @ - special syntax in python to pass any function(f) to another function(Transform)"
   ]
  },
  {
   "cell_type": "code",
   "execution_count": 23,
   "id": "b5f79f71-472a-42a9-9653-42963e047796",
   "metadata": {},
   "outputs": [],
   "source": [
    "## If we want setup or decode function, then we need to subclass Transform"
   ]
  },
  {
   "cell_type": "code",
   "execution_count": 24,
   "id": "34b0da8e-ac77-4e0d-9628-dba6cff6ce1e",
   "metadata": {},
   "outputs": [],
   "source": [
    "class NormalizeMean(Transform):\n",
    "    def setups(self, items):\n",
    "        self.mean = sum(items)/len(items)\n",
    "    def encodes(self, x):\n",
    "        return x - self.mean\n",
    "    def decodes(self, x):\n",
    "        return x + self.mean"
   ]
  },
  {
   "cell_type": "code",
   "execution_count": 25,
   "id": "84643367-3a46-414e-b5e0-4a9f41f911df",
   "metadata": {},
   "outputs": [],
   "source": [
    "tfm = NormalizeMean()"
   ]
  },
  {
   "cell_type": "code",
   "execution_count": 26,
   "id": "c464420f-6633-4207-9a49-a1b983614e06",
   "metadata": {},
   "outputs": [],
   "source": [
    "tfm.setup([1,2,3,4])"
   ]
  },
  {
   "cell_type": "code",
   "execution_count": 27,
   "id": "e54152e8-763e-4b58-b9dc-417f80211f32",
   "metadata": {},
   "outputs": [],
   "source": [
    "start = 2\n",
    "y = tfm(start)"
   ]
  },
  {
   "cell_type": "code",
   "execution_count": 28,
   "id": "84ba4c27-0e6d-400b-9756-b5fcfe6b65de",
   "metadata": {},
   "outputs": [
    {
     "data": {
      "text/plain": [
       "2.5"
      ]
     },
     "execution_count": 28,
     "metadata": {},
     "output_type": "execute_result"
    }
   ],
   "source": [
    "tfm.mean"
   ]
  },
  {
   "cell_type": "code",
   "execution_count": 29,
   "id": "044586cf-82c1-4fb7-b36c-cf616da9da5b",
   "metadata": {},
   "outputs": [
    {
     "data": {
      "text/plain": [
       "-0.5"
      ]
     },
     "execution_count": 29,
     "metadata": {},
     "output_type": "execute_result"
    }
   ],
   "source": [
    "y"
   ]
  },
  {
   "cell_type": "code",
   "execution_count": 30,
   "id": "89df47c7-b4b7-44c7-b776-c6c204915717",
   "metadata": {},
   "outputs": [],
   "source": [
    "start = 3\n",
    "y = tfm(start)"
   ]
  },
  {
   "cell_type": "code",
   "execution_count": 31,
   "id": "64e0ed07-d659-4104-b0b3-c280813bd4c5",
   "metadata": {},
   "outputs": [
    {
     "data": {
      "text/plain": [
       "0.5"
      ]
     },
     "execution_count": 31,
     "metadata": {},
     "output_type": "execute_result"
    }
   ],
   "source": [
    "y"
   ]
  },
  {
   "cell_type": "code",
   "execution_count": 32,
   "id": "9eb21ba9-8ba4-440f-9fc2-9bda7dd9707d",
   "metadata": {},
   "outputs": [
    {
     "data": {
      "text/plain": [
       "1.5"
      ]
     },
     "execution_count": 32,
     "metadata": {},
     "output_type": "execute_result"
    }
   ],
   "source": [
    "start = 4\n",
    "y = tfm(start)\n",
    "y"
   ]
  },
  {
   "cell_type": "code",
   "execution_count": 33,
   "id": "0bffd7e0-d3c2-43b5-ae60-270265f9ce83",
   "metadata": {},
   "outputs": [],
   "source": [
    "z = tfm.decode(start)"
   ]
  },
  {
   "cell_type": "code",
   "execution_count": 34,
   "id": "5fa43845-ddae-4673-b34f-46c42324b063",
   "metadata": {},
   "outputs": [
    {
     "data": {
      "text/plain": [
       "6.5"
      ]
     },
     "execution_count": 34,
     "metadata": {},
     "output_type": "execute_result"
    }
   ],
   "source": [
    "z"
   ]
  },
  {
   "cell_type": "code",
   "execution_count": 35,
   "id": "6b22c789-3a16-4824-aebc-2c73e2d63d8b",
   "metadata": {},
   "outputs": [],
   "source": [
    "## Transform () - encodes\n",
    "## Transform decode() - decodes\n",
    "## Transform setup() - setups"
   ]
  },
  {
   "cell_type": "code",
   "execution_count": 36,
   "id": "9db8ff6f-fced-4060-8f1f-6c8847ae5cdd",
   "metadata": {},
   "outputs": [],
   "source": [
    "## Pipeline - used to compose several transforms together "
   ]
  },
  {
   "cell_type": "code",
   "execution_count": 37,
   "id": "8ee503c4-fba5-4809-9944-043283ee8c1a",
   "metadata": {},
   "outputs": [
    {
     "data": {
      "text/plain": [
       "TensorText([  2,  17,  80,  32, 131,  63,  15, 530,  75,  17, 521, 158,  20,  27,\n",
       "         11,  58,   9, 143,  14,  18])"
      ]
     },
     "execution_count": 37,
     "metadata": {},
     "output_type": "execute_result"
    }
   ],
   "source": [
    "tfms = Pipeline([tok, num])\n",
    "t = tfms(txts[0]); t[:20]"
   ]
  },
  {
   "cell_type": "code",
   "execution_count": 38,
   "id": "70b66ba8-db82-4c8e-b48c-3aa661cff09e",
   "metadata": {},
   "outputs": [
    {
     "data": {
      "text/plain": [
       "\"xxbos i did n't know what to expect when i started watching this movie , by the end of it i was pull\""
      ]
     },
     "execution_count": 38,
     "metadata": {},
     "output_type": "execute_result"
    }
   ],
   "source": [
    "tfms.decode(t)[:100]"
   ]
  },
  {
   "cell_type": "code",
   "execution_count": 39,
   "id": "7c2ab254-f91c-4ff7-afe8-2853bc0d5b42",
   "metadata": {},
   "outputs": [],
   "source": [
    "## The only part that doesn't work the same way as Transform in Pipeline is setup. For that we need TfmdLists"
   ]
  },
  {
   "cell_type": "code",
   "execution_count": 40,
   "id": "1b54e471-6398-46b0-be78-2e3b1a24bfca",
   "metadata": {},
   "outputs": [],
   "source": [
    "tls = TfmdLists(files, [Tokenizer.from_folder(path), Numericalize()])"
   ]
  },
  {
   "cell_type": "code",
   "execution_count": 41,
   "id": "4c35b3de-f972-46a4-ab64-620dcfb726ad",
   "metadata": {},
   "outputs": [
    {
     "data": {
      "text/plain": [
       "TensorText([  2,  19,  89,  36, 141,  65,  15, 534,  69,  19, 683, 170,  20,  30,\n",
       "         11,  48,   9, 149,  14,  17])"
      ]
     },
     "execution_count": 41,
     "metadata": {},
     "output_type": "execute_result"
    }
   ],
   "source": [
    "t = tls[0] ; t[:20]"
   ]
  },
  {
   "cell_type": "code",
   "execution_count": 42,
   "id": "17f9edef-94b0-48c2-8dee-fed231f6f7e5",
   "metadata": {},
   "outputs": [],
   "source": [
    "## TfmdLists will call the setup method of each Transform in order"
   ]
  },
  {
   "cell_type": "code",
   "execution_count": 43,
   "id": "c50592a8-006e-42ee-b486-5a4f28c12874",
   "metadata": {},
   "outputs": [
    {
     "data": {
      "text/plain": [
       "\"xxbos i did n't know what to expect when i started watching this movie , by the end of it i was pull\""
      ]
     },
     "execution_count": 43,
     "metadata": {},
     "output_type": "execute_result"
    }
   ],
   "source": [
    "tls.decode(t)[:100]"
   ]
  },
  {
   "cell_type": "code",
   "execution_count": 44,
   "id": "e1abfe12-c10c-4432-b394-e55c0e9e11b1",
   "metadata": {},
   "outputs": [
    {
     "name": "stdout",
     "output_type": "stream",
     "text": [
      "xxbos i did n't know what to expect when i started watching this movie , by the end of it i was pulling my hairs out . xxmaj this was one of the most pathetic movies of this year … in fact , in the last ten years . xxmaj david xxmaj dhawan should just give up his career as a director . i am yet to come across one original script that xxmaj david xxmaj dhawan has worked on . xxmaj this one was a complete bit y bit rip off xxmaj hitch . i have nothing against remakes as such , but this one is just so lousy that it makes you even hate the original one ( which was pretty decent ) . i fail to understand what actors like xxmaj salman and xxmaj govinda saw in this script . i read somewhere , that this was supposed to be xxmaj govinda 's comeback vehicle . xxmaj if that s true , then only xxmaj god can save his career . xxmaj salman just overacted to the hilt . xxmaj govinda who i think is an actor of very high caliber was completely wasted . xxmaj katrina xxmaj kaif and lara xxmaj dutta had nothing to do apart form wearing designer clothes and smiling for no rhyme or reason . xxmaj please stay away form this one !\n"
     ]
    }
   ],
   "source": [
    "tls.show(t)"
   ]
  },
  {
   "cell_type": "code",
   "execution_count": 45,
   "id": "26e2a730-09e3-4407-aab2-a4fdf6b5d131",
   "metadata": {},
   "outputs": [],
   "source": [
    "##  At initialization TfmdLists will automatically call the setup method of each transform in order"
   ]
  },
  {
   "cell_type": "code",
   "execution_count": 46,
   "id": "8d03ce5f-5728-46dd-8faf-ed7699d97910",
   "metadata": {},
   "outputs": [],
   "source": [
    "## TfmdLists can also handle training and validation splits"
   ]
  },
  {
   "cell_type": "code",
   "execution_count": 49,
   "id": "919fe1fb-303b-4d0f-b05d-4a0ff4828c55",
   "metadata": {},
   "outputs": [
    {
     "data": {
      "text/plain": [
       "(80000, 20000)"
      ]
     },
     "execution_count": 49,
     "metadata": {},
     "output_type": "execute_result"
    }
   ],
   "source": [
    "cut = int(len(files)*0.8)\n",
    "splits = [list(range(cut)), list(range(cut, len(files)))]\n",
    "len(splits[0]), len(splits[1])"
   ]
  },
  {
   "cell_type": "code",
   "execution_count": 50,
   "id": "6f84657f-8a35-4088-a075-a65256a71de8",
   "metadata": {},
   "outputs": [],
   "source": [
    "tls = TfmdLists(files, [Tokenizer.from_folder(path), Numericalize],\n",
    "                splits = splits)"
   ]
  },
  {
   "cell_type": "code",
   "execution_count": 51,
   "id": "d04a487f-ce8a-427f-82b2-84edf152b9cd",
   "metadata": {},
   "outputs": [
    {
     "data": {
      "text/plain": [
       "TensorText([    2,     8,    20,    16,    38,    13,    32,    33,    80,    85,\n",
       "        22127, 12250,    51,    17,    23,   391,    10,     8,     9,   331])"
      ]
     },
     "execution_count": 51,
     "metadata": {},
     "output_type": "execute_result"
    }
   ],
   "source": [
    "tls.valid[0][:20]"
   ]
  },
  {
   "cell_type": "code",
   "execution_count": 52,
   "id": "0d49dac7-b816-4701-a634-5409b5dca404",
   "metadata": {},
   "outputs": [
    {
     "data": {
      "text/plain": [
       "TensorText([   2,    8,   29,  457, 1002,   11,   20,   30,   16,  352,  399,   10,\n",
       "           8,  102, 5803,   42, 3872,   66,   14,   20])"
      ]
     },
     "execution_count": 52,
     "metadata": {},
     "output_type": "execute_result"
    }
   ],
   "source": [
    "tls.train[1][:20]"
   ]
  },
  {
   "cell_type": "code",
   "execution_count": 53,
   "id": "53886a6f-b14f-46bc-be3a-bcdb01a8c5f8",
   "metadata": {},
   "outputs": [
    {
     "data": {
      "text/plain": [
       "(#100000) ['neg','neg','neg','neg','neg','neg','neg','neg','neg','neg'...]"
      ]
     },
     "execution_count": 53,
     "metadata": {},
     "output_type": "execute_result"
    }
   ],
   "source": [
    "lbls = files.map(parent_label)\n",
    "lbls"
   ]
  },
  {
   "cell_type": "code",
   "execution_count": 54,
   "id": "776680e3-468a-4653-b793-c6561e70b15e",
   "metadata": {},
   "outputs": [
    {
     "data": {
      "text/plain": [
       "['neg', 'pos', 'unsup']"
      ]
     },
     "execution_count": 54,
     "metadata": {},
     "output_type": "execute_result"
    }
   ],
   "source": [
    "cat = Categorize()\n",
    "cat.setup(lbls)\n",
    "cat.vocab"
   ]
  },
  {
   "cell_type": "code",
   "execution_count": 55,
   "id": "a7b88410-b34c-417b-87de-3d7de3f7c944",
   "metadata": {},
   "outputs": [
    {
     "data": {
      "text/plain": [
       "TensorCategory(1)"
      ]
     },
     "execution_count": 55,
     "metadata": {},
     "output_type": "execute_result"
    }
   ],
   "source": [
    "cat(lbls[-1])"
   ]
  },
  {
   "cell_type": "code",
   "execution_count": 56,
   "id": "47927a53-a285-4ca4-9115-8b421a40bf96",
   "metadata": {},
   "outputs": [
    {
     "data": {
      "text/plain": [
       "TensorCategory(0)"
      ]
     },
     "execution_count": 56,
     "metadata": {},
     "output_type": "execute_result"
    }
   ],
   "source": [
    "cat(lbls[0])"
   ]
  },
  {
   "cell_type": "code",
   "execution_count": 57,
   "id": "e728749c-62ea-489d-ae49-06e433cc81cc",
   "metadata": {},
   "outputs": [
    {
     "data": {
      "text/plain": [
       "TensorCategory(0)"
      ]
     },
     "execution_count": 57,
     "metadata": {},
     "output_type": "execute_result"
    }
   ],
   "source": [
    "tls_y = TfmdLists(files, [parent_label, Categorize()])\n",
    "tls_y[0]"
   ]
  },
  {
   "cell_type": "code",
   "execution_count": 58,
   "id": "3a9d70f4-3d2b-4e1c-bbdc-3cfb27e18345",
   "metadata": {},
   "outputs": [
    {
     "data": {
      "text/plain": [
       "TensorCategory(1)"
      ]
     },
     "execution_count": 58,
     "metadata": {},
     "output_type": "execute_result"
    }
   ],
   "source": [
    "tls_y[-1]"
   ]
  },
  {
   "cell_type": "code",
   "execution_count": 59,
   "id": "36692683-b3d3-4c5a-b03b-62d0deb1812d",
   "metadata": {},
   "outputs": [],
   "source": [
    "## Datasets"
   ]
  },
  {
   "cell_type": "code",
   "execution_count": 60,
   "id": "441e5a25-a520-45fb-a143-8d057e0af2f8",
   "metadata": {},
   "outputs": [],
   "source": [
    "## Datasets will apply two or more pipelines in parallel to the same raw object"
   ]
  },
  {
   "cell_type": "code",
   "execution_count": 64,
   "id": "c0d6c459-c942-4715-8c71-2d75482de4c6",
   "metadata": {},
   "outputs": [],
   "source": [
    "x_tfms = [Tokenizer.from_folder(path), Numericalize]\n",
    "y_tfms = [parent_label, Categorize()]\n",
    "dsets = Datasets(files, [x_tfms, y_tfms], splits = splits)\n",
    "x,y = dsets[0]"
   ]
  },
  {
   "cell_type": "code",
   "execution_count": 65,
   "id": "ffed94d0-570f-4716-9954-342bbb40b814",
   "metadata": {},
   "outputs": [
    {
     "data": {
      "text/plain": [
       "(TensorText([  2,  19,  89,  36, 141,  65,  15, 534,  69,  19, 683, 170,  20,  30,\n",
       "          11,  48,   9, 149,  14,  17]),\n",
       " TensorCategory(0))"
      ]
     },
     "execution_count": 65,
     "metadata": {},
     "output_type": "execute_result"
    }
   ],
   "source": [
    "x[:20], y"
   ]
  },
  {
   "cell_type": "code",
   "execution_count": 66,
   "id": "bf1e7b25-d1d6-4812-9785-76bf9e214bc3",
   "metadata": {},
   "outputs": [
    {
     "data": {
      "text/plain": [
       "(80000, 20000)"
      ]
     },
     "execution_count": 66,
     "metadata": {},
     "output_type": "execute_result"
    }
   ],
   "source": [
    "len(dsets.train), len(dsets.valid)"
   ]
  },
  {
   "cell_type": "code",
   "execution_count": 67,
   "id": "9ca8d133-9721-43bd-bead-b4b80aa118fc",
   "metadata": {},
   "outputs": [
    {
     "data": {
      "text/plain": [
       "(\"xxbos xxmaj this is not a film you can really analyse separately from it 's production . xxmaj the audience became the film - makers to an extent unprecedented in the history of the xxmaj american film industry ; we felt so involved that viewing it becomes like watching the work of a friend . xxmaj how is it possible to be objective ? xxmaj this is our movie , is n't it ? xxmaj or is it ? xxmaj there may be nothing more disingenuous than a film - maker who promotes himself as the audience 's friend , giving them all the naughty treats that the xxunk critics would deny them . xxmaj just look at that prime self - publicist xxmaj eli xxmaj roth , promising gore - hounds all the viscera missing from literally gutless mainstream horror films , only to churn out a watered down and technically incompetent piece of work like ' hostel ' . \\n\\n xxmaj david xxup r. xxmaj ellis may not have spawned the monster that was the internet response to his film , but he was , quite understandably , quick to engage with it . xxmaj he took the carnival - huckster school of film - making to a new level , getting the fans to build what they would eventually buy . xxmaj so many have enthused over this interactive , democratic approach to film - making that they seem to have missed the point - that this is the most cynical form of film - as - marketing . xxmaj nothing is included that the film - makers know the fans wo n't buy , and any old suggestion that will get bums on seats is incorporated . xxmaj the fact that the pitch became the title tells you all you need to know . \\n\\n xxmaj is n't this just the evolution of the focus group approach ? xxmaj individual creativity , talent , craft , ideas , all are sacrificed before the inane chatter of the masses . xxmaj it 's a critical commonplace that focus groups and test screenings do n't make for good movies - why should the xxunk intervention of internet enthusiasts be any different ? xxmaj because we happen to be film fans ? xxmaj well , thank god for us , because otherwise i might not have seen a topless woman get her nipple bitten by a snake . \\n\\n xxmaj so , yes , i had fun at the movie - a midnight showing , fresh from the pub and with a bucket of ice - cream - but it actually had relatively little to do with the film , and quite a lot to do with the atmosphere . xxmaj like xxmaj christmas , everyone seemed determined that they would have fun , no matter what . xxmaj there was laughter , but i do n't know if it was with the film , or at the film . xxmaj with a film as calculated as this one , is that even a meaningful distinction ? xxmaj there are some genuinely good aspects to the film . xxmaj samuel xxup l. xxmaj jackson gives a well - judged performance , pure self - parody but with a real sense of pleasure . xxmaj rachel xxmaj blanchard and xxmaj lin xxmaj shaye are decent in limited roles , and there are one or two inspired moments - the fate of the lap dog is genuinely funny black comedy that the rest of the film fails to emulate . \\n\\n xxmaj the stock characters are to be expected , but the total lack of suspense is n't . xxmaj what 's the point of a film that combines two great phobias if there 's no creeping menace ? xxmaj there are several snake - jumps - out moments , but they 're incredibly badly staged . xxmaj only the annoying xxmaj british man gets a decent pulpy death scene - the other killings are oddly flat . xxmaj the demise of the honeymoon couple , for instance , is shamefully botched . xxmaj most of the actors fail to make an impression ; it 's a shame that a charismatic actress like xxmaj julianna xxmaj margulies should seem so tired ( when she tells two kids to close their eyes and pretend the turbulent flight is a roller - coaster , she could be talking to the audience - the film falls far short ) . \\n\\n xxmaj there are worse movies , but there are many , many better ; another reviewer on this site compared this film with ' lake xxmaj placid ' , and it 's as apt a contrast as any i can think of . xxmaj that film worked so magnificently because the performances were excellent , the jokes were funny , the suspense sequences were scary , and it was n't devised by committee . xxmaj that the characters had a little depth and shading was an unexpected bonus . i do n't need a post - pub midnight showing to have a good time with that film . \\n\\n xxmaj this film will , in time , fade to become a mere footnote in film history . xxmaj if it sets a precedent , however , xxmaj i 'm genuinely worried about what might be crossing our screens in a couple of years time . xxmaj in all probability , nothing much will come of it . xxmaj perennial popcorn favourites - ' raiders of the xxmaj lost xxmaj ark ' , ' alien ' , ' halloween ' and of course , ' star xxmaj wars ' - just are n't produced by group - think . \\n\\n xxmaj in the mean time , xxmaj i 'll tell you what - i have n't half got a craving for some xxmaj ingmar xxmaj bergman .\",\n",
       " 'neg')"
      ]
     },
     "execution_count": 67,
     "metadata": {},
     "output_type": "execute_result"
    }
   ],
   "source": [
    "t = dsets.valid[0]\n",
    "dsets.decode(t)"
   ]
  },
  {
   "cell_type": "code",
   "execution_count": 68,
   "id": "290ad74e-eee3-4bac-ba22-54715ec62a7d",
   "metadata": {},
   "outputs": [],
   "source": [
    "## last step is to convert datasets to dataloaders"
   ]
  },
  {
   "cell_type": "code",
   "execution_count": 69,
   "id": "126fb69a-32aa-4d96-ad7b-e3fed661eda5",
   "metadata": {},
   "outputs": [],
   "source": [
    "dls = dsets.dataloaders(bs =64, before_batch = pad_input)"
   ]
  },
  {
   "cell_type": "code",
   "execution_count": 70,
   "id": "fcae2fbc-7e21-4a7b-88eb-584afc23621a",
   "metadata": {},
   "outputs": [
    {
     "name": "stdout",
     "output_type": "stream",
     "text": [
      "Help on Pad_Input in module fastai.text.data object:\n",
      "\n",
      "class Pad_Input(fastcore.transform.ItemTransform)\n",
      " |  Pad_Input(self, enc=None, dec=None, split_idx=None, order=None)\n",
      " |  \n",
      " |  A transform that always take tuples as items\n",
      " |  \n",
      " |  Method resolution order:\n",
      " |      Pad_Input\n",
      " |      fastcore.transform.ItemTransform\n",
      " |      fastcore.transform.Transform\n",
      " |      builtins.object\n",
      " |  \n",
      " |  Methods defined here:\n",
      " |  \n",
      " |  decodes = (TensorText,object) -> decodes\n",
      " |  \n",
      " |  encodes = (object,object) -> encodes\n",
      " |  \n",
      " |  setups = \n",
      " |  ----------------------------------------------------------------------\n",
      " |  Data and other attributes defined here:\n",
      " |  \n",
      " |  __signature__ = <Signature (self, enc=None, dec=None, split_idx=None, ...\n",
      " |  \n",
      " |  ----------------------------------------------------------------------\n",
      " |  Methods inherited from fastcore.transform.ItemTransform:\n",
      " |  \n",
      " |  __call__(self, x, **kwargs)\n",
      " |      Call self as a function.\n",
      " |  \n",
      " |  decode(self, x, **kwargs)\n",
      " |      Delegate to <code>decodes</code> to undo transform\n",
      " |  \n",
      " |  ----------------------------------------------------------------------\n",
      " |  Methods inherited from fastcore.transform.Transform:\n",
      " |  \n",
      " |  __init__(self, enc=None, dec=None, split_idx=None, order=None)\n",
      " |      Initialize self.  See help(type(self)) for accurate signature.\n",
      " |  \n",
      " |  __repr__(self)\n",
      " |      Return repr(self).\n",
      " |  \n",
      " |  setup(self, items=None, train_setup=False)\n",
      " |      Delegate to <code>setups</code> to set up transform\n",
      " |  \n",
      " |  ----------------------------------------------------------------------\n",
      " |  Readonly properties inherited from fastcore.transform.Transform:\n",
      " |  \n",
      " |  name\n",
      " |  \n",
      " |  ----------------------------------------------------------------------\n",
      " |  Data descriptors inherited from fastcore.transform.Transform:\n",
      " |  \n",
      " |  __dict__\n",
      " |      dictionary for instance variables (if defined)\n",
      " |  \n",
      " |  __weakref__\n",
      " |      list of weak references to the object (if defined)\n",
      " |  \n",
      " |  ----------------------------------------------------------------------\n",
      " |  Data and other attributes inherited from fastcore.transform.Transform:\n",
      " |  \n",
      " |  init_enc = None\n",
      " |  \n",
      " |  order = 0\n",
      " |  \n",
      " |  split_idx = None\n",
      " |  \n",
      " |  train_setup = None\n",
      "\n"
     ]
    }
   ],
   "source": [
    "help(pad_input)"
   ]
  },
  {
   "cell_type": "code",
   "execution_count": 72,
   "id": "a0aecc44-c27e-40ea-962f-b253210e3741",
   "metadata": {},
   "outputs": [
    {
     "data": {
      "text/plain": [
       "<fastai.data.core.TfmdDL at 0x7f08b5bdc2b0>"
      ]
     },
     "execution_count": 72,
     "metadata": {},
     "output_type": "execute_result"
    }
   ],
   "source": [
    "dls.train"
   ]
  },
  {
   "cell_type": "code",
   "execution_count": 73,
   "id": "89bf609b-5509-46b8-a535-350c5d927689",
   "metadata": {},
   "outputs": [
    {
     "data": {
      "text/html": [
       "<table border=\"1\" class=\"dataframe\">\n",
       "  <thead>\n",
       "    <tr style=\"text-align: right;\">\n",
       "      <th></th>\n",
       "      <th>text</th>\n",
       "      <th>category</th>\n",
       "    </tr>\n",
       "  </thead>\n",
       "  <tbody>\n",
       "    <tr>\n",
       "      <th>0</th>\n",
       "      <td>xxbos xxmaj this movie was great . i do n't know why all of these people thought it was n't good . xxmaj if you have n't seen this movie , i advise that you should watch it . xxmaj you will certainly laugh and you 'll certainly have a lot of fun . xxmaj steve xxmaj martin is great , and so are xxmaj goldie xxmaj hawn and xxmaj john xxmaj cleese . \\n\\n i rated it a perfect 10 ! xxpad xxpad xxpad xxpad xxpad xxpad xxpad xxpad xxpad xxpad xxpad xxpad xxpad xxpad xxpad xxpad xxpad xxpad xxpad xxpad xxpad xxpad xxpad xxpad xxpad xxpad xxpad xxpad xxpad xxpad xxpad xxpad xxpad xxpad xxpad xxpad xxpad xxpad xxpad xxpad xxpad xxpad xxpad xxpad xxpad xxpad xxpad xxpad xxpad xxpad xxpad xxpad xxpad xxpad xxpad xxpad xxpad xxpad xxpad xxpad xxpad xxpad xxpad xxpad xxpad xxpad xxpad xxpad</td>\n",
       "      <td>unsup</td>\n",
       "    </tr>\n",
       "    <tr>\n",
       "      <th>1</th>\n",
       "      <td>xxbos i read the comments on here and went in expecting something really good . \\n\\n i was so very disappointed by this movie . \\n\\n i really like this movie on one level but i think it could be a xxup lot better . \\n\\n xxmaj something was lacking . xxmaj the characters do n't seem to click , the ending felt incomplete and there was not enough relationship development . xxmaj why did they have a topless scene is beyond my comprehension . \\n\\n xxmaj the acting was good , there was enough humour to keep me smiling and the music was heart warming . \\n\\n i totally recommend the movie to everyone but i only give it an e for xxmaj effort . \\n\\n xxmaj if you are reading my comment , ignore how others are over - hyping this movie . xxmaj expect only a 6</td>\n",
       "      <td>unsup</td>\n",
       "    </tr>\n",
       "    <tr>\n",
       "      <th>2</th>\n",
       "      <td>xxbos i know a lot of you hate these xxunk prequels ) , but seriously , this one was great ! xxmaj it explains what happens between after xxmaj bambi 's mother 's death and before he grows up , and focuses on xxmaj bambi and his father , xxmaj the xxmaj great xxmaj prince xxmaj of xxmaj the xxmaj forest . \\n\\n i found it entertaining , not wandering off the original 's storyline too much , and overall really good . xxmaj it 's better than you expect it to be . \\n\\n i do n't know why people hate sequels and prequels so much . xxmaj to be honest , i think most people do n't give them a chance . xxmaj but you should give this one a chance , it 's not disappointing . \\n\\n xxmaj i 'm really fond of the songs . xxmaj</td>\n",
       "      <td>unsup</td>\n",
       "    </tr>\n",
       "    <tr>\n",
       "      <th>3</th>\n",
       "      <td>xxbos xxmaj in xxmaj world xxmaj war xxup ii , during a storm , a small plane crashes in an island between xxmaj cuba and xxmaj porto xxmaj rico , but the pilot xxmaj james ' mac ' mccarthy ( dick xxmaj purcell ) and his two passengers , xxmaj bill xxmaj summers ( john xxmaj archer ) and his black servant xxmaj jeff xxmaj jackson ( mantan xxmaj moreland ) , survive . xxmaj bill is in a mission trying to find xxmaj admiral xxmaj arthur xxmaj wainwright ( guy xxmaj usher ) , who vanished in that area . xxmaj they are lodged by the xxmaj austrian xxmaj dr . xxmaj mikhail xxmaj sangre ( henry xxmaj victor ) in his mansion . xxmaj the scared xxmaj jeff finds that the place has zombies , but xxmaj mac and xxmaj bill do not believe on him . xxmaj</td>\n",
       "      <td>unsup</td>\n",
       "    </tr>\n",
       "    <tr>\n",
       "      <th>4</th>\n",
       "      <td>xxbos i ca n't believe that someone actually paid to have this film made . xxmaj stupid , unrealistic , and stereotypical . xxmaj right from the take off of the massive 747 the pilot pulled the throttles back to increase speed . then you have 5 armed persons with semi to fully automatic weapons firing without so much as one bullet breaching the walls of the pressurized cabin at 38 , xxrep 3 0 feet . xxmaj then once below in the belly of the plane a stray bullet hits a xxup fuel line and we see the fuel leaking from the side of the plane . xxmaj the acting was just horrid and forced . xxmaj there just did n't seem to be any direction . i have seen some pretty horrid b movies in my lifetime but with the names that were in this film i was</td>\n",
       "      <td>neg</td>\n",
       "    </tr>\n",
       "    <tr>\n",
       "      <th>5</th>\n",
       "      <td>xxbos xxmaj as far as movies go , this one has what is popular : action , adventure , sex , blood , and lots of twists that will keep you guessing what the truth is . \\n\\n xxmaj however , if you 've read xxmaj beowulf ( which , judging by the reviews , is a small number of people ) , and you appreciate the characters and hold them in a place of dignity and respect in your mind , then forget about appreciating anything about the movie . xxmaj though xxmaj beowulf is portrayed in the epic as the great leader and hero who never has done a dishonorable deed , he is , in the movie , portrayed as a liar and a deceiver . xxmaj he defeats xxmaj grendel by closing his arm in a door . xxmaj he never kills xxmaj grendel 's mother</td>\n",
       "      <td>unsup</td>\n",
       "    </tr>\n",
       "    <tr>\n",
       "      <th>6</th>\n",
       "      <td>xxbos xxmaj more wide - eyed , hysterical 50s hyper - cheerfulness that gives new meaning to anti - social , pathological behaviour . xxmaj danza and xxmaj grayson will leave you begging for mercy . \\n\\n xxmaj it 's a shame that all the people involved in the making of this movie are now dead ( or in nursing homes ) . i kinda thought about suing them for torture . xxmaj as this movie started unleashing its shamelessly aggressive operatic assault onto my poor , defenseless ear - drums , i felt instant , strong pain envelop my entire being . xxmaj that damn muscular vibrato can shatter xxmaj soviet tanks into tiny bits , nevermind glass . \\n\\n \" why did n't you switch the channel if you did n't like it ? \" , you might ask angrily . xxmaj fair point , fair point …</td>\n",
       "      <td>neg</td>\n",
       "    </tr>\n",
       "    <tr>\n",
       "      <th>7</th>\n",
       "      <td>xxbos i have no idea why she is n't a bigger name ! i first became a fan hen she had her forum on xxmaj xxunk and was starting out . i loved this film , and the other version , but i prefer the extended cut of this version . xxmaj jennifer plays a seemingly clueless but horny girl having a torrid one night stand . xxmaj back at home she finds the date lurking . xxmaj he drugs her , and ties her up . xxmaj she does get free , but gets caught again , and tied up naked . xxmaj watching her struggle is one of the hottest things i have seen . xxmaj what a body ! xxmaj you must see this ! xxpad xxpad xxpad xxpad xxpad xxpad xxpad xxpad xxpad xxpad xxpad xxpad xxpad xxpad xxpad xxpad xxpad xxpad xxpad xxpad xxpad xxpad</td>\n",
       "      <td>unsup</td>\n",
       "    </tr>\n",
       "    <tr>\n",
       "      <th>8</th>\n",
       "      <td>xxbos xxmaj what a treat . xxmaj i 'm so glad i knew nothing about this film . i heard no buzz , had no opinions . xxmaj do n't even know why we watched it . xxmaj but the night we did , i do n't think xxmaj i 've laughed that hard since i was on a teen field trip to see xxmaj romeo and xxmaj juliet ( 1968 version ) with my class . xxmaj after the movie , they screened xxmaj life of xxmaj brian , and for some odd reason , our teachers allowed us to stay . xxmaj the xxmaj xxunk xxmaj xxunk scene had me gasping for air … . and i can assure you , my reaction was more than a snicker . \\n\\n xxmaj back to this film . xxmaj in the proud tradition of camp , drag , too much</td>\n",
       "      <td>unsup</td>\n",
       "    </tr>\n",
       "  </tbody>\n",
       "</table>"
      ],
      "text/plain": [
       "<IPython.core.display.HTML object>"
      ]
     },
     "metadata": {},
     "output_type": "display_data"
    }
   ],
   "source": [
    "dls.show_batch()"
   ]
  },
  {
   "cell_type": "code",
   "execution_count": 74,
   "id": "63d7628d-5415-4f2b-b93a-070d4955b942",
   "metadata": {},
   "outputs": [],
   "source": [
    "## putting it all together"
   ]
  },
  {
   "cell_type": "code",
   "execution_count": 75,
   "id": "6d7fe7f0-3762-4dcc-861d-6c94dd96910a",
   "metadata": {},
   "outputs": [],
   "source": [
    "tfms = [[Tokenizer.from_folder(path), Numericalize], [parent_label, Categorize()]]\n",
    "files = get_text_files(path, folders = ['train', 'test'])\n",
    "splits = GrandparentSplitter(valid_name = 'test')(files)\n",
    "dsets = Datasets(files, tfms, splits = splits)\n",
    "dls = dsets.dataloaders(dl_type = SortedDL, before_batch = pad_input)"
   ]
  },
  {
   "cell_type": "code",
   "execution_count": 76,
   "id": "3d29a497-bfb2-4a9f-b110-c7345a8d8095",
   "metadata": {},
   "outputs": [
    {
     "data": {
      "text/plain": [
       "(#50000) [Path('/home/.fastai/data/imdb/test/neg/6201_1.txt'),Path('/home/.fastai/data/imdb/test/neg/11881_2.txt'),Path('/home/.fastai/data/imdb/test/neg/11690_1.txt'),Path('/home/.fastai/data/imdb/test/neg/7300_1.txt'),Path('/home/.fastai/data/imdb/test/neg/2931_1.txt'),Path('/home/.fastai/data/imdb/test/neg/11165_4.txt'),Path('/home/.fastai/data/imdb/test/neg/1026_2.txt'),Path('/home/.fastai/data/imdb/test/neg/11499_3.txt'),Path('/home/.fastai/data/imdb/test/neg/3201_1.txt'),Path('/home/.fastai/data/imdb/test/neg/429_3.txt')...]"
      ]
     },
     "execution_count": 76,
     "metadata": {},
     "output_type": "execute_result"
    }
   ],
   "source": [
    "files"
   ]
  },
  {
   "cell_type": "code",
   "execution_count": 78,
   "id": "c0f74a4b-3a9b-4c63-b9ab-2eb5df44624f",
   "metadata": {},
   "outputs": [],
   "source": [
    "## dl_type = SortedDL means that it constructs batches by putting samples of roughly the same size in similar batches"
   ]
  },
  {
   "cell_type": "code",
   "execution_count": 79,
   "id": "589e44b3-e802-4096-ba4f-a65dedff0b6b",
   "metadata": {},
   "outputs": [
    {
     "data": {
      "text/html": [
       "<table border=\"1\" class=\"dataframe\">\n",
       "  <thead>\n",
       "    <tr style=\"text-align: right;\">\n",
       "      <th></th>\n",
       "      <th>text</th>\n",
       "      <th>category</th>\n",
       "    </tr>\n",
       "  </thead>\n",
       "  <tbody>\n",
       "    <tr>\n",
       "      <th>0</th>\n",
       "      <td>xxbos xxmaj match 1 : xxmaj tag xxmaj team xxmaj table xxmaj match xxmaj bubba xxmaj ray and xxmaj spike xxmaj dudley vs xxmaj eddie xxmaj guerrero and xxmaj chris xxmaj benoit xxmaj bubba xxmaj ray and xxmaj spike xxmaj dudley started things off with a xxmaj tag xxmaj team xxmaj table xxmaj match against xxmaj eddie xxmaj guerrero and xxmaj chris xxmaj benoit . xxmaj according to the rules of the match , both opponents have to go through tables in order to get the win . xxmaj benoit and xxmaj guerrero heated up early on by taking turns hammering first xxmaj spike and then xxmaj bubba xxmaj ray . a xxmaj german xxunk by xxmaj benoit to xxmaj bubba took the wind out of the xxmaj dudley brother . xxmaj spike tried to help his brother , but the referee restrained him while xxmaj benoit and xxmaj guerrero</td>\n",
       "      <td>pos</td>\n",
       "    </tr>\n",
       "    <tr>\n",
       "      <th>1</th>\n",
       "      <td>xxbos * * attention xxmaj spoilers * * \\n\\n xxmaj first of all , let me say that xxmaj rob xxmaj roy is one of the best films of the 90 's . xxmaj it was an amazing achievement for all those involved , especially the acting of xxmaj liam xxmaj neeson , xxmaj jessica xxmaj lange , xxmaj john xxmaj hurt , xxmaj brian xxmaj cox , and xxmaj tim xxmaj roth . xxmaj michael xxmaj canton xxmaj jones painted a wonderful portrait of the honor and dishonor that men can represent in themselves . xxmaj but alas … \\n\\n it constantly , and unfairly gets compared to \" braveheart \" . xxmaj these are two entirely different films , probably only similar in the fact that they are both about xxmaj scots in historical xxmaj scotland . xxmaj yet , this comparison frequently bothers me because it seems</td>\n",
       "      <td>pos</td>\n",
       "    </tr>\n",
       "    <tr>\n",
       "      <th>2</th>\n",
       "      <td>xxbos xxmaj heavy - handed moralism . xxmaj writers using characters as mouthpieces to speak for themselves . xxmaj predictable , plodding plot points ( say that five times fast ) . a child 's imitation of xxmaj britney xxmaj spears . xxmaj this film has all the earmarks of a xxmaj lifetime xxmaj special reject . \\n\\n i honestly believe that xxmaj jesus xxmaj xxunk and xxmaj julia xxmaj xxunk set out to create a thought - provoking , emotional film on a tough subject , exploring the idea that things are not always black and white , that one who is a criminal by definition is not necessarily a bad human being , and that there can be extenuating circumstances , especially when one puts the well - being of a child first . xxmaj however , their earnestness ends up being channeled into preachy dialogue and trite</td>\n",
       "      <td>neg</td>\n",
       "    </tr>\n",
       "    <tr>\n",
       "      <th>3</th>\n",
       "      <td>xxbos xxmaj okay , so xxmaj i 'm not a big video game buff , but was the game xxmaj house of the xxmaj dead really famous enough to make a movie from ? xxmaj sure , they went as far as to actually put in quick video game clips throughout the movie , as though justifying any particular scene of violence , but there are dozens and dozens of games that look exactly the same , with the hand in the bottom on the screen , supposedly your own , holding whatever weapon and goo - ing all kinds of aliens or walking dead or snipers or whatever the case may be . \\n\\n xxmaj it 's an interesting premise in xxmaj house of the xxmaj dead , with a lot of college kids ( loaded college kids , as it were , kids who are able to pay</td>\n",
       "      <td>neg</td>\n",
       "    </tr>\n",
       "    <tr>\n",
       "      <th>4</th>\n",
       "      <td>xxbos xxmaj chris xxmaj rock deserves better than he gives himself in \" down xxmaj to xxmaj earth . \" xxmaj as directed by brothers xxmaj chris &amp; xxmaj paul xxmaj weitz of \" american xxmaj pie \" fame , this uninspired remake of xxmaj warren xxmaj beatty 's 1978 fantasy \" heaven xxmaj can xxmaj wait , \" itself a rehash of 1941 's \" here xxmaj comes xxmaj mr . xxmaj jordan , \" lacks the xxunk profane humor that won xxmaj chris xxmaj rock an xxmaj emmy for his first xxup hbo special . xxmaj predictably , he spouts swear words from a to xxup z , but he consciously avoids the xxmaj f - word . xxmaj anybody who saw this gifted african - american comic in \" lethal xxmaj weapon 4 , \" \" dogma , \" or \" nurse xxmaj betty \" knows he</td>\n",
       "      <td>neg</td>\n",
       "    </tr>\n",
       "    <tr>\n",
       "      <th>5</th>\n",
       "      <td>xxbos i have never seen any of xxmaj spike xxmaj lee 's prior films , as their trailers never caught my interest . i have seen , and admire xxmaj denzel xxmaj washington , and xxmaj jodie xxmaj foster 's work , and have several of their dvds . i was , however , entirely disappointed with this movie . xxmaj if this film is any indication of xxmaj spike xxmaj lee 's ability as a director , my advice would be to \" get a job \" , and stop wasting the time and talent of others . \\n\\n i wonder if some of the other imdb commentators watched the same movie that xxmaj i 'd seen . i can only assume , from their sappy lovelorn reviews , that their adoration of xxmaj spike xxmaj lee has blinded them to the banality of this piece of work .</td>\n",
       "      <td>neg</td>\n",
       "    </tr>\n",
       "    <tr>\n",
       "      <th>6</th>\n",
       "      <td>xxbos xxmaj prior to this release , xxmaj neil labute had this to say about the 1973 original : \" it 's surprising how many people say it 's their favorite soundtrack . xxmaj i 'm like , come on ! xxmaj you may not like the new one , but if that 's your favorite soundtrack , i do n't know if i * want * you to like my film . \" \\n\\n xxmaj neil , a word . xxmaj you might want to sit down for this too ; as xxmaj lord xxmaj xxunk says , shocks are so much better absorbed with the knees bent . xxmaj see , xxmaj neil , the thing about the original , is that xxmaj paul xxmaj giovanni 's soundtrack is one of the most celebrated things about it . xxmaj the filmmakers themselves consider it a virtual musical .</td>\n",
       "      <td>neg</td>\n",
       "    </tr>\n",
       "    <tr>\n",
       "      <th>7</th>\n",
       "      <td>xxbos 8 xxmaj simple xxmaj rules for xxmaj dating xxmaj my xxmaj teenage xxmaj daughter had an auspicious start . xxmaj the supremely - talented xxmaj tom xxmaj shadyac was involved in the project . xxmaj this meant that the comedy would be nothing less of spectacular , and that 's exactly what happened : the show remains one of the freshest , funniest , wittiest shows made in a very long time . xxmaj every line , facial expression , casting choice , scene , all wreaked of perfection . xxmaj there was not one episode after which i thought , \" man that was n't as good as the rest \" . xxmaj each one was a standout . xxmaj again , this is the kind of perfectionism that we 've come to expect from xxmaj tom . xxmaj for those who do n't know , xxmaj tom</td>\n",
       "      <td>pos</td>\n",
       "    </tr>\n",
       "    <tr>\n",
       "      <th>8</th>\n",
       "      <td>xxbos xxmaj pier xxmaj paolo xxmaj pasolini , or xxmaj pee - pee - pee as i prefer to call him ( due to his love of showing male genitals ) , is perhaps xxup the most overrated xxmaj european xxmaj marxist director - and they are thick on the ground . xxmaj how anyone can see \" art \" in this messy , cheap sex - romp concoction is beyond me . xxmaj some of the \" stories \" here could have come straight out of a soft - core porn film , and i am not even so much referring to the nudity but the simplistic and banal , often pointless stories . xxmaj anyone who enjoyed this relatively watchable but dumb oddity should really sink his teeth into the \" der xxmaj xxunk \" soft - porn xxmaj german 70s movie series , because that 's what</td>\n",
       "      <td>neg</td>\n",
       "    </tr>\n",
       "  </tbody>\n",
       "</table>"
      ],
      "text/plain": [
       "<IPython.core.display.HTML object>"
      ]
     },
     "metadata": {},
     "output_type": "display_data"
    }
   ],
   "source": [
    "dls.show_batch()"
   ]
  },
  {
   "cell_type": "code",
   "execution_count": null,
   "id": "c00072ec-dc29-42e4-958c-a8a400b98f67",
   "metadata": {},
   "outputs": [],
   "source": []
  }
 ],
 "metadata": {
  "kernelspec": {
   "display_name": "Python 3",
   "language": "python",
   "name": "python3"
  },
  "language_info": {
   "codemirror_mode": {
    "name": "ipython",
    "version": 3
   },
   "file_extension": ".py",
   "mimetype": "text/x-python",
   "name": "python",
   "nbconvert_exporter": "python",
   "pygments_lexer": "ipython3",
   "version": "3.8.10"
  }
 },
 "nbformat": 4,
 "nbformat_minor": 5
}
