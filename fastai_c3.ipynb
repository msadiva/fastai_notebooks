{
  "nbformat": 4,
  "nbformat_minor": 0,
  "metadata": {
    "colab": {
      "name": "fastai_c3.ipynb",
      "provenance": [],
      "collapsed_sections": []
    },
    "kernelspec": {
      "name": "python3",
      "display_name": "Python 3"
    },
    "language_info": {
      "name": "python"
    },
    "accelerator": "GPU"
  },
  "cells": [
    {
      "cell_type": "code",
      "metadata": {
        "colab": {
          "base_uri": "https://localhost:8080/"
        },
        "id": "eBTFj9XyPmWj",
        "outputId": "5ba0a73b-c93b-4844-8628-7438eaf84b6e"
      },
      "source": [
        "pip install fastai --upgrade"
      ],
      "execution_count": 1,
      "outputs": [
        {
          "output_type": "stream",
          "name": "stdout",
          "text": [
            "Requirement already satisfied: fastai in /usr/local/lib/python3.7/dist-packages (1.0.61)\n",
            "Collecting fastai\n",
            "  Downloading fastai-2.5.3-py3-none-any.whl (189 kB)\n",
            "\u001b[K     |████████████████████████████████| 189 kB 5.5 MB/s \n",
            "\u001b[?25hRequirement already satisfied: matplotlib in /usr/local/lib/python3.7/dist-packages (from fastai) (3.2.2)\n",
            "Collecting fastcore<1.4,>=1.3.22\n",
            "  Downloading fastcore-1.3.26-py3-none-any.whl (56 kB)\n",
            "\u001b[K     |████████████████████████████████| 56 kB 4.1 MB/s \n",
            "\u001b[?25hRequirement already satisfied: torch<1.11,>=1.7.0 in /usr/local/lib/python3.7/dist-packages (from fastai) (1.9.0+cu111)\n",
            "Requirement already satisfied: spacy<4 in /usr/local/lib/python3.7/dist-packages (from fastai) (2.2.4)\n",
            "Requirement already satisfied: torchvision>=0.8.2 in /usr/local/lib/python3.7/dist-packages (from fastai) (0.10.0+cu111)\n",
            "Requirement already satisfied: packaging in /usr/local/lib/python3.7/dist-packages (from fastai) (21.0)\n",
            "Requirement already satisfied: requests in /usr/local/lib/python3.7/dist-packages (from fastai) (2.23.0)\n",
            "Requirement already satisfied: pillow>6.0.0 in /usr/local/lib/python3.7/dist-packages (from fastai) (7.1.2)\n",
            "Collecting fastdownload<2,>=0.0.5\n",
            "  Downloading fastdownload-0.0.5-py3-none-any.whl (13 kB)\n",
            "Requirement already satisfied: pyyaml in /usr/local/lib/python3.7/dist-packages (from fastai) (3.13)\n",
            "Requirement already satisfied: fastprogress>=0.2.4 in /usr/local/lib/python3.7/dist-packages (from fastai) (1.0.0)\n",
            "Requirement already satisfied: scipy in /usr/local/lib/python3.7/dist-packages (from fastai) (1.4.1)\n",
            "Requirement already satisfied: pandas in /usr/local/lib/python3.7/dist-packages (from fastai) (1.1.5)\n",
            "Requirement already satisfied: pip in /usr/local/lib/python3.7/dist-packages (from fastai) (21.1.3)\n",
            "Requirement already satisfied: scikit-learn in /usr/local/lib/python3.7/dist-packages (from fastai) (0.22.2.post1)\n",
            "Requirement already satisfied: numpy in /usr/local/lib/python3.7/dist-packages (from fastprogress>=0.2.4->fastai) (1.19.5)\n",
            "Requirement already satisfied: srsly<1.1.0,>=1.0.2 in /usr/local/lib/python3.7/dist-packages (from spacy<4->fastai) (1.0.5)\n",
            "Requirement already satisfied: wasabi<1.1.0,>=0.4.0 in /usr/local/lib/python3.7/dist-packages (from spacy<4->fastai) (0.8.2)\n",
            "Requirement already satisfied: murmurhash<1.1.0,>=0.28.0 in /usr/local/lib/python3.7/dist-packages (from spacy<4->fastai) (1.0.5)\n",
            "Requirement already satisfied: plac<1.2.0,>=0.9.6 in /usr/local/lib/python3.7/dist-packages (from spacy<4->fastai) (1.1.3)\n",
            "Requirement already satisfied: tqdm<5.0.0,>=4.38.0 in /usr/local/lib/python3.7/dist-packages (from spacy<4->fastai) (4.62.3)\n",
            "Requirement already satisfied: preshed<3.1.0,>=3.0.2 in /usr/local/lib/python3.7/dist-packages (from spacy<4->fastai) (3.0.5)\n",
            "Requirement already satisfied: cymem<2.1.0,>=2.0.2 in /usr/local/lib/python3.7/dist-packages (from spacy<4->fastai) (2.0.5)\n",
            "Requirement already satisfied: setuptools in /usr/local/lib/python3.7/dist-packages (from spacy<4->fastai) (57.4.0)\n",
            "Requirement already satisfied: blis<0.5.0,>=0.4.0 in /usr/local/lib/python3.7/dist-packages (from spacy<4->fastai) (0.4.1)\n",
            "Requirement already satisfied: thinc==7.4.0 in /usr/local/lib/python3.7/dist-packages (from spacy<4->fastai) (7.4.0)\n",
            "Requirement already satisfied: catalogue<1.1.0,>=0.0.7 in /usr/local/lib/python3.7/dist-packages (from spacy<4->fastai) (1.0.0)\n",
            "Requirement already satisfied: importlib-metadata>=0.20 in /usr/local/lib/python3.7/dist-packages (from catalogue<1.1.0,>=0.0.7->spacy<4->fastai) (4.8.1)\n",
            "Requirement already satisfied: typing-extensions>=3.6.4 in /usr/local/lib/python3.7/dist-packages (from importlib-metadata>=0.20->catalogue<1.1.0,>=0.0.7->spacy<4->fastai) (3.7.4.3)\n",
            "Requirement already satisfied: zipp>=0.5 in /usr/local/lib/python3.7/dist-packages (from importlib-metadata>=0.20->catalogue<1.1.0,>=0.0.7->spacy<4->fastai) (3.6.0)\n",
            "Requirement already satisfied: certifi>=2017.4.17 in /usr/local/lib/python3.7/dist-packages (from requests->fastai) (2021.5.30)\n",
            "Requirement already satisfied: idna<3,>=2.5 in /usr/local/lib/python3.7/dist-packages (from requests->fastai) (2.10)\n",
            "Requirement already satisfied: urllib3!=1.25.0,!=1.25.1,<1.26,>=1.21.1 in /usr/local/lib/python3.7/dist-packages (from requests->fastai) (1.24.3)\n",
            "Requirement already satisfied: chardet<4,>=3.0.2 in /usr/local/lib/python3.7/dist-packages (from requests->fastai) (3.0.4)\n",
            "Requirement already satisfied: kiwisolver>=1.0.1 in /usr/local/lib/python3.7/dist-packages (from matplotlib->fastai) (1.3.2)\n",
            "Requirement already satisfied: pyparsing!=2.0.4,!=2.1.2,!=2.1.6,>=2.0.1 in /usr/local/lib/python3.7/dist-packages (from matplotlib->fastai) (2.4.7)\n",
            "Requirement already satisfied: cycler>=0.10 in /usr/local/lib/python3.7/dist-packages (from matplotlib->fastai) (0.10.0)\n",
            "Requirement already satisfied: python-dateutil>=2.1 in /usr/local/lib/python3.7/dist-packages (from matplotlib->fastai) (2.8.2)\n",
            "Requirement already satisfied: six in /usr/local/lib/python3.7/dist-packages (from cycler>=0.10->matplotlib->fastai) (1.15.0)\n",
            "Requirement already satisfied: pytz>=2017.2 in /usr/local/lib/python3.7/dist-packages (from pandas->fastai) (2018.9)\n",
            "Requirement already satisfied: joblib>=0.11 in /usr/local/lib/python3.7/dist-packages (from scikit-learn->fastai) (1.0.1)\n",
            "Installing collected packages: fastcore, fastdownload, fastai\n",
            "  Attempting uninstall: fastai\n",
            "    Found existing installation: fastai 1.0.61\n",
            "    Uninstalling fastai-1.0.61:\n",
            "      Successfully uninstalled fastai-1.0.61\n",
            "Successfully installed fastai-2.5.3 fastcore-1.3.26 fastdownload-0.0.5\n"
          ]
        }
      ]
    },
    {
      "cell_type": "code",
      "metadata": {
        "id": "u1KGjsjwRJ22"
      },
      "source": [
        "import fastai\n",
        "from fastai.vision.all import *\n",
        "import numpy as np"
      ],
      "execution_count": 2,
      "outputs": []
    },
    {
      "cell_type": "code",
      "metadata": {
        "colab": {
          "base_uri": "https://localhost:8080/",
          "height": 37
        },
        "id": "NXZ_kFtqRUV5",
        "outputId": "67be8766-4dbe-404e-bc51-4b21c6429645"
      },
      "source": [
        "path = untar_data(URLs.MNIST_SAMPLE)"
      ],
      "execution_count": 3,
      "outputs": [
        {
          "output_type": "display_data",
          "data": {
            "text/html": [
              "\n",
              "    <div>\n",
              "        <style>\n",
              "            /* Turns off some styling */\n",
              "            progress {\n",
              "                /* gets rid of default border in Firefox and Opera. */\n",
              "                border: none;\n",
              "                /* Needs to be in here for Safari polyfill so background images work as expected. */\n",
              "                background-size: auto;\n",
              "            }\n",
              "            .progress-bar-interrupted, .progress-bar-interrupted::-webkit-progress-bar {\n",
              "                background: #F44336;\n",
              "            }\n",
              "        </style>\n",
              "      <progress value='3219456' class='' max='3214948' style='width:300px; height:20px; vertical-align: middle;'></progress>\n",
              "      100.14% [3219456/3214948 00:00<00:00]\n",
              "    </div>\n",
              "    "
            ],
            "text/plain": [
              "<IPython.core.display.HTML object>"
            ]
          },
          "metadata": {}
        }
      ]
    },
    {
      "cell_type": "code",
      "metadata": {
        "colab": {
          "base_uri": "https://localhost:8080/"
        },
        "id": "47xO8NVvR2iR",
        "outputId": "3ed2cfa8-a40e-4c72-890a-70aeffbfe6e5"
      },
      "source": [
        "path.ls()"
      ],
      "execution_count": 4,
      "outputs": [
        {
          "output_type": "execute_result",
          "data": {
            "text/plain": [
              "(#3) [Path('/root/.fastai/data/mnist_sample/train'),Path('/root/.fastai/data/mnist_sample/valid'),Path('/root/.fastai/data/mnist_sample/labels.csv')]"
            ]
          },
          "metadata": {},
          "execution_count": 4
        }
      ]
    },
    {
      "cell_type": "code",
      "metadata": {
        "colab": {
          "base_uri": "https://localhost:8080/"
        },
        "id": "jPBwvA91R_gG",
        "outputId": "dc440307-8947-4263-dcc5-930ed8274d67"
      },
      "source": [
        "(path/'train').ls()"
      ],
      "execution_count": 5,
      "outputs": [
        {
          "output_type": "execute_result",
          "data": {
            "text/plain": [
              "(#2) [Path('/root/.fastai/data/mnist_sample/train/7'),Path('/root/.fastai/data/mnist_sample/train/3')]"
            ]
          },
          "metadata": {},
          "execution_count": 5
        }
      ]
    },
    {
      "cell_type": "code",
      "metadata": {
        "colab": {
          "base_uri": "https://localhost:8080/"
        },
        "id": "3qqR4hhDSOmN",
        "outputId": "02fbec56-31cc-4575-9886-78106118c96c"
      },
      "source": [
        "threes = (path/'train'/'3').ls().sorted()\n",
        "sevens = (path/'train'/'7').ls().sorted()\n",
        "\n",
        "threes"
      ],
      "execution_count": 6,
      "outputs": [
        {
          "output_type": "execute_result",
          "data": {
            "text/plain": [
              "(#6131) [Path('/root/.fastai/data/mnist_sample/train/3/10.png'),Path('/root/.fastai/data/mnist_sample/train/3/10000.png'),Path('/root/.fastai/data/mnist_sample/train/3/10011.png'),Path('/root/.fastai/data/mnist_sample/train/3/10031.png'),Path('/root/.fastai/data/mnist_sample/train/3/10034.png'),Path('/root/.fastai/data/mnist_sample/train/3/10042.png'),Path('/root/.fastai/data/mnist_sample/train/3/10052.png'),Path('/root/.fastai/data/mnist_sample/train/3/1007.png'),Path('/root/.fastai/data/mnist_sample/train/3/10074.png'),Path('/root/.fastai/data/mnist_sample/train/3/10091.png')...]"
            ]
          },
          "metadata": {},
          "execution_count": 6
        }
      ]
    },
    {
      "cell_type": "code",
      "metadata": {
        "colab": {
          "base_uri": "https://localhost:8080/",
          "height": 45
        },
        "id": "nVso30knStJ0",
        "outputId": "fdff9f93-65dd-45d6-c16b-774fc675eac9"
      },
      "source": [
        "im3_path = threes[1]\n",
        "im3 = Image.open(im3_path)\n",
        "im3"
      ],
      "execution_count": 7,
      "outputs": [
        {
          "output_type": "execute_result",
          "data": {
            "image/png": "[encoded data removed]",
            "text/plain": [
              "<PIL.PngImagePlugin.PngImageFile image mode=L size=28x28 at 0x7FE3A66D6C90>"
            ]
          },
          "metadata": {},
          "execution_count": 7
        }
      ]
    },
    {
      "cell_type": "code",
      "metadata": {
        "colab": {
          "base_uri": "https://localhost:8080/",
          "height": 45
        },
        "id": "RujE2BtWTE-Y",
        "outputId": "2aefcd9a-4c51-460e-f8a9-fd7d42f4a949"
      },
      "source": [
        "im7_path = sevens[2]\n",
        "im7 = Image.open(im7_path)\n",
        "im7"
      ],
      "execution_count": 8,
      "outputs": [
        {
          "output_type": "execute_result",
          "data": {
            "image/png": "[encoded data removed]",
            "text/plain": [
              "<PIL.PngImagePlugin.PngImageFile image mode=L size=28x28 at 0x7FE3A6651510>"
            ]
          },
          "metadata": {},
          "execution_count": 8
        }
      ]
    },
    {
      "cell_type": "code",
      "metadata": {
        "colab": {
          "base_uri": "https://localhost:8080/"
        },
        "id": "PBrzFzMeThiC",
        "outputId": "9e86313b-299f-45dd-db8e-378efe8fd8e3"
      },
      "source": [
        "array(im3)[4:10, 4:10]"
      ],
      "execution_count": 9,
      "outputs": [
        {
          "output_type": "execute_result",
          "data": {
            "text/plain": [
              "array([[  0,   0,   0,   0,   0,   0],\n",
              "       [  0,   0,   0,   0,   0,  29],\n",
              "       [  0,   0,   0,  48, 166, 224],\n",
              "       [  0,  93, 244, 249, 253, 187],\n",
              "       [  0, 107, 253, 253, 230,  48],\n",
              "       [  0,   3,  20,  20,  15,   0]], dtype=uint8)"
            ]
          },
          "metadata": {},
          "execution_count": 9
        }
      ]
    },
    {
      "cell_type": "code",
      "metadata": {
        "colab": {
          "base_uri": "https://localhost:8080/"
        },
        "id": "tovh8_1NTsia",
        "outputId": "486ec4f1-168b-46a6-a099-c94e723d9951"
      },
      "source": [
        "tensor(im3)[4:10, 4:10]"
      ],
      "execution_count": 10,
      "outputs": [
        {
          "output_type": "execute_result",
          "data": {
            "text/plain": [
              "tensor([[  0,   0,   0,   0,   0,   0],\n",
              "        [  0,   0,   0,   0,   0,  29],\n",
              "        [  0,   0,   0,  48, 166, 224],\n",
              "        [  0,  93, 244, 249, 253, 187],\n",
              "        [  0, 107, 253, 253, 230,  48],\n",
              "        [  0,   3,  20,  20,  15,   0]], dtype=torch.uint8)"
            ]
          },
          "metadata": {},
          "execution_count": 10
        }
      ]
    },
    {
      "cell_type": "code",
      "metadata": {
        "colab": {
          "base_uri": "https://localhost:8080/",
          "height": 394
        },
        "id": "6y_0NnX4Tz5Y",
        "outputId": "27534f67-610e-4f6c-d12e-8fe4ec4c2aec"
      },
      "source": [
        "im3_t = tensor(im3)\n",
        "df = pd.DataFrame(im3_t[4:15, 4:22])\n",
        "df.style.set_properties(**{'font-size' : '6pt'}).background_gradient('Greys')"
      ],
      "execution_count": 11,
      "outputs": [
        {
          "output_type": "execute_result",
          "data": {
            "text/html": [
              "<style  type=\"text/css\" >\n",
              "#T_cde17f60_38ea_11ec_b004_0242ac1c0002row0_col0,#T_cde17f60_38ea_11ec_b004_0242ac1c0002row0_col1,#T_cde17f60_38ea_11ec_b004_0242ac1c0002row0_col2,#T_cde17f60_38ea_11ec_b004_0242ac1c0002row0_col3,#T_cde17f60_38ea_11ec_b004_0242ac1c0002row0_col4,#T_cde17f60_38ea_11ec_b004_0242ac1c0002row0_col5,#T_cde17f60_38ea_11ec_b004_0242ac1c0002row0_col6,#T_cde17f60_38ea_11ec_b004_0242ac1c0002row0_col7,#T_cde17f60_38ea_11ec_b004_0242ac1c0002row0_col8,#T_cde17f60_38ea_11ec_b004_0242ac1c0002row0_col9,#T_cde17f60_38ea_11ec_b004_0242ac1c0002row0_col10,#T_cde17f60_38ea_11ec_b004_0242ac1c0002row0_col11,#T_cde17f60_38ea_11ec_b004_0242ac1c0002row0_col12,#T_cde17f60_38ea_11ec_b004_0242ac1c0002row0_col13,#T_cde17f60_38ea_11ec_b004_0242ac1c0002row0_col14,#T_cde17f60_38ea_11ec_b004_0242ac1c0002row0_col15,#T_cde17f60_38ea_11ec_b004_0242ac1c0002row0_col16,#T_cde17f60_38ea_11ec_b004_0242ac1c0002row0_col17,#T_cde17f60_38ea_11ec_b004_0242ac1c0002row1_col0,#T_cde17f60_38ea_11ec_b004_0242ac1c0002row1_col1,#T_cde17f60_38ea_11ec_b004_0242ac1c0002row1_col2,#T_cde17f60_38ea_11ec_b004_0242ac1c0002row1_col3,#T_cde17f60_38ea_11ec_b004_0242ac1c0002row1_col4,#T_cde17f60_38ea_11ec_b004_0242ac1c0002row1_col15,#T_cde17f60_38ea_11ec_b004_0242ac1c0002row1_col16,#T_cde17f60_38ea_11ec_b004_0242ac1c0002row1_col17,#T_cde17f60_38ea_11ec_b004_0242ac1c0002row2_col0,#T_cde17f60_38ea_11ec_b004_0242ac1c0002row2_col1,#T_cde17f60_38ea_11ec_b004_0242ac1c0002row2_col2,#T_cde17f60_38ea_11ec_b004_0242ac1c0002row2_col15,#T_cde17f60_38ea_11ec_b004_0242ac1c0002row2_col16,#T_cde17f60_38ea_11ec_b004_0242ac1c0002row2_col17,#T_cde17f60_38ea_11ec_b004_0242ac1c0002row3_col0,#T_cde17f60_38ea_11ec_b004_0242ac1c0002row3_col15,#T_cde17f60_38ea_11ec_b004_0242ac1c0002row3_col16,#T_cde17f60_38ea_11ec_b004_0242ac1c0002row3_col17,#T_cde17f60_38ea_11ec_b004_0242ac1c0002row4_col0,#T_cde17f60_38ea_11ec_b004_0242ac1c0002row4_col6,#T_cde17f60_38ea_11ec_b004_0242ac1c0002row4_col7,#T_cde17f60_38ea_11ec_b004_0242ac1c0002row4_col8,#T_cde17f60_38ea_11ec_b004_0242ac1c0002row4_col9,#T_cde17f60_38ea_11ec_b004_0242ac1c0002row4_col10,#T_cde17f60_38ea_11ec_b004_0242ac1c0002row4_col15,#T_cde17f60_38ea_11ec_b004_0242ac1c0002row4_col16,#T_cde17f60_38ea_11ec_b004_0242ac1c0002row4_col17,#T_cde17f60_38ea_11ec_b004_0242ac1c0002row5_col0,#T_cde17f60_38ea_11ec_b004_0242ac1c0002row5_col5,#T_cde17f60_38ea_11ec_b004_0242ac1c0002row5_col6,#T_cde17f60_38ea_11ec_b004_0242ac1c0002row5_col7,#T_cde17f60_38ea_11ec_b004_0242ac1c0002row5_col8,#T_cde17f60_38ea_11ec_b004_0242ac1c0002row5_col9,#T_cde17f60_38ea_11ec_b004_0242ac1c0002row5_col15,#T_cde17f60_38ea_11ec_b004_0242ac1c0002row5_col16,#T_cde17f60_38ea_11ec_b004_0242ac1c0002row5_col17,#T_cde17f60_38ea_11ec_b004_0242ac1c0002row6_col0,#T_cde17f60_38ea_11ec_b004_0242ac1c0002row6_col1,#T_cde17f60_38ea_11ec_b004_0242ac1c0002row6_col2,#T_cde17f60_38ea_11ec_b004_0242ac1c0002row6_col3,#T_cde17f60_38ea_11ec_b004_0242ac1c0002row6_col4,#T_cde17f60_38ea_11ec_b004_0242ac1c0002row6_col5,#T_cde17f60_38ea_11ec_b004_0242ac1c0002row6_col6,#T_cde17f60_38ea_11ec_b004_0242ac1c0002row6_col7,#T_cde17f60_38ea_11ec_b004_0242ac1c0002row6_col8,#T_cde17f60_38ea_11ec_b004_0242ac1c0002row6_col9,#T_cde17f60_38ea_11ec_b004_0242ac1c0002row6_col14,#T_cde17f60_38ea_11ec_b004_0242ac1c0002row6_col15,#T_cde17f60_38ea_11ec_b004_0242ac1c0002row6_col16,#T_cde17f60_38ea_11ec_b004_0242ac1c0002row6_col17,#T_cde17f60_38ea_11ec_b004_0242ac1c0002row7_col0,#T_cde17f60_38ea_11ec_b004_0242ac1c0002row7_col1,#T_cde17f60_38ea_11ec_b004_0242ac1c0002row7_col2,#T_cde17f60_38ea_11ec_b004_0242ac1c0002row7_col3,#T_cde17f60_38ea_11ec_b004_0242ac1c0002row7_col4,#T_cde17f60_38ea_11ec_b004_0242ac1c0002row7_col5,#T_cde17f60_38ea_11ec_b004_0242ac1c0002row7_col6,#T_cde17f60_38ea_11ec_b004_0242ac1c0002row7_col13,#T_cde17f60_38ea_11ec_b004_0242ac1c0002row7_col14,#T_cde17f60_38ea_11ec_b004_0242ac1c0002row7_col15,#T_cde17f60_38ea_11ec_b004_0242ac1c0002row7_col16,#T_cde17f60_38ea_11ec_b004_0242ac1c0002row7_col17,#T_cde17f60_38ea_11ec_b004_0242ac1c0002row8_col0,#T_cde17f60_38ea_11ec_b004_0242ac1c0002row8_col1,#T_cde17f60_38ea_11ec_b004_0242ac1c0002row8_col2,#T_cde17f60_38ea_11ec_b004_0242ac1c0002row8_col3,#T_cde17f60_38ea_11ec_b004_0242ac1c0002row8_col4,#T_cde17f60_38ea_11ec_b004_0242ac1c0002row8_col13,#T_cde17f60_38ea_11ec_b004_0242ac1c0002row8_col14,#T_cde17f60_38ea_11ec_b004_0242ac1c0002row8_col15,#T_cde17f60_38ea_11ec_b004_0242ac1c0002row8_col16,#T_cde17f60_38ea_11ec_b004_0242ac1c0002row8_col17,#T_cde17f60_38ea_11ec_b004_0242ac1c0002row9_col0,#T_cde17f60_38ea_11ec_b004_0242ac1c0002row9_col1,#T_cde17f60_38ea_11ec_b004_0242ac1c0002row9_col2,#T_cde17f60_38ea_11ec_b004_0242ac1c0002row9_col3,#T_cde17f60_38ea_11ec_b004_0242ac1c0002row9_col4,#T_cde17f60_38ea_11ec_b004_0242ac1c0002row9_col16,#T_cde17f60_38ea_11ec_b004_0242ac1c0002row9_col17,#T_cde17f60_38ea_11ec_b004_0242ac1c0002row10_col0,#T_cde17f60_38ea_11ec_b004_0242ac1c0002row10_col1,#T_cde17f60_38ea_11ec_b004_0242ac1c0002row10_col2,#T_cde17f60_38ea_11ec_b004_0242ac1c0002row10_col3,#T_cde17f60_38ea_11ec_b004_0242ac1c0002row10_col4,#T_cde17f60_38ea_11ec_b004_0242ac1c0002row10_col5,#T_cde17f60_38ea_11ec_b004_0242ac1c0002row10_col6,#T_cde17f60_38ea_11ec_b004_0242ac1c0002row10_col17{\n",
              "            font-size:  6pt;\n",
              "            background-color:  #ffffff;\n",
              "            color:  #000000;\n",
              "        }#T_cde17f60_38ea_11ec_b004_0242ac1c0002row1_col5{\n",
              "            font-size:  6pt;\n",
              "            background-color:  #efefef;\n",
              "            color:  #000000;\n",
              "        }#T_cde17f60_38ea_11ec_b004_0242ac1c0002row1_col6,#T_cde17f60_38ea_11ec_b004_0242ac1c0002row1_col13{\n",
              "            font-size:  6pt;\n",
              "            background-color:  #7c7c7c;\n",
              "            color:  #000000;\n",
              "        }#T_cde17f60_38ea_11ec_b004_0242ac1c0002row1_col7{\n",
              "            font-size:  6pt;\n",
              "            background-color:  #4a4a4a;\n",
              "            color:  #f1f1f1;\n",
              "        }#T_cde17f60_38ea_11ec_b004_0242ac1c0002row1_col8,#T_cde17f60_38ea_11ec_b004_0242ac1c0002row1_col9,#T_cde17f60_38ea_11ec_b004_0242ac1c0002row1_col10,#T_cde17f60_38ea_11ec_b004_0242ac1c0002row2_col5,#T_cde17f60_38ea_11ec_b004_0242ac1c0002row2_col6,#T_cde17f60_38ea_11ec_b004_0242ac1c0002row2_col7,#T_cde17f60_38ea_11ec_b004_0242ac1c0002row2_col11,#T_cde17f60_38ea_11ec_b004_0242ac1c0002row2_col12,#T_cde17f60_38ea_11ec_b004_0242ac1c0002row2_col13,#T_cde17f60_38ea_11ec_b004_0242ac1c0002row3_col4,#T_cde17f60_38ea_11ec_b004_0242ac1c0002row3_col12,#T_cde17f60_38ea_11ec_b004_0242ac1c0002row3_col13,#T_cde17f60_38ea_11ec_b004_0242ac1c0002row4_col1,#T_cde17f60_38ea_11ec_b004_0242ac1c0002row4_col2,#T_cde17f60_38ea_11ec_b004_0242ac1c0002row4_col3,#T_cde17f60_38ea_11ec_b004_0242ac1c0002row4_col12,#T_cde17f60_38ea_11ec_b004_0242ac1c0002row4_col13,#T_cde17f60_38ea_11ec_b004_0242ac1c0002row5_col12,#T_cde17f60_38ea_11ec_b004_0242ac1c0002row6_col11,#T_cde17f60_38ea_11ec_b004_0242ac1c0002row9_col11,#T_cde17f60_38ea_11ec_b004_0242ac1c0002row10_col11,#T_cde17f60_38ea_11ec_b004_0242ac1c0002row10_col12,#T_cde17f60_38ea_11ec_b004_0242ac1c0002row10_col13,#T_cde17f60_38ea_11ec_b004_0242ac1c0002row10_col14,#T_cde17f60_38ea_11ec_b004_0242ac1c0002row10_col15,#T_cde17f60_38ea_11ec_b004_0242ac1c0002row10_col16{\n",
              "            font-size:  6pt;\n",
              "            background-color:  #000000;\n",
              "            color:  #f1f1f1;\n",
              "        }#T_cde17f60_38ea_11ec_b004_0242ac1c0002row1_col11{\n",
              "            font-size:  6pt;\n",
              "            background-color:  #606060;\n",
              "            color:  #f1f1f1;\n",
              "        }#T_cde17f60_38ea_11ec_b004_0242ac1c0002row1_col12{\n",
              "            font-size:  6pt;\n",
              "            background-color:  #4d4d4d;\n",
              "            color:  #f1f1f1;\n",
              "        }#T_cde17f60_38ea_11ec_b004_0242ac1c0002row1_col14{\n",
              "            font-size:  6pt;\n",
              "            background-color:  #bbbbbb;\n",
              "            color:  #000000;\n",
              "        }#T_cde17f60_38ea_11ec_b004_0242ac1c0002row2_col3{\n",
              "            font-size:  6pt;\n",
              "            background-color:  #e4e4e4;\n",
              "            color:  #000000;\n",
              "        }#T_cde17f60_38ea_11ec_b004_0242ac1c0002row2_col4,#T_cde17f60_38ea_11ec_b004_0242ac1c0002row8_col6{\n",
              "            font-size:  6pt;\n",
              "            background-color:  #6b6b6b;\n",
              "            color:  #000000;\n",
              "        }#T_cde17f60_38ea_11ec_b004_0242ac1c0002row2_col8,#T_cde17f60_38ea_11ec_b004_0242ac1c0002row2_col14,#T_cde17f60_38ea_11ec_b004_0242ac1c0002row3_col14{\n",
              "            font-size:  6pt;\n",
              "            background-color:  #171717;\n",
              "            color:  #f1f1f1;\n",
              "        }#T_cde17f60_38ea_11ec_b004_0242ac1c0002row2_col9,#T_cde17f60_38ea_11ec_b004_0242ac1c0002row3_col11{\n",
              "            font-size:  6pt;\n",
              "            background-color:  #4b4b4b;\n",
              "            color:  #f1f1f1;\n",
              "        }#T_cde17f60_38ea_11ec_b004_0242ac1c0002row2_col10,#T_cde17f60_38ea_11ec_b004_0242ac1c0002row7_col10,#T_cde17f60_38ea_11ec_b004_0242ac1c0002row8_col8,#T_cde17f60_38ea_11ec_b004_0242ac1c0002row8_col10,#T_cde17f60_38ea_11ec_b004_0242ac1c0002row9_col8,#T_cde17f60_38ea_11ec_b004_0242ac1c0002row9_col10{\n",
              "            font-size:  6pt;\n",
              "            background-color:  #010101;\n",
              "            color:  #f1f1f1;\n",
              "        }#T_cde17f60_38ea_11ec_b004_0242ac1c0002row3_col1{\n",
              "            font-size:  6pt;\n",
              "            background-color:  #272727;\n",
              "            color:  #f1f1f1;\n",
              "        }#T_cde17f60_38ea_11ec_b004_0242ac1c0002row3_col2{\n",
              "            font-size:  6pt;\n",
              "            background-color:  #0a0a0a;\n",
              "            color:  #f1f1f1;\n",
              "        }#T_cde17f60_38ea_11ec_b004_0242ac1c0002row3_col3{\n",
              "            font-size:  6pt;\n",
              "            background-color:  #050505;\n",
              "            color:  #f1f1f1;\n",
              "        }#T_cde17f60_38ea_11ec_b004_0242ac1c0002row3_col5{\n",
              "            font-size:  6pt;\n",
              "            background-color:  #333333;\n",
              "            color:  #f1f1f1;\n",
              "        }#T_cde17f60_38ea_11ec_b004_0242ac1c0002row3_col6{\n",
              "            font-size:  6pt;\n",
              "            background-color:  #e6e6e6;\n",
              "            color:  #000000;\n",
              "        }#T_cde17f60_38ea_11ec_b004_0242ac1c0002row3_col7,#T_cde17f60_38ea_11ec_b004_0242ac1c0002row3_col10{\n",
              "            font-size:  6pt;\n",
              "            background-color:  #fafafa;\n",
              "            color:  #000000;\n",
              "        }#T_cde17f60_38ea_11ec_b004_0242ac1c0002row3_col8{\n",
              "            font-size:  6pt;\n",
              "            background-color:  #fbfbfb;\n",
              "            color:  #000000;\n",
              "        }#T_cde17f60_38ea_11ec_b004_0242ac1c0002row3_col9{\n",
              "            font-size:  6pt;\n",
              "            background-color:  #fdfdfd;\n",
              "            color:  #000000;\n",
              "        }#T_cde17f60_38ea_11ec_b004_0242ac1c0002row4_col4{\n",
              "            font-size:  6pt;\n",
              "            background-color:  #1b1b1b;\n",
              "            color:  #f1f1f1;\n",
              "        }#T_cde17f60_38ea_11ec_b004_0242ac1c0002row4_col5{\n",
              "            font-size:  6pt;\n",
              "            background-color:  #e0e0e0;\n",
              "            color:  #000000;\n",
              "        }#T_cde17f60_38ea_11ec_b004_0242ac1c0002row4_col11{\n",
              "            font-size:  6pt;\n",
              "            background-color:  #4e4e4e;\n",
              "            color:  #f1f1f1;\n",
              "        }#T_cde17f60_38ea_11ec_b004_0242ac1c0002row4_col14{\n",
              "            font-size:  6pt;\n",
              "            background-color:  #767676;\n",
              "            color:  #000000;\n",
              "        }#T_cde17f60_38ea_11ec_b004_0242ac1c0002row5_col1{\n",
              "            font-size:  6pt;\n",
              "            background-color:  #fcfcfc;\n",
              "            color:  #000000;\n",
              "        }#T_cde17f60_38ea_11ec_b004_0242ac1c0002row5_col2,#T_cde17f60_38ea_11ec_b004_0242ac1c0002row5_col3{\n",
              "            font-size:  6pt;\n",
              "            background-color:  #f6f6f6;\n",
              "            color:  #000000;\n",
              "        }#T_cde17f60_38ea_11ec_b004_0242ac1c0002row5_col4,#T_cde17f60_38ea_11ec_b004_0242ac1c0002row7_col7{\n",
              "            font-size:  6pt;\n",
              "            background-color:  #f8f8f8;\n",
              "            color:  #000000;\n",
              "        }#T_cde17f60_38ea_11ec_b004_0242ac1c0002row5_col10,#T_cde17f60_38ea_11ec_b004_0242ac1c0002row10_col7{\n",
              "            font-size:  6pt;\n",
              "            background-color:  #e8e8e8;\n",
              "            color:  #000000;\n",
              "        }#T_cde17f60_38ea_11ec_b004_0242ac1c0002row5_col11{\n",
              "            font-size:  6pt;\n",
              "            background-color:  #222222;\n",
              "            color:  #f1f1f1;\n",
              "        }#T_cde17f60_38ea_11ec_b004_0242ac1c0002row5_col13,#T_cde17f60_38ea_11ec_b004_0242ac1c0002row6_col12{\n",
              "            font-size:  6pt;\n",
              "            background-color:  #090909;\n",
              "            color:  #f1f1f1;\n",
              "        }#T_cde17f60_38ea_11ec_b004_0242ac1c0002row5_col14{\n",
              "            font-size:  6pt;\n",
              "            background-color:  #d0d0d0;\n",
              "            color:  #000000;\n",
              "        }#T_cde17f60_38ea_11ec_b004_0242ac1c0002row6_col10,#T_cde17f60_38ea_11ec_b004_0242ac1c0002row7_col11,#T_cde17f60_38ea_11ec_b004_0242ac1c0002row9_col6{\n",
              "            font-size:  6pt;\n",
              "            background-color:  #060606;\n",
              "            color:  #f1f1f1;\n",
              "        }#T_cde17f60_38ea_11ec_b004_0242ac1c0002row6_col13{\n",
              "            font-size:  6pt;\n",
              "            background-color:  #979797;\n",
              "            color:  #000000;\n",
              "        }#T_cde17f60_38ea_11ec_b004_0242ac1c0002row7_col8{\n",
              "            font-size:  6pt;\n",
              "            background-color:  #b6b6b6;\n",
              "            color:  #000000;\n",
              "        }#T_cde17f60_38ea_11ec_b004_0242ac1c0002row7_col9{\n",
              "            font-size:  6pt;\n",
              "            background-color:  #252525;\n",
              "            color:  #f1f1f1;\n",
              "        }#T_cde17f60_38ea_11ec_b004_0242ac1c0002row7_col12{\n",
              "            font-size:  6pt;\n",
              "            background-color:  #999999;\n",
              "            color:  #000000;\n",
              "        }#T_cde17f60_38ea_11ec_b004_0242ac1c0002row8_col5{\n",
              "            font-size:  6pt;\n",
              "            background-color:  #f9f9f9;\n",
              "            color:  #000000;\n",
              "        }#T_cde17f60_38ea_11ec_b004_0242ac1c0002row8_col7{\n",
              "            font-size:  6pt;\n",
              "            background-color:  #101010;\n",
              "            color:  #f1f1f1;\n",
              "        }#T_cde17f60_38ea_11ec_b004_0242ac1c0002row8_col9,#T_cde17f60_38ea_11ec_b004_0242ac1c0002row9_col9{\n",
              "            font-size:  6pt;\n",
              "            background-color:  #020202;\n",
              "            color:  #f1f1f1;\n",
              "        }#T_cde17f60_38ea_11ec_b004_0242ac1c0002row8_col11{\n",
              "            font-size:  6pt;\n",
              "            background-color:  #545454;\n",
              "            color:  #f1f1f1;\n",
              "        }#T_cde17f60_38ea_11ec_b004_0242ac1c0002row8_col12{\n",
              "            font-size:  6pt;\n",
              "            background-color:  #f1f1f1;\n",
              "            color:  #000000;\n",
              "        }#T_cde17f60_38ea_11ec_b004_0242ac1c0002row9_col5{\n",
              "            font-size:  6pt;\n",
              "            background-color:  #f7f7f7;\n",
              "            color:  #000000;\n",
              "        }#T_cde17f60_38ea_11ec_b004_0242ac1c0002row9_col7{\n",
              "            font-size:  6pt;\n",
              "            background-color:  #030303;\n",
              "            color:  #f1f1f1;\n",
              "        }#T_cde17f60_38ea_11ec_b004_0242ac1c0002row9_col12{\n",
              "            font-size:  6pt;\n",
              "            background-color:  #181818;\n",
              "            color:  #f1f1f1;\n",
              "        }#T_cde17f60_38ea_11ec_b004_0242ac1c0002row9_col13{\n",
              "            font-size:  6pt;\n",
              "            background-color:  #303030;\n",
              "            color:  #f1f1f1;\n",
              "        }#T_cde17f60_38ea_11ec_b004_0242ac1c0002row9_col14{\n",
              "            font-size:  6pt;\n",
              "            background-color:  #a9a9a9;\n",
              "            color:  #000000;\n",
              "        }#T_cde17f60_38ea_11ec_b004_0242ac1c0002row9_col15{\n",
              "            font-size:  6pt;\n",
              "            background-color:  #fefefe;\n",
              "            color:  #000000;\n",
              "        }#T_cde17f60_38ea_11ec_b004_0242ac1c0002row10_col8,#T_cde17f60_38ea_11ec_b004_0242ac1c0002row10_col9{\n",
              "            font-size:  6pt;\n",
              "            background-color:  #bababa;\n",
              "            color:  #000000;\n",
              "        }#T_cde17f60_38ea_11ec_b004_0242ac1c0002row10_col10{\n",
              "            font-size:  6pt;\n",
              "            background-color:  #393939;\n",
              "            color:  #f1f1f1;\n",
              "        }</style><table id=\"T_cde17f60_38ea_11ec_b004_0242ac1c0002\" class=\"dataframe\"><thead>    <tr>        <th class=\"blank level0\" ></th>        <th class=\"col_heading level0 col0\" >0</th>        <th class=\"col_heading level0 col1\" >1</th>        <th class=\"col_heading level0 col2\" >2</th>        <th class=\"col_heading level0 col3\" >3</th>        <th class=\"col_heading level0 col4\" >4</th>        <th class=\"col_heading level0 col5\" >5</th>        <th class=\"col_heading level0 col6\" >6</th>        <th class=\"col_heading level0 col7\" >7</th>        <th class=\"col_heading level0 col8\" >8</th>        <th class=\"col_heading level0 col9\" >9</th>        <th class=\"col_heading level0 col10\" >10</th>        <th class=\"col_heading level0 col11\" >11</th>        <th class=\"col_heading level0 col12\" >12</th>        <th class=\"col_heading level0 col13\" >13</th>        <th class=\"col_heading level0 col14\" >14</th>        <th class=\"col_heading level0 col15\" >15</th>        <th class=\"col_heading level0 col16\" >16</th>        <th class=\"col_heading level0 col17\" >17</th>    </tr></thead><tbody>\n",
              "                <tr>\n",
              "                        <th id=\"T_cde17f60_38ea_11ec_b004_0242ac1c0002level0_row0\" class=\"row_heading level0 row0\" >0</th>\n",
              "                        <td id=\"T_cde17f60_38ea_11ec_b004_0242ac1c0002row0_col0\" class=\"data row0 col0\" >0</td>\n",
              "                        <td id=\"T_cde17f60_38ea_11ec_b004_0242ac1c0002row0_col1\" class=\"data row0 col1\" >0</td>\n",
              "                        <td id=\"T_cde17f60_38ea_11ec_b004_0242ac1c0002row0_col2\" class=\"data row0 col2\" >0</td>\n",
              "                        <td id=\"T_cde17f60_38ea_11ec_b004_0242ac1c0002row0_col3\" class=\"data row0 col3\" >0</td>\n",
              "                        <td id=\"T_cde17f60_38ea_11ec_b004_0242ac1c0002row0_col4\" class=\"data row0 col4\" >0</td>\n",
              "                        <td id=\"T_cde17f60_38ea_11ec_b004_0242ac1c0002row0_col5\" class=\"data row0 col5\" >0</td>\n",
              "                        <td id=\"T_cde17f60_38ea_11ec_b004_0242ac1c0002row0_col6\" class=\"data row0 col6\" >0</td>\n",
              "                        <td id=\"T_cde17f60_38ea_11ec_b004_0242ac1c0002row0_col7\" class=\"data row0 col7\" >0</td>\n",
              "                        <td id=\"T_cde17f60_38ea_11ec_b004_0242ac1c0002row0_col8\" class=\"data row0 col8\" >0</td>\n",
              "                        <td id=\"T_cde17f60_38ea_11ec_b004_0242ac1c0002row0_col9\" class=\"data row0 col9\" >0</td>\n",
              "                        <td id=\"T_cde17f60_38ea_11ec_b004_0242ac1c0002row0_col10\" class=\"data row0 col10\" >0</td>\n",
              "                        <td id=\"T_cde17f60_38ea_11ec_b004_0242ac1c0002row0_col11\" class=\"data row0 col11\" >0</td>\n",
              "                        <td id=\"T_cde17f60_38ea_11ec_b004_0242ac1c0002row0_col12\" class=\"data row0 col12\" >0</td>\n",
              "                        <td id=\"T_cde17f60_38ea_11ec_b004_0242ac1c0002row0_col13\" class=\"data row0 col13\" >0</td>\n",
              "                        <td id=\"T_cde17f60_38ea_11ec_b004_0242ac1c0002row0_col14\" class=\"data row0 col14\" >0</td>\n",
              "                        <td id=\"T_cde17f60_38ea_11ec_b004_0242ac1c0002row0_col15\" class=\"data row0 col15\" >0</td>\n",
              "                        <td id=\"T_cde17f60_38ea_11ec_b004_0242ac1c0002row0_col16\" class=\"data row0 col16\" >0</td>\n",
              "                        <td id=\"T_cde17f60_38ea_11ec_b004_0242ac1c0002row0_col17\" class=\"data row0 col17\" >0</td>\n",
              "            </tr>\n",
              "            <tr>\n",
              "                        <th id=\"T_cde17f60_38ea_11ec_b004_0242ac1c0002level0_row1\" class=\"row_heading level0 row1\" >1</th>\n",
              "                        <td id=\"T_cde17f60_38ea_11ec_b004_0242ac1c0002row1_col0\" class=\"data row1 col0\" >0</td>\n",
              "                        <td id=\"T_cde17f60_38ea_11ec_b004_0242ac1c0002row1_col1\" class=\"data row1 col1\" >0</td>\n",
              "                        <td id=\"T_cde17f60_38ea_11ec_b004_0242ac1c0002row1_col2\" class=\"data row1 col2\" >0</td>\n",
              "                        <td id=\"T_cde17f60_38ea_11ec_b004_0242ac1c0002row1_col3\" class=\"data row1 col3\" >0</td>\n",
              "                        <td id=\"T_cde17f60_38ea_11ec_b004_0242ac1c0002row1_col4\" class=\"data row1 col4\" >0</td>\n",
              "                        <td id=\"T_cde17f60_38ea_11ec_b004_0242ac1c0002row1_col5\" class=\"data row1 col5\" >29</td>\n",
              "                        <td id=\"T_cde17f60_38ea_11ec_b004_0242ac1c0002row1_col6\" class=\"data row1 col6\" >150</td>\n",
              "                        <td id=\"T_cde17f60_38ea_11ec_b004_0242ac1c0002row1_col7\" class=\"data row1 col7\" >195</td>\n",
              "                        <td id=\"T_cde17f60_38ea_11ec_b004_0242ac1c0002row1_col8\" class=\"data row1 col8\" >254</td>\n",
              "                        <td id=\"T_cde17f60_38ea_11ec_b004_0242ac1c0002row1_col9\" class=\"data row1 col9\" >255</td>\n",
              "                        <td id=\"T_cde17f60_38ea_11ec_b004_0242ac1c0002row1_col10\" class=\"data row1 col10\" >254</td>\n",
              "                        <td id=\"T_cde17f60_38ea_11ec_b004_0242ac1c0002row1_col11\" class=\"data row1 col11\" >176</td>\n",
              "                        <td id=\"T_cde17f60_38ea_11ec_b004_0242ac1c0002row1_col12\" class=\"data row1 col12\" >193</td>\n",
              "                        <td id=\"T_cde17f60_38ea_11ec_b004_0242ac1c0002row1_col13\" class=\"data row1 col13\" >150</td>\n",
              "                        <td id=\"T_cde17f60_38ea_11ec_b004_0242ac1c0002row1_col14\" class=\"data row1 col14\" >96</td>\n",
              "                        <td id=\"T_cde17f60_38ea_11ec_b004_0242ac1c0002row1_col15\" class=\"data row1 col15\" >0</td>\n",
              "                        <td id=\"T_cde17f60_38ea_11ec_b004_0242ac1c0002row1_col16\" class=\"data row1 col16\" >0</td>\n",
              "                        <td id=\"T_cde17f60_38ea_11ec_b004_0242ac1c0002row1_col17\" class=\"data row1 col17\" >0</td>\n",
              "            </tr>\n",
              "            <tr>\n",
              "                        <th id=\"T_cde17f60_38ea_11ec_b004_0242ac1c0002level0_row2\" class=\"row_heading level0 row2\" >2</th>\n",
              "                        <td id=\"T_cde17f60_38ea_11ec_b004_0242ac1c0002row2_col0\" class=\"data row2 col0\" >0</td>\n",
              "                        <td id=\"T_cde17f60_38ea_11ec_b004_0242ac1c0002row2_col1\" class=\"data row2 col1\" >0</td>\n",
              "                        <td id=\"T_cde17f60_38ea_11ec_b004_0242ac1c0002row2_col2\" class=\"data row2 col2\" >0</td>\n",
              "                        <td id=\"T_cde17f60_38ea_11ec_b004_0242ac1c0002row2_col3\" class=\"data row2 col3\" >48</td>\n",
              "                        <td id=\"T_cde17f60_38ea_11ec_b004_0242ac1c0002row2_col4\" class=\"data row2 col4\" >166</td>\n",
              "                        <td id=\"T_cde17f60_38ea_11ec_b004_0242ac1c0002row2_col5\" class=\"data row2 col5\" >224</td>\n",
              "                        <td id=\"T_cde17f60_38ea_11ec_b004_0242ac1c0002row2_col6\" class=\"data row2 col6\" >253</td>\n",
              "                        <td id=\"T_cde17f60_38ea_11ec_b004_0242ac1c0002row2_col7\" class=\"data row2 col7\" >253</td>\n",
              "                        <td id=\"T_cde17f60_38ea_11ec_b004_0242ac1c0002row2_col8\" class=\"data row2 col8\" >234</td>\n",
              "                        <td id=\"T_cde17f60_38ea_11ec_b004_0242ac1c0002row2_col9\" class=\"data row2 col9\" >196</td>\n",
              "                        <td id=\"T_cde17f60_38ea_11ec_b004_0242ac1c0002row2_col10\" class=\"data row2 col10\" >253</td>\n",
              "                        <td id=\"T_cde17f60_38ea_11ec_b004_0242ac1c0002row2_col11\" class=\"data row2 col11\" >253</td>\n",
              "                        <td id=\"T_cde17f60_38ea_11ec_b004_0242ac1c0002row2_col12\" class=\"data row2 col12\" >253</td>\n",
              "                        <td id=\"T_cde17f60_38ea_11ec_b004_0242ac1c0002row2_col13\" class=\"data row2 col13\" >253</td>\n",
              "                        <td id=\"T_cde17f60_38ea_11ec_b004_0242ac1c0002row2_col14\" class=\"data row2 col14\" >233</td>\n",
              "                        <td id=\"T_cde17f60_38ea_11ec_b004_0242ac1c0002row2_col15\" class=\"data row2 col15\" >0</td>\n",
              "                        <td id=\"T_cde17f60_38ea_11ec_b004_0242ac1c0002row2_col16\" class=\"data row2 col16\" >0</td>\n",
              "                        <td id=\"T_cde17f60_38ea_11ec_b004_0242ac1c0002row2_col17\" class=\"data row2 col17\" >0</td>\n",
              "            </tr>\n",
              "            <tr>\n",
              "                        <th id=\"T_cde17f60_38ea_11ec_b004_0242ac1c0002level0_row3\" class=\"row_heading level0 row3\" >3</th>\n",
              "                        <td id=\"T_cde17f60_38ea_11ec_b004_0242ac1c0002row3_col0\" class=\"data row3 col0\" >0</td>\n",
              "                        <td id=\"T_cde17f60_38ea_11ec_b004_0242ac1c0002row3_col1\" class=\"data row3 col1\" >93</td>\n",
              "                        <td id=\"T_cde17f60_38ea_11ec_b004_0242ac1c0002row3_col2\" class=\"data row3 col2\" >244</td>\n",
              "                        <td id=\"T_cde17f60_38ea_11ec_b004_0242ac1c0002row3_col3\" class=\"data row3 col3\" >249</td>\n",
              "                        <td id=\"T_cde17f60_38ea_11ec_b004_0242ac1c0002row3_col4\" class=\"data row3 col4\" >253</td>\n",
              "                        <td id=\"T_cde17f60_38ea_11ec_b004_0242ac1c0002row3_col5\" class=\"data row3 col5\" >187</td>\n",
              "                        <td id=\"T_cde17f60_38ea_11ec_b004_0242ac1c0002row3_col6\" class=\"data row3 col6\" >46</td>\n",
              "                        <td id=\"T_cde17f60_38ea_11ec_b004_0242ac1c0002row3_col7\" class=\"data row3 col7\" >10</td>\n",
              "                        <td id=\"T_cde17f60_38ea_11ec_b004_0242ac1c0002row3_col8\" class=\"data row3 col8\" >8</td>\n",
              "                        <td id=\"T_cde17f60_38ea_11ec_b004_0242ac1c0002row3_col9\" class=\"data row3 col9\" >4</td>\n",
              "                        <td id=\"T_cde17f60_38ea_11ec_b004_0242ac1c0002row3_col10\" class=\"data row3 col10\" >10</td>\n",
              "                        <td id=\"T_cde17f60_38ea_11ec_b004_0242ac1c0002row3_col11\" class=\"data row3 col11\" >194</td>\n",
              "                        <td id=\"T_cde17f60_38ea_11ec_b004_0242ac1c0002row3_col12\" class=\"data row3 col12\" >253</td>\n",
              "                        <td id=\"T_cde17f60_38ea_11ec_b004_0242ac1c0002row3_col13\" class=\"data row3 col13\" >253</td>\n",
              "                        <td id=\"T_cde17f60_38ea_11ec_b004_0242ac1c0002row3_col14\" class=\"data row3 col14\" >233</td>\n",
              "                        <td id=\"T_cde17f60_38ea_11ec_b004_0242ac1c0002row3_col15\" class=\"data row3 col15\" >0</td>\n",
              "                        <td id=\"T_cde17f60_38ea_11ec_b004_0242ac1c0002row3_col16\" class=\"data row3 col16\" >0</td>\n",
              "                        <td id=\"T_cde17f60_38ea_11ec_b004_0242ac1c0002row3_col17\" class=\"data row3 col17\" >0</td>\n",
              "            </tr>\n",
              "            <tr>\n",
              "                        <th id=\"T_cde17f60_38ea_11ec_b004_0242ac1c0002level0_row4\" class=\"row_heading level0 row4\" >4</th>\n",
              "                        <td id=\"T_cde17f60_38ea_11ec_b004_0242ac1c0002row4_col0\" class=\"data row4 col0\" >0</td>\n",
              "                        <td id=\"T_cde17f60_38ea_11ec_b004_0242ac1c0002row4_col1\" class=\"data row4 col1\" >107</td>\n",
              "                        <td id=\"T_cde17f60_38ea_11ec_b004_0242ac1c0002row4_col2\" class=\"data row4 col2\" >253</td>\n",
              "                        <td id=\"T_cde17f60_38ea_11ec_b004_0242ac1c0002row4_col3\" class=\"data row4 col3\" >253</td>\n",
              "                        <td id=\"T_cde17f60_38ea_11ec_b004_0242ac1c0002row4_col4\" class=\"data row4 col4\" >230</td>\n",
              "                        <td id=\"T_cde17f60_38ea_11ec_b004_0242ac1c0002row4_col5\" class=\"data row4 col5\" >48</td>\n",
              "                        <td id=\"T_cde17f60_38ea_11ec_b004_0242ac1c0002row4_col6\" class=\"data row4 col6\" >0</td>\n",
              "                        <td id=\"T_cde17f60_38ea_11ec_b004_0242ac1c0002row4_col7\" class=\"data row4 col7\" >0</td>\n",
              "                        <td id=\"T_cde17f60_38ea_11ec_b004_0242ac1c0002row4_col8\" class=\"data row4 col8\" >0</td>\n",
              "                        <td id=\"T_cde17f60_38ea_11ec_b004_0242ac1c0002row4_col9\" class=\"data row4 col9\" >0</td>\n",
              "                        <td id=\"T_cde17f60_38ea_11ec_b004_0242ac1c0002row4_col10\" class=\"data row4 col10\" >0</td>\n",
              "                        <td id=\"T_cde17f60_38ea_11ec_b004_0242ac1c0002row4_col11\" class=\"data row4 col11\" >192</td>\n",
              "                        <td id=\"T_cde17f60_38ea_11ec_b004_0242ac1c0002row4_col12\" class=\"data row4 col12\" >253</td>\n",
              "                        <td id=\"T_cde17f60_38ea_11ec_b004_0242ac1c0002row4_col13\" class=\"data row4 col13\" >253</td>\n",
              "                        <td id=\"T_cde17f60_38ea_11ec_b004_0242ac1c0002row4_col14\" class=\"data row4 col14\" >156</td>\n",
              "                        <td id=\"T_cde17f60_38ea_11ec_b004_0242ac1c0002row4_col15\" class=\"data row4 col15\" >0</td>\n",
              "                        <td id=\"T_cde17f60_38ea_11ec_b004_0242ac1c0002row4_col16\" class=\"data row4 col16\" >0</td>\n",
              "                        <td id=\"T_cde17f60_38ea_11ec_b004_0242ac1c0002row4_col17\" class=\"data row4 col17\" >0</td>\n",
              "            </tr>\n",
              "            <tr>\n",
              "                        <th id=\"T_cde17f60_38ea_11ec_b004_0242ac1c0002level0_row5\" class=\"row_heading level0 row5\" >5</th>\n",
              "                        <td id=\"T_cde17f60_38ea_11ec_b004_0242ac1c0002row5_col0\" class=\"data row5 col0\" >0</td>\n",
              "                        <td id=\"T_cde17f60_38ea_11ec_b004_0242ac1c0002row5_col1\" class=\"data row5 col1\" >3</td>\n",
              "                        <td id=\"T_cde17f60_38ea_11ec_b004_0242ac1c0002row5_col2\" class=\"data row5 col2\" >20</td>\n",
              "                        <td id=\"T_cde17f60_38ea_11ec_b004_0242ac1c0002row5_col3\" class=\"data row5 col3\" >20</td>\n",
              "                        <td id=\"T_cde17f60_38ea_11ec_b004_0242ac1c0002row5_col4\" class=\"data row5 col4\" >15</td>\n",
              "                        <td id=\"T_cde17f60_38ea_11ec_b004_0242ac1c0002row5_col5\" class=\"data row5 col5\" >0</td>\n",
              "                        <td id=\"T_cde17f60_38ea_11ec_b004_0242ac1c0002row5_col6\" class=\"data row5 col6\" >0</td>\n",
              "                        <td id=\"T_cde17f60_38ea_11ec_b004_0242ac1c0002row5_col7\" class=\"data row5 col7\" >0</td>\n",
              "                        <td id=\"T_cde17f60_38ea_11ec_b004_0242ac1c0002row5_col8\" class=\"data row5 col8\" >0</td>\n",
              "                        <td id=\"T_cde17f60_38ea_11ec_b004_0242ac1c0002row5_col9\" class=\"data row5 col9\" >0</td>\n",
              "                        <td id=\"T_cde17f60_38ea_11ec_b004_0242ac1c0002row5_col10\" class=\"data row5 col10\" >43</td>\n",
              "                        <td id=\"T_cde17f60_38ea_11ec_b004_0242ac1c0002row5_col11\" class=\"data row5 col11\" >224</td>\n",
              "                        <td id=\"T_cde17f60_38ea_11ec_b004_0242ac1c0002row5_col12\" class=\"data row5 col12\" >253</td>\n",
              "                        <td id=\"T_cde17f60_38ea_11ec_b004_0242ac1c0002row5_col13\" class=\"data row5 col13\" >245</td>\n",
              "                        <td id=\"T_cde17f60_38ea_11ec_b004_0242ac1c0002row5_col14\" class=\"data row5 col14\" >74</td>\n",
              "                        <td id=\"T_cde17f60_38ea_11ec_b004_0242ac1c0002row5_col15\" class=\"data row5 col15\" >0</td>\n",
              "                        <td id=\"T_cde17f60_38ea_11ec_b004_0242ac1c0002row5_col16\" class=\"data row5 col16\" >0</td>\n",
              "                        <td id=\"T_cde17f60_38ea_11ec_b004_0242ac1c0002row5_col17\" class=\"data row5 col17\" >0</td>\n",
              "            </tr>\n",
              "            <tr>\n",
              "                        <th id=\"T_cde17f60_38ea_11ec_b004_0242ac1c0002level0_row6\" class=\"row_heading level0 row6\" >6</th>\n",
              "                        <td id=\"T_cde17f60_38ea_11ec_b004_0242ac1c0002row6_col0\" class=\"data row6 col0\" >0</td>\n",
              "                        <td id=\"T_cde17f60_38ea_11ec_b004_0242ac1c0002row6_col1\" class=\"data row6 col1\" >0</td>\n",
              "                        <td id=\"T_cde17f60_38ea_11ec_b004_0242ac1c0002row6_col2\" class=\"data row6 col2\" >0</td>\n",
              "                        <td id=\"T_cde17f60_38ea_11ec_b004_0242ac1c0002row6_col3\" class=\"data row6 col3\" >0</td>\n",
              "                        <td id=\"T_cde17f60_38ea_11ec_b004_0242ac1c0002row6_col4\" class=\"data row6 col4\" >0</td>\n",
              "                        <td id=\"T_cde17f60_38ea_11ec_b004_0242ac1c0002row6_col5\" class=\"data row6 col5\" >0</td>\n",
              "                        <td id=\"T_cde17f60_38ea_11ec_b004_0242ac1c0002row6_col6\" class=\"data row6 col6\" >0</td>\n",
              "                        <td id=\"T_cde17f60_38ea_11ec_b004_0242ac1c0002row6_col7\" class=\"data row6 col7\" >0</td>\n",
              "                        <td id=\"T_cde17f60_38ea_11ec_b004_0242ac1c0002row6_col8\" class=\"data row6 col8\" >0</td>\n",
              "                        <td id=\"T_cde17f60_38ea_11ec_b004_0242ac1c0002row6_col9\" class=\"data row6 col9\" >0</td>\n",
              "                        <td id=\"T_cde17f60_38ea_11ec_b004_0242ac1c0002row6_col10\" class=\"data row6 col10\" >249</td>\n",
              "                        <td id=\"T_cde17f60_38ea_11ec_b004_0242ac1c0002row6_col11\" class=\"data row6 col11\" >253</td>\n",
              "                        <td id=\"T_cde17f60_38ea_11ec_b004_0242ac1c0002row6_col12\" class=\"data row6 col12\" >245</td>\n",
              "                        <td id=\"T_cde17f60_38ea_11ec_b004_0242ac1c0002row6_col13\" class=\"data row6 col13\" >126</td>\n",
              "                        <td id=\"T_cde17f60_38ea_11ec_b004_0242ac1c0002row6_col14\" class=\"data row6 col14\" >0</td>\n",
              "                        <td id=\"T_cde17f60_38ea_11ec_b004_0242ac1c0002row6_col15\" class=\"data row6 col15\" >0</td>\n",
              "                        <td id=\"T_cde17f60_38ea_11ec_b004_0242ac1c0002row6_col16\" class=\"data row6 col16\" >0</td>\n",
              "                        <td id=\"T_cde17f60_38ea_11ec_b004_0242ac1c0002row6_col17\" class=\"data row6 col17\" >0</td>\n",
              "            </tr>\n",
              "            <tr>\n",
              "                        <th id=\"T_cde17f60_38ea_11ec_b004_0242ac1c0002level0_row7\" class=\"row_heading level0 row7\" >7</th>\n",
              "                        <td id=\"T_cde17f60_38ea_11ec_b004_0242ac1c0002row7_col0\" class=\"data row7 col0\" >0</td>\n",
              "                        <td id=\"T_cde17f60_38ea_11ec_b004_0242ac1c0002row7_col1\" class=\"data row7 col1\" >0</td>\n",
              "                        <td id=\"T_cde17f60_38ea_11ec_b004_0242ac1c0002row7_col2\" class=\"data row7 col2\" >0</td>\n",
              "                        <td id=\"T_cde17f60_38ea_11ec_b004_0242ac1c0002row7_col3\" class=\"data row7 col3\" >0</td>\n",
              "                        <td id=\"T_cde17f60_38ea_11ec_b004_0242ac1c0002row7_col4\" class=\"data row7 col4\" >0</td>\n",
              "                        <td id=\"T_cde17f60_38ea_11ec_b004_0242ac1c0002row7_col5\" class=\"data row7 col5\" >0</td>\n",
              "                        <td id=\"T_cde17f60_38ea_11ec_b004_0242ac1c0002row7_col6\" class=\"data row7 col6\" >0</td>\n",
              "                        <td id=\"T_cde17f60_38ea_11ec_b004_0242ac1c0002row7_col7\" class=\"data row7 col7\" >14</td>\n",
              "                        <td id=\"T_cde17f60_38ea_11ec_b004_0242ac1c0002row7_col8\" class=\"data row7 col8\" >101</td>\n",
              "                        <td id=\"T_cde17f60_38ea_11ec_b004_0242ac1c0002row7_col9\" class=\"data row7 col9\" >223</td>\n",
              "                        <td id=\"T_cde17f60_38ea_11ec_b004_0242ac1c0002row7_col10\" class=\"data row7 col10\" >253</td>\n",
              "                        <td id=\"T_cde17f60_38ea_11ec_b004_0242ac1c0002row7_col11\" class=\"data row7 col11\" >248</td>\n",
              "                        <td id=\"T_cde17f60_38ea_11ec_b004_0242ac1c0002row7_col12\" class=\"data row7 col12\" >124</td>\n",
              "                        <td id=\"T_cde17f60_38ea_11ec_b004_0242ac1c0002row7_col13\" class=\"data row7 col13\" >0</td>\n",
              "                        <td id=\"T_cde17f60_38ea_11ec_b004_0242ac1c0002row7_col14\" class=\"data row7 col14\" >0</td>\n",
              "                        <td id=\"T_cde17f60_38ea_11ec_b004_0242ac1c0002row7_col15\" class=\"data row7 col15\" >0</td>\n",
              "                        <td id=\"T_cde17f60_38ea_11ec_b004_0242ac1c0002row7_col16\" class=\"data row7 col16\" >0</td>\n",
              "                        <td id=\"T_cde17f60_38ea_11ec_b004_0242ac1c0002row7_col17\" class=\"data row7 col17\" >0</td>\n",
              "            </tr>\n",
              "            <tr>\n",
              "                        <th id=\"T_cde17f60_38ea_11ec_b004_0242ac1c0002level0_row8\" class=\"row_heading level0 row8\" >8</th>\n",
              "                        <td id=\"T_cde17f60_38ea_11ec_b004_0242ac1c0002row8_col0\" class=\"data row8 col0\" >0</td>\n",
              "                        <td id=\"T_cde17f60_38ea_11ec_b004_0242ac1c0002row8_col1\" class=\"data row8 col1\" >0</td>\n",
              "                        <td id=\"T_cde17f60_38ea_11ec_b004_0242ac1c0002row8_col2\" class=\"data row8 col2\" >0</td>\n",
              "                        <td id=\"T_cde17f60_38ea_11ec_b004_0242ac1c0002row8_col3\" class=\"data row8 col3\" >0</td>\n",
              "                        <td id=\"T_cde17f60_38ea_11ec_b004_0242ac1c0002row8_col4\" class=\"data row8 col4\" >0</td>\n",
              "                        <td id=\"T_cde17f60_38ea_11ec_b004_0242ac1c0002row8_col5\" class=\"data row8 col5\" >11</td>\n",
              "                        <td id=\"T_cde17f60_38ea_11ec_b004_0242ac1c0002row8_col6\" class=\"data row8 col6\" >166</td>\n",
              "                        <td id=\"T_cde17f60_38ea_11ec_b004_0242ac1c0002row8_col7\" class=\"data row8 col7\" >239</td>\n",
              "                        <td id=\"T_cde17f60_38ea_11ec_b004_0242ac1c0002row8_col8\" class=\"data row8 col8\" >253</td>\n",
              "                        <td id=\"T_cde17f60_38ea_11ec_b004_0242ac1c0002row8_col9\" class=\"data row8 col9\" >253</td>\n",
              "                        <td id=\"T_cde17f60_38ea_11ec_b004_0242ac1c0002row8_col10\" class=\"data row8 col10\" >253</td>\n",
              "                        <td id=\"T_cde17f60_38ea_11ec_b004_0242ac1c0002row8_col11\" class=\"data row8 col11\" >187</td>\n",
              "                        <td id=\"T_cde17f60_38ea_11ec_b004_0242ac1c0002row8_col12\" class=\"data row8 col12\" >30</td>\n",
              "                        <td id=\"T_cde17f60_38ea_11ec_b004_0242ac1c0002row8_col13\" class=\"data row8 col13\" >0</td>\n",
              "                        <td id=\"T_cde17f60_38ea_11ec_b004_0242ac1c0002row8_col14\" class=\"data row8 col14\" >0</td>\n",
              "                        <td id=\"T_cde17f60_38ea_11ec_b004_0242ac1c0002row8_col15\" class=\"data row8 col15\" >0</td>\n",
              "                        <td id=\"T_cde17f60_38ea_11ec_b004_0242ac1c0002row8_col16\" class=\"data row8 col16\" >0</td>\n",
              "                        <td id=\"T_cde17f60_38ea_11ec_b004_0242ac1c0002row8_col17\" class=\"data row8 col17\" >0</td>\n",
              "            </tr>\n",
              "            <tr>\n",
              "                        <th id=\"T_cde17f60_38ea_11ec_b004_0242ac1c0002level0_row9\" class=\"row_heading level0 row9\" >9</th>\n",
              "                        <td id=\"T_cde17f60_38ea_11ec_b004_0242ac1c0002row9_col0\" class=\"data row9 col0\" >0</td>\n",
              "                        <td id=\"T_cde17f60_38ea_11ec_b004_0242ac1c0002row9_col1\" class=\"data row9 col1\" >0</td>\n",
              "                        <td id=\"T_cde17f60_38ea_11ec_b004_0242ac1c0002row9_col2\" class=\"data row9 col2\" >0</td>\n",
              "                        <td id=\"T_cde17f60_38ea_11ec_b004_0242ac1c0002row9_col3\" class=\"data row9 col3\" >0</td>\n",
              "                        <td id=\"T_cde17f60_38ea_11ec_b004_0242ac1c0002row9_col4\" class=\"data row9 col4\" >0</td>\n",
              "                        <td id=\"T_cde17f60_38ea_11ec_b004_0242ac1c0002row9_col5\" class=\"data row9 col5\" >16</td>\n",
              "                        <td id=\"T_cde17f60_38ea_11ec_b004_0242ac1c0002row9_col6\" class=\"data row9 col6\" >248</td>\n",
              "                        <td id=\"T_cde17f60_38ea_11ec_b004_0242ac1c0002row9_col7\" class=\"data row9 col7\" >250</td>\n",
              "                        <td id=\"T_cde17f60_38ea_11ec_b004_0242ac1c0002row9_col8\" class=\"data row9 col8\" >253</td>\n",
              "                        <td id=\"T_cde17f60_38ea_11ec_b004_0242ac1c0002row9_col9\" class=\"data row9 col9\" >253</td>\n",
              "                        <td id=\"T_cde17f60_38ea_11ec_b004_0242ac1c0002row9_col10\" class=\"data row9 col10\" >253</td>\n",
              "                        <td id=\"T_cde17f60_38ea_11ec_b004_0242ac1c0002row9_col11\" class=\"data row9 col11\" >253</td>\n",
              "                        <td id=\"T_cde17f60_38ea_11ec_b004_0242ac1c0002row9_col12\" class=\"data row9 col12\" >232</td>\n",
              "                        <td id=\"T_cde17f60_38ea_11ec_b004_0242ac1c0002row9_col13\" class=\"data row9 col13\" >213</td>\n",
              "                        <td id=\"T_cde17f60_38ea_11ec_b004_0242ac1c0002row9_col14\" class=\"data row9 col14\" >111</td>\n",
              "                        <td id=\"T_cde17f60_38ea_11ec_b004_0242ac1c0002row9_col15\" class=\"data row9 col15\" >2</td>\n",
              "                        <td id=\"T_cde17f60_38ea_11ec_b004_0242ac1c0002row9_col16\" class=\"data row9 col16\" >0</td>\n",
              "                        <td id=\"T_cde17f60_38ea_11ec_b004_0242ac1c0002row9_col17\" class=\"data row9 col17\" >0</td>\n",
              "            </tr>\n",
              "            <tr>\n",
              "                        <th id=\"T_cde17f60_38ea_11ec_b004_0242ac1c0002level0_row10\" class=\"row_heading level0 row10\" >10</th>\n",
              "                        <td id=\"T_cde17f60_38ea_11ec_b004_0242ac1c0002row10_col0\" class=\"data row10 col0\" >0</td>\n",
              "                        <td id=\"T_cde17f60_38ea_11ec_b004_0242ac1c0002row10_col1\" class=\"data row10 col1\" >0</td>\n",
              "                        <td id=\"T_cde17f60_38ea_11ec_b004_0242ac1c0002row10_col2\" class=\"data row10 col2\" >0</td>\n",
              "                        <td id=\"T_cde17f60_38ea_11ec_b004_0242ac1c0002row10_col3\" class=\"data row10 col3\" >0</td>\n",
              "                        <td id=\"T_cde17f60_38ea_11ec_b004_0242ac1c0002row10_col4\" class=\"data row10 col4\" >0</td>\n",
              "                        <td id=\"T_cde17f60_38ea_11ec_b004_0242ac1c0002row10_col5\" class=\"data row10 col5\" >0</td>\n",
              "                        <td id=\"T_cde17f60_38ea_11ec_b004_0242ac1c0002row10_col6\" class=\"data row10 col6\" >0</td>\n",
              "                        <td id=\"T_cde17f60_38ea_11ec_b004_0242ac1c0002row10_col7\" class=\"data row10 col7\" >43</td>\n",
              "                        <td id=\"T_cde17f60_38ea_11ec_b004_0242ac1c0002row10_col8\" class=\"data row10 col8\" >98</td>\n",
              "                        <td id=\"T_cde17f60_38ea_11ec_b004_0242ac1c0002row10_col9\" class=\"data row10 col9\" >98</td>\n",
              "                        <td id=\"T_cde17f60_38ea_11ec_b004_0242ac1c0002row10_col10\" class=\"data row10 col10\" >208</td>\n",
              "                        <td id=\"T_cde17f60_38ea_11ec_b004_0242ac1c0002row10_col11\" class=\"data row10 col11\" >253</td>\n",
              "                        <td id=\"T_cde17f60_38ea_11ec_b004_0242ac1c0002row10_col12\" class=\"data row10 col12\" >253</td>\n",
              "                        <td id=\"T_cde17f60_38ea_11ec_b004_0242ac1c0002row10_col13\" class=\"data row10 col13\" >253</td>\n",
              "                        <td id=\"T_cde17f60_38ea_11ec_b004_0242ac1c0002row10_col14\" class=\"data row10 col14\" >253</td>\n",
              "                        <td id=\"T_cde17f60_38ea_11ec_b004_0242ac1c0002row10_col15\" class=\"data row10 col15\" >187</td>\n",
              "                        <td id=\"T_cde17f60_38ea_11ec_b004_0242ac1c0002row10_col16\" class=\"data row10 col16\" >22</td>\n",
              "                        <td id=\"T_cde17f60_38ea_11ec_b004_0242ac1c0002row10_col17\" class=\"data row10 col17\" >0</td>\n",
              "            </tr>\n",
              "    </tbody></table>"
            ],
            "text/plain": [
              "<pandas.io.formats.style.Styler at 0x7fe3a6654390>"
            ]
          },
          "metadata": {},
          "execution_count": 11
        }
      ]
    },
    {
      "cell_type": "code",
      "metadata": {
        "colab": {
          "base_uri": "https://localhost:8080/"
        },
        "id": "NGH3fHIxUVsC",
        "outputId": "27e7dd9d-a75a-4459-8d16-5a7c9330db7d"
      },
      "source": [
        "seven_tensors = [tensor(Image.open(o)) for o in sevens]\n",
        "three_tensors = [tensor(Image.open(o)) for o in threes]\n",
        "\n",
        "len(seven_tensors), len(three_tensors)"
      ],
      "execution_count": 12,
      "outputs": [
        {
          "output_type": "execute_result",
          "data": {
            "text/plain": [
              "(6265, 6131)"
            ]
          },
          "metadata": {},
          "execution_count": 12
        }
      ]
    },
    {
      "cell_type": "code",
      "metadata": {
        "colab": {
          "base_uri": "https://localhost:8080/",
          "height": 103
        },
        "id": "inYuKiUjVx-d",
        "outputId": "01abe0da-0e65-423a-eb34-d5ad3955bf18"
      },
      "source": [
        "show_image(three_tensors[2])"
      ],
      "execution_count": 13,
      "outputs": [
        {
          "output_type": "execute_result",
          "data": {
            "text/plain": [
              "<matplotlib.axes._subplots.AxesSubplot at 0x7fe3a65ae390>"
            ]
          },
          "metadata": {},
          "execution_count": 13
        },
        {
          "output_type": "display_data",
          "data": {
            "image/png": "[encoded data removed]",
            "text/plain": [
              "<Figure size 72x72 with 1 Axes>"
            ]
          },
          "metadata": {
            "needs_background": "light"
          }
        }
      ]
    },
    {
      "cell_type": "code",
      "metadata": {
        "colab": {
          "base_uri": "https://localhost:8080/"
        },
        "id": "weXvUkRuWEUR",
        "outputId": "b5a8e3d8-2b48-464f-9b2a-ce8d65adeca0"
      },
      "source": [
        "stacked_sevens = torch.stack(seven_tensors).float()/255\n",
        "stacked_threes = torch.stack(three_tensors).float()/255\n",
        "\n",
        "stacked_threes.shape"
      ],
      "execution_count": 14,
      "outputs": [
        {
          "output_type": "execute_result",
          "data": {
            "text/plain": [
              "torch.Size([6131, 28, 28])"
            ]
          },
          "metadata": {},
          "execution_count": 14
        }
      ]
    },
    {
      "cell_type": "code",
      "metadata": {
        "colab": {
          "base_uri": "https://localhost:8080/"
        },
        "id": "3VHptwuiWz0J",
        "outputId": "cf51758f-ee22-47fb-d8ae-b40b59e58613"
      },
      "source": [
        "len(stacked_threes.shape)"
      ],
      "execution_count": 15,
      "outputs": [
        {
          "output_type": "execute_result",
          "data": {
            "text/plain": [
              "3"
            ]
          },
          "metadata": {},
          "execution_count": 15
        }
      ]
    },
    {
      "cell_type": "code",
      "metadata": {
        "colab": {
          "base_uri": "https://localhost:8080/"
        },
        "id": "SPeanz72XNuJ",
        "outputId": "5c3e6b75-0b98-4cc7-cd5b-7bf97e7d83f2"
      },
      "source": [
        "stacked_threes.ndim"
      ],
      "execution_count": 16,
      "outputs": [
        {
          "output_type": "execute_result",
          "data": {
            "text/plain": [
              "3"
            ]
          },
          "metadata": {},
          "execution_count": 16
        }
      ]
    },
    {
      "cell_type": "code",
      "metadata": {
        "colab": {
          "base_uri": "https://localhost:8080/",
          "height": 103
        },
        "id": "d9dg7xlFXlkF",
        "outputId": "d7044f59-99c6-449b-e701-430cfeded872"
      },
      "source": [
        "mean3 = stacked_threes.mean(0)\n",
        "show_image(mean3)"
      ],
      "execution_count": 17,
      "outputs": [
        {
          "output_type": "execute_result",
          "data": {
            "text/plain": [
              "<matplotlib.axes._subplots.AxesSubplot at 0x7fe3a59d4bd0>"
            ]
          },
          "metadata": {},
          "execution_count": 17
        },
        {
          "output_type": "display_data",
          "data": {
            "image/png": "[encoded data removed]",
            "text/plain": [
              "<Figure size 72x72 with 1 Axes>"
            ]
          },
          "metadata": {
            "needs_background": "light"
          }
        }
      ]
    },
    {
      "cell_type": "code",
      "metadata": {
        "colab": {
          "base_uri": "https://localhost:8080/"
        },
        "id": "BpqmlwFUX4cY",
        "outputId": "2d41bcf2-ec35-42a9-8324-773cf9c802db"
      },
      "source": [
        "mean3.shape"
      ],
      "execution_count": 18,
      "outputs": [
        {
          "output_type": "execute_result",
          "data": {
            "text/plain": [
              "torch.Size([28, 28])"
            ]
          },
          "metadata": {},
          "execution_count": 18
        }
      ]
    },
    {
      "cell_type": "code",
      "metadata": {
        "colab": {
          "base_uri": "https://localhost:8080/",
          "height": 85
        },
        "id": "1hPe8m1EX50F",
        "outputId": "a7f36e9f-fabd-4825-8793-cc0456c4d49e"
      },
      "source": [
        "mean7 = stacked_sevens.mean(0)\n",
        "show_image(mean7);"
      ],
      "execution_count": 19,
      "outputs": [
        {
          "output_type": "display_data",
          "data": {
            "image/png": "[encoded data removed]",
            "text/plain": [
              "<Figure size 72x72 with 1 Axes>"
            ]
          },
          "metadata": {
            "needs_background": "light"
          }
        }
      ]
    },
    {
      "cell_type": "code",
      "metadata": {
        "colab": {
          "base_uri": "https://localhost:8080/",
          "height": 85
        },
        "id": "NPDB3OEVYNNA",
        "outputId": "4961a59d-f086-42c9-e9d5-f5b84e5e300e"
      },
      "source": [
        "a_3 = stacked_threes[1]\n",
        "show_image(a_3);"
      ],
      "execution_count": 20,
      "outputs": [
        {
          "output_type": "display_data",
          "data": {
            "image/png": "[encoded data removed]",
            "text/plain": [
              "<Figure size 72x72 with 1 Axes>"
            ]
          },
          "metadata": {
            "needs_background": "light"
          }
        }
      ]
    },
    {
      "cell_type": "code",
      "metadata": {
        "colab": {
          "base_uri": "https://localhost:8080/"
        },
        "id": "ZowvJQAHZWOx",
        "outputId": "c2bf1144-9582-4a48-af84-ffc55e4f0800"
      },
      "source": [
        "dist_3_abs = (a_3 - mean3).abs().mean()\n",
        "dist_3_sqr = ((a_3 - mean3)**2).mean().sqrt()\n",
        "\n",
        "dist_3_abs, dist_3_sqr"
      ],
      "execution_count": 21,
      "outputs": [
        {
          "output_type": "execute_result",
          "data": {
            "text/plain": [
              "(tensor(0.1114), tensor(0.2021))"
            ]
          },
          "metadata": {},
          "execution_count": 21
        }
      ]
    },
    {
      "cell_type": "code",
      "metadata": {
        "colab": {
          "base_uri": "https://localhost:8080/"
        },
        "id": "QHhWeYLTZrvA",
        "outputId": "f4d88161-6aa6-469a-b6f4-92b2525c2e90"
      },
      "source": [
        "dist_7_abs = (a_3 - mean7).abs().mean()\n",
        "dist_7_sqr = ((a_3 - mean7)**2).mean().sqrt()\n",
        "\n",
        "dist_7_abs, dist_7_sqr"
      ],
      "execution_count": 22,
      "outputs": [
        {
          "output_type": "execute_result",
          "data": {
            "text/plain": [
              "(tensor(0.1586), tensor(0.3021))"
            ]
          },
          "metadata": {},
          "execution_count": 22
        }
      ]
    },
    {
      "cell_type": "code",
      "metadata": {
        "colab": {
          "base_uri": "https://localhost:8080/"
        },
        "id": "xfO-S-_2aMCT",
        "outputId": "b89a3d87-b327-427c-9e52-5d107e9ee636"
      },
      "source": [
        "F.l1_loss(a_3.float(), mean7), F.mse_loss(a_3, mean7).sqrt()"
      ],
      "execution_count": 23,
      "outputs": [
        {
          "output_type": "execute_result",
          "data": {
            "text/plain": [
              "(tensor(0.1586), tensor(0.3021))"
            ]
          },
          "metadata": {},
          "execution_count": 23
        }
      ]
    },
    {
      "cell_type": "code",
      "metadata": {
        "colab": {
          "base_uri": "https://localhost:8080/"
        },
        "id": "IxCu9w3kadT_",
        "outputId": "f8527035-e116-4fd3-e89a-52a8bd6683b9"
      },
      "source": [
        "stacked_sevens.mean(1).shape"
      ],
      "execution_count": 24,
      "outputs": [
        {
          "output_type": "execute_result",
          "data": {
            "text/plain": [
              "torch.Size([6265, 28])"
            ]
          },
          "metadata": {},
          "execution_count": 24
        }
      ]
    },
    {
      "cell_type": "code",
      "metadata": {
        "id": "2_a3zz9_7Czg"
      },
      "source": [
        "valid_3_tens = torch.stack([tensor(Image.open(o)) for o in (path/'valid'/'3').ls()])"
      ],
      "execution_count": 25,
      "outputs": []
    },
    {
      "cell_type": "code",
      "metadata": {
        "id": "shZ6qHC9uh7P"
      },
      "source": [
        "valid_3_tens = valid_3_tens.float() / 255\n",
        "valid_7_tens = torch.stack([tensor(Image.open(o)) for o in (path/'valid'/'7').ls()])\n",
        "\n",
        "valid_7_tens = valid_7_tens.float()/ 255"
      ],
      "execution_count": 26,
      "outputs": []
    },
    {
      "cell_type": "code",
      "metadata": {
        "colab": {
          "base_uri": "https://localhost:8080/"
        },
        "id": "cKQ191CDu0UJ",
        "outputId": "f2e05932-72f4-4a7c-b3ba-5f7f4bd4e7c4"
      },
      "source": [
        "len(valid_3_tens), len(valid_7_tens)"
      ],
      "execution_count": 27,
      "outputs": [
        {
          "output_type": "execute_result",
          "data": {
            "text/plain": [
              "(1010, 1028)"
            ]
          },
          "metadata": {},
          "execution_count": 27
        }
      ]
    },
    {
      "cell_type": "code",
      "metadata": {
        "id": "a9rd1yFuzdoD"
      },
      "source": [
        "def mnist_distance(a, b):\n",
        "  return (a-b).abs().mean((-1, -2))"
      ],
      "execution_count": 28,
      "outputs": []
    },
    {
      "cell_type": "code",
      "metadata": {
        "colab": {
          "base_uri": "https://localhost:8080/"
        },
        "id": "izom9yXN0TEW",
        "outputId": "cb9ddb2b-9dc0-4dc8-9282-5770243d22a9"
      },
      "source": [
        "mnist_distance(a_3, mean3)"
      ],
      "execution_count": 29,
      "outputs": [
        {
          "output_type": "execute_result",
          "data": {
            "text/plain": [
              "tensor(0.1114)"
            ]
          },
          "metadata": {},
          "execution_count": 29
        }
      ]
    },
    {
      "cell_type": "code",
      "metadata": {
        "colab": {
          "base_uri": "https://localhost:8080/"
        },
        "id": "VsupH5Kv0W-m",
        "outputId": "693fc23c-cbd1-467a-d550-d48669d65d41"
      },
      "source": [
        "valid_3_dist = mnist_distance(valid_3_tens, mean3)\n",
        "valid_3_dist, valid_3_dist.shape"
      ],
      "execution_count": 30,
      "outputs": [
        {
          "output_type": "execute_result",
          "data": {
            "text/plain": [
              "(tensor([0.1092, 0.1082, 0.1120,  ..., 0.1228, 0.1377, 0.1258]),\n",
              " torch.Size([1010]))"
            ]
          },
          "metadata": {},
          "execution_count": 30
        }
      ]
    },
    {
      "cell_type": "code",
      "metadata": {
        "id": "KOY6oh0u0tCP"
      },
      "source": [
        "def is_3(x):\n",
        "  return mnist_distance(x, mean3) < mnist_distance(x, mean7)"
      ],
      "execution_count": 31,
      "outputs": []
    },
    {
      "cell_type": "code",
      "metadata": {
        "colab": {
          "base_uri": "https://localhost:8080/"
        },
        "id": "Zq1GUWxJ2RZf",
        "outputId": "9561ed86-a13a-48a7-ee5d-907ae1553a88"
      },
      "source": [
        "is_3(a_3)"
      ],
      "execution_count": 32,
      "outputs": [
        {
          "output_type": "execute_result",
          "data": {
            "text/plain": [
              "tensor(True)"
            ]
          },
          "metadata": {},
          "execution_count": 32
        }
      ]
    },
    {
      "cell_type": "code",
      "metadata": {
        "colab": {
          "base_uri": "https://localhost:8080/"
        },
        "id": "t5FcbjLO2T2p",
        "outputId": "0f1eb1cd-a635-40be-ffda-6e2223742d61"
      },
      "source": [
        "is_3(a_3).float()"
      ],
      "execution_count": 33,
      "outputs": [
        {
          "output_type": "execute_result",
          "data": {
            "text/plain": [
              "tensor(1.)"
            ]
          },
          "metadata": {},
          "execution_count": 33
        }
      ]
    },
    {
      "cell_type": "code",
      "metadata": {
        "colab": {
          "base_uri": "https://localhost:8080/"
        },
        "id": "nsmTA9ve2Yv3",
        "outputId": "7a68ddf6-2fe8-495b-caac-355d686bbf1a"
      },
      "source": [
        "is_3(valid_3_tens)"
      ],
      "execution_count": 34,
      "outputs": [
        {
          "output_type": "execute_result",
          "data": {
            "text/plain": [
              "tensor([True, True, True,  ..., True, True, True])"
            ]
          },
          "metadata": {},
          "execution_count": 34
        }
      ]
    },
    {
      "cell_type": "code",
      "metadata": {
        "id": "Gk_nx_X92236"
      },
      "source": [
        "accuracy_3s = is_3(valid_3_tens).float().mean()\n",
        "accuracy_7s = (1 - is_3(valid_7_tens).float().mean())"
      ],
      "execution_count": 35,
      "outputs": []
    },
    {
      "cell_type": "code",
      "metadata": {
        "colab": {
          "base_uri": "https://localhost:8080/"
        },
        "id": "tP5moetr2zmQ",
        "outputId": "d7732e36-9155-4ad5-d75a-d3d878c82560"
      },
      "source": [
        "accuracy_3s, accuracy_7s, (accuracy_3s+accuracy_7s)/2"
      ],
      "execution_count": 36,
      "outputs": [
        {
          "output_type": "execute_result",
          "data": {
            "text/plain": [
              "(tensor(0.9168), tensor(0.9854), tensor(0.9511))"
            ]
          },
          "metadata": {},
          "execution_count": 36
        }
      ]
    },
    {
      "cell_type": "code",
      "metadata": {
        "id": "nR-Srr2K3Pl6"
      },
      "source": [
        "def f(x):\n",
        "  return x**2"
      ],
      "execution_count": 37,
      "outputs": []
    },
    {
      "cell_type": "code",
      "metadata": {
        "colab": {
          "base_uri": "https://localhost:8080/"
        },
        "id": "-Evo5vc77rNL",
        "outputId": "de43b592-985f-4d99-e4ea-ead8f6700663"
      },
      "source": [
        "! pip install utils\n",
        "from utils import *"
      ],
      "execution_count": 38,
      "outputs": [
        {
          "output_type": "stream",
          "name": "stdout",
          "text": [
            "Collecting utils\n",
            "  Downloading utils-1.0.1-py2.py3-none-any.whl (21 kB)\n",
            "Installing collected packages: utils\n",
            "Successfully installed utils-1.0.1\n"
          ]
        }
      ]
    },
    {
      "cell_type": "code",
      "metadata": {
        "id": "OksbGGif8H4M"
      },
      "source": [
        "def plot_function(f, tx=None, ty=None, title=None, min=-2, max=2, figsize=(6,4)):\n",
        "    x = torch.linspace(min,max)\n",
        "    fig,ax = plt.subplots(figsize=figsize)\n",
        "    ax.plot(x,f(x))\n",
        "    if tx is not None: ax.set_xlabel(tx)\n",
        "    if ty is not None: ax.set_ylabel(ty)\n",
        "    if title is not None: ax.set_title(title)"
      ],
      "execution_count": 39,
      "outputs": []
    },
    {
      "cell_type": "code",
      "metadata": {
        "colab": {
          "base_uri": "https://localhost:8080/",
          "height": 335
        },
        "id": "IdxKEk536ZsQ",
        "outputId": "8407561e-e443-4918-f90a-c81db04edc41"
      },
      "source": [
        "plot_function(f, 'x', 'x**2')"
      ],
      "execution_count": 40,
      "outputs": [
        {
          "output_type": "stream",
          "name": "stderr",
          "text": [
            "/usr/local/lib/python3.7/dist-packages/ipykernel_launcher.py:2: UserWarning: Not providing a value for linspace's steps is deprecated and will throw a runtime error in a future release. This warning will appear only once per process. (Triggered internally at  /pytorch/aten/src/ATen/native/RangeFactories.cpp:25.)\n",
            "  \n"
          ]
        },
        {
          "output_type": "display_data",
          "data": {
            "image/png": "[encoded data removed]",
            "text/plain": [
              "<Figure size 432x288 with 1 Axes>"
            ]
          },
          "metadata": {
            "needs_background": "light"
          }
        }
      ]
    },
    {
      "cell_type": "code",
      "metadata": {
        "colab": {
          "base_uri": "https://localhost:8080/",
          "height": 297
        },
        "id": "Wc5VmoaG6dvq",
        "outputId": "3c98dc70-d15f-4d91-f892-d2bfa8d13b1a"
      },
      "source": [
        "plot_function(f, 'x', 'x**2')\n",
        "plt.scatter(-1.5, f(1.5), color = 'red')"
      ],
      "execution_count": 41,
      "outputs": [
        {
          "output_type": "execute_result",
          "data": {
            "text/plain": [
              "<matplotlib.collections.PathCollection at 0x7fe3a54f8f90>"
            ]
          },
          "metadata": {},
          "execution_count": 41
        },
        {
          "output_type": "display_data",
          "data": {
            "image/png": "[encoded data removed]",
            "text/plain": [
              "<Figure size 432x288 with 1 Axes>"
            ]
          },
          "metadata": {
            "needs_background": "light"
          }
        }
      ]
    },
    {
      "cell_type": "code",
      "metadata": {
        "id": "o8s13jdj8VNT"
      },
      "source": [
        "xt = tensor(3.).requires_grad_()"
      ],
      "execution_count": 42,
      "outputs": []
    },
    {
      "cell_type": "code",
      "metadata": {
        "colab": {
          "base_uri": "https://localhost:8080/"
        },
        "id": "PLCJsjVH-TeO",
        "outputId": "6cf4fa41-0017-4f22-b9a9-1c82f78f72cd"
      },
      "source": [
        "yt = f(xt)\n",
        "yt"
      ],
      "execution_count": 43,
      "outputs": [
        {
          "output_type": "execute_result",
          "data": {
            "text/plain": [
              "tensor(9., grad_fn=<PowBackward0>)"
            ]
          },
          "metadata": {},
          "execution_count": 43
        }
      ]
    },
    {
      "cell_type": "code",
      "metadata": {
        "id": "ceE1Mo4l-ZkV"
      },
      "source": [
        "yt.backward()"
      ],
      "execution_count": 44,
      "outputs": []
    },
    {
      "cell_type": "code",
      "metadata": {
        "colab": {
          "base_uri": "https://localhost:8080/"
        },
        "id": "9DZTOOQe-cVu",
        "outputId": "ffa55423-ae6e-46f3-9b93-5e440d59ae1f"
      },
      "source": [
        "xt.grad"
      ],
      "execution_count": 45,
      "outputs": [
        {
          "output_type": "execute_result",
          "data": {
            "text/plain": [
              "tensor(6.)"
            ]
          },
          "metadata": {},
          "execution_count": 45
        }
      ]
    },
    {
      "cell_type": "code",
      "metadata": {
        "colab": {
          "base_uri": "https://localhost:8080/"
        },
        "id": "xkYzsXe7-flp",
        "outputId": "682c2331-2d63-48c5-f9e5-b71877fcb466"
      },
      "source": [
        "xt = tensor([3., 4., 10.]).requires_grad_()\n",
        "xt"
      ],
      "execution_count": 46,
      "outputs": [
        {
          "output_type": "execute_result",
          "data": {
            "text/plain": [
              "tensor([ 3.,  4., 10.], requires_grad=True)"
            ]
          },
          "metadata": {},
          "execution_count": 46
        }
      ]
    },
    {
      "cell_type": "code",
      "metadata": {
        "id": "WMHN05fe-qCa"
      },
      "source": [
        "def f(x):\n",
        "  return (x**2).sum()"
      ],
      "execution_count": 47,
      "outputs": []
    },
    {
      "cell_type": "code",
      "metadata": {
        "id": "R-vHW83b-wFD"
      },
      "source": [
        "yt = f(xt)"
      ],
      "execution_count": 48,
      "outputs": []
    },
    {
      "cell_type": "code",
      "metadata": {
        "colab": {
          "base_uri": "https://localhost:8080/"
        },
        "id": "uYLEqTF1-yWN",
        "outputId": "9f33a1a1-563a-41f7-ef15-c70b71623d4e"
      },
      "source": [
        "yt"
      ],
      "execution_count": 49,
      "outputs": [
        {
          "output_type": "execute_result",
          "data": {
            "text/plain": [
              "tensor(125., grad_fn=<SumBackward0>)"
            ]
          },
          "metadata": {},
          "execution_count": 49
        }
      ]
    },
    {
      "cell_type": "code",
      "metadata": {
        "id": "C8FQr6Kg-0ja"
      },
      "source": [
        "yt.backward()"
      ],
      "execution_count": 50,
      "outputs": []
    },
    {
      "cell_type": "code",
      "metadata": {
        "colab": {
          "base_uri": "https://localhost:8080/"
        },
        "id": "q1S4Pq-a-3Ap",
        "outputId": "897fd4cd-4339-41c0-b68c-b34c1ec2382d"
      },
      "source": [
        "xt"
      ],
      "execution_count": 51,
      "outputs": [
        {
          "output_type": "execute_result",
          "data": {
            "text/plain": [
              "tensor([ 3.,  4., 10.], requires_grad=True)"
            ]
          },
          "metadata": {},
          "execution_count": 51
        }
      ]
    },
    {
      "cell_type": "code",
      "metadata": {
        "colab": {
          "base_uri": "https://localhost:8080/"
        },
        "id": "XzQqVkG--39U",
        "outputId": "02ef7646-b8c3-4cd9-eced-501fefff76d1"
      },
      "source": [
        "xt.grad"
      ],
      "execution_count": 52,
      "outputs": [
        {
          "output_type": "execute_result",
          "data": {
            "text/plain": [
              "tensor([ 6.,  8., 20.])"
            ]
          },
          "metadata": {},
          "execution_count": 52
        }
      ]
    },
    {
      "cell_type": "code",
      "metadata": {
        "colab": {
          "base_uri": "https://localhost:8080/"
        },
        "id": "FX4tyVMz-7pq",
        "outputId": "f2a3d6dd-7578-4142-8b55-3063bf048065"
      },
      "source": [
        "time = torch.arange(0,20).float();\n",
        "time"
      ],
      "execution_count": 53,
      "outputs": [
        {
          "output_type": "execute_result",
          "data": {
            "text/plain": [
              "tensor([ 0.,  1.,  2.,  3.,  4.,  5.,  6.,  7.,  8.,  9., 10., 11., 12., 13.,\n",
              "        14., 15., 16., 17., 18., 19.])"
            ]
          },
          "metadata": {},
          "execution_count": 53
        }
      ]
    },
    {
      "cell_type": "code",
      "metadata": {
        "colab": {
          "base_uri": "https://localhost:8080/",
          "height": 284
        },
        "id": "UjKsneI1XwXW",
        "outputId": "dfaf0eb4-0b79-4774-d310-1eedc0ac5d4a"
      },
      "source": [
        "speed = torch.randn(20)*3 + 0.75*(time - 9.5)**2 + 1\n",
        "plt.scatter(time,speed)"
      ],
      "execution_count": 54,
      "outputs": [
        {
          "output_type": "execute_result",
          "data": {
            "text/plain": [
              "<matplotlib.collections.PathCollection at 0x7fe3a540e510>"
            ]
          },
          "metadata": {},
          "execution_count": 54
        },
        {
          "output_type": "display_data",
          "data": {
            "image/png": "[encoded data removed]",
            "text/plain": [
              "<Figure size 432x288 with 1 Axes>"
            ]
          },
          "metadata": {
            "needs_background": "light"
          }
        }
      ]
    },
    {
      "cell_type": "code",
      "metadata": {
        "id": "JIEKOdu9X-tB"
      },
      "source": [
        "def f(t, params):\n",
        "  a,b,c = params\n",
        "  return a*(t**2) + (b*t) + c"
      ],
      "execution_count": 55,
      "outputs": []
    },
    {
      "cell_type": "code",
      "metadata": {
        "colab": {
          "base_uri": "https://localhost:8080/",
          "height": 269
        },
        "id": "51Mj2JIQYjk0",
        "outputId": "2f8a6627-e3bd-462d-aad3-c308633db4da"
      },
      "source": [
        "def mse(preds, targets):\n",
        "  return ((preds - targets)**2).mean()\n",
        "\n",
        "# step 1 - initialize the parameters \n",
        "\n",
        "params = torch.randn(3).requires_grad_()\n",
        "\n",
        "# step 2 - calculate the predictions\n",
        "\n",
        "preds = f(time, params)\n",
        "\n",
        "def show_preds(preds, ax = None):\n",
        "  if ax is None : ax = plt.subplots()[1]\n",
        "  ax.scatter(time, speed)\n",
        "  ax.scatter(time, to_np(preds), color = 'red')\n",
        "  ax.set_ylim(-300, 100)\n",
        "\n",
        "show_preds(preds)"
      ],
      "execution_count": 56,
      "outputs": [
        {
          "output_type": "display_data",
          "data": {
            "image/png": "[encoded data removed]",
            "text/plain": [
              "<Figure size 432x288 with 1 Axes>"
            ]
          },
          "metadata": {
            "needs_background": "light"
          }
        }
      ]
    },
    {
      "cell_type": "code",
      "metadata": {
        "colab": {
          "base_uri": "https://localhost:8080/"
        },
        "id": "GcSOl-2hamLW",
        "outputId": "08ecb1b0-13b3-453c-ca95-5511d21ddfdf"
      },
      "source": [
        "# step 3 - calculate the loss\n",
        "\n",
        "loss = mse(preds, speed)\n",
        "\n",
        "print (loss)"
      ],
      "execution_count": 57,
      "outputs": [
        {
          "output_type": "stream",
          "name": "stdout",
          "text": [
            "tensor(9907.3984, grad_fn=<MeanBackward0>)\n"
          ]
        }
      ]
    },
    {
      "cell_type": "code",
      "metadata": {
        "colab": {
          "base_uri": "https://localhost:8080/"
        },
        "id": "qhsRNjrsaq-Z",
        "outputId": "f638c7f4-a1af-4531-cce3-694f7df80ab6"
      },
      "source": [
        "# step 4 - calculate the gradients\n",
        "\n",
        "loss.backward()\n",
        "params.grad\n"
      ],
      "execution_count": 58,
      "outputs": [
        {
          "output_type": "execute_result",
          "data": {
            "text/plain": [
              "tensor([-32250.1094,  -2080.8684,   -162.7787])"
            ]
          },
          "metadata": {},
          "execution_count": 58
        }
      ]
    },
    {
      "cell_type": "code",
      "metadata": {
        "colab": {
          "base_uri": "https://localhost:8080/"
        },
        "id": "gg6cyGKSb7-v",
        "outputId": "63560550-1843-429c-e957-c6a0516cb415"
      },
      "source": [
        "params.grad*1e-5"
      ],
      "execution_count": 59,
      "outputs": [
        {
          "output_type": "execute_result",
          "data": {
            "text/plain": [
              "tensor([-0.3225, -0.0208, -0.0016])"
            ]
          },
          "metadata": {},
          "execution_count": 59
        }
      ]
    },
    {
      "cell_type": "code",
      "metadata": {
        "id": "cFj-8l-sb_OJ"
      },
      "source": [
        "# step 5 - step the weights\n",
        "lr = 1e-5\n",
        "params.data -= lr * params.grad.data\n",
        "params.grad = None"
      ],
      "execution_count": 60,
      "outputs": []
    },
    {
      "cell_type": "code",
      "metadata": {
        "colab": {
          "base_uri": "https://localhost:8080/"
        },
        "id": "jWL36gVHcOan",
        "outputId": "31a4010a-9b16-490b-b446-f8cfe341f58d"
      },
      "source": [
        "preds = f(time, params)\n",
        "mse(preds, speed)"
      ],
      "execution_count": 61,
      "outputs": [
        {
          "output_type": "execute_result",
          "data": {
            "text/plain": [
              "tensor(2413.6067, grad_fn=<MeanBackward0>)"
            ]
          },
          "metadata": {},
          "execution_count": 61
        }
      ]
    },
    {
      "cell_type": "code",
      "metadata": {
        "colab": {
          "base_uri": "https://localhost:8080/",
          "height": 269
        },
        "id": "WQWHcyBlcXKI",
        "outputId": "015a02ed-8aa5-4469-d84b-d1debc437f75"
      },
      "source": [
        "show_preds(preds)"
      ],
      "execution_count": 62,
      "outputs": [
        {
          "output_type": "display_data",
          "data": {
            "image/png": "[encoded data removed]",
            "text/plain": [
              "<Figure size 432x288 with 1 Axes>"
            ]
          },
          "metadata": {
            "needs_background": "light"
          }
        }
      ]
    },
    {
      "cell_type": "code",
      "metadata": {
        "id": "KPzsIF-ZcZs9"
      },
      "source": [
        "def apply_step(params, prn = True):\n",
        "  preds = f(time, params)\n",
        "  loss = mse(preds, speed)\n",
        "  loss.backward()\n",
        "  params.data -= lr * params.grad.data\n",
        "  params.grad = None\n",
        "  if prn :\n",
        "    print (loss.item())\n",
        "  return preds"
      ],
      "execution_count": 63,
      "outputs": []
    },
    {
      "cell_type": "code",
      "metadata": {
        "colab": {
          "base_uri": "https://localhost:8080/"
        },
        "id": "9-kLrJvEc1Xw",
        "outputId": "faf2467c-9cd3-4fa2-9ec1-b0f9544b5d1b"
      },
      "source": [
        "for i in range(10):\n",
        "  apply_step(params)"
      ],
      "execution_count": 64,
      "outputs": [
        {
          "output_type": "stream",
          "name": "stdout",
          "text": [
            "2413.606689453125\n",
            "995.5474853515625\n",
            "727.2027587890625\n",
            "676.4190673828125\n",
            "666.8046875\n",
            "664.9805908203125\n",
            "664.6309814453125\n",
            "664.5601806640625\n",
            "664.5421752929688\n",
            "664.5340576171875\n"
          ]
        }
      ]
    },
    {
      "cell_type": "code",
      "metadata": {
        "colab": {
          "base_uri": "https://localhost:8080/",
          "height": 225
        },
        "id": "wbTh3b6Qc6-U",
        "outputId": "ab923085-21e1-4299-b916-984c083e1b0c"
      },
      "source": [
        "_, axs = plt.subplots(1, 4, figsize = (12,3))\n",
        "\n",
        "for ax in axs :\n",
        "  show_preds(apply_step(params, False), ax)\n",
        "  plt.tight_layout()"
      ],
      "execution_count": 65,
      "outputs": [
        {
          "output_type": "display_data",
          "data": {
            "image/png": "[encoded data removed]",
            "text/plain": [
              "<Figure size 864x216 with 4 Axes>"
            ]
          },
          "metadata": {
            "needs_background": "light"
          }
        }
      ]
    },
    {
      "cell_type": "code",
      "metadata": {
        "colab": {
          "base_uri": "https://localhost:8080/"
        },
        "id": "oQjvbCs6d8jV",
        "outputId": "ed85ca67-dee6-4ecf-aa24-4618c34fa62a"
      },
      "source": [
        "train_x = torch.cat([stacked_threes, stacked_sevens]).view(-1, 28*28)\n",
        "\n",
        "train_y =  tensor([1]*len(threes) + [0]*len(sevens)).unsqueeze(1)\n",
        "print (train_x.shape, train_y.shape)\n",
        "\n",
        "dset = list(zip(train_x, train_y))\n",
        "x,y = dset[0]\n",
        "\n",
        "print (x.shape, y)"
      ],
      "execution_count": 66,
      "outputs": [
        {
          "output_type": "stream",
          "name": "stdout",
          "text": [
            "torch.Size([12396, 784]) torch.Size([12396, 1])\n",
            "torch.Size([784]) tensor([1])\n"
          ]
        }
      ]
    },
    {
      "cell_type": "code",
      "metadata": {
        "id": "SMzMsfZmhVhE"
      },
      "source": [
        "valid_x = torch.cat([valid_3_tens, valid_7_tens]).view(-1, 28*28)\n",
        "valid_y = tensor([1]*len(valid_3_tens) + [0]*len(valid_7_tens)).unsqueeze(1)\n",
        "\n",
        "valid_dset = list(zip(valid_x, valid_y))"
      ],
      "execution_count": 67,
      "outputs": []
    },
    {
      "cell_type": "code",
      "metadata": {
        "id": "l3zhmLfkiG9j"
      },
      "source": [
        "def init_params(size, std = 1.0):\n",
        "  return (torch.randn(size)*std).requires_grad_()\n",
        "\n",
        "weights = init_params((28*28*1))"
      ],
      "execution_count": 68,
      "outputs": []
    },
    {
      "cell_type": "code",
      "metadata": {
        "id": "YMQ8wpgCiXgT"
      },
      "source": [
        "bias = init_params(1)"
      ],
      "execution_count": 69,
      "outputs": []
    },
    {
      "cell_type": "code",
      "metadata": {
        "colab": {
          "base_uri": "https://localhost:8080/"
        },
        "id": "4vF1xxSyihlY",
        "outputId": "18b6e6c4-30f9-4e73-cc3e-9e94ef5f8a3d"
      },
      "source": [
        "(train_x[0]*weights.T).sum() + bias"
      ],
      "execution_count": 70,
      "outputs": [
        {
          "output_type": "execute_result",
          "data": {
            "text/plain": [
              "tensor([23.6760], grad_fn=<AddBackward0>)"
            ]
          },
          "metadata": {},
          "execution_count": 70
        }
      ]
    },
    {
      "cell_type": "code",
      "metadata": {
        "id": "WGE-gfXainrH"
      },
      "source": [
        "def linear1(xb):\n",
        "  return xb@weights + bias"
      ],
      "execution_count": 71,
      "outputs": []
    },
    {
      "cell_type": "code",
      "metadata": {
        "id": "m5a-cMNJi2Zv"
      },
      "source": [
        "preds = linear1(train_x)"
      ],
      "execution_count": 72,
      "outputs": []
    },
    {
      "cell_type": "code",
      "metadata": {
        "colab": {
          "base_uri": "https://localhost:8080/"
        },
        "id": "LxHQcB_Ri7lB",
        "outputId": "7b0a68a0-a9c0-4611-9feb-d45a3a1c8cb6"
      },
      "source": [
        "preds"
      ],
      "execution_count": 73,
      "outputs": [
        {
          "output_type": "execute_result",
          "data": {
            "text/plain": [
              "tensor([23.6760, 20.0635, 15.9953,  ..., -9.2009,  0.4934, -2.1273],\n",
              "       grad_fn=<AddBackward0>)"
            ]
          },
          "metadata": {},
          "execution_count": 73
        }
      ]
    },
    {
      "cell_type": "code",
      "metadata": {
        "id": "eKfnf40Di8Y7"
      },
      "source": [
        "corrects = (preds > 0.0).float() == train_y"
      ],
      "execution_count": 74,
      "outputs": []
    },
    {
      "cell_type": "code",
      "metadata": {
        "colab": {
          "base_uri": "https://localhost:8080/"
        },
        "id": "-vXy8D-ZjNNf",
        "outputId": "b8dfd6ac-0d90-4732-f06d-039b52aedb81"
      },
      "source": [
        "corrects"
      ],
      "execution_count": 75,
      "outputs": [
        {
          "output_type": "execute_result",
          "data": {
            "text/plain": [
              "tensor([[ True,  True,  True,  ..., False,  True, False],\n",
              "        [ True,  True,  True,  ..., False,  True, False],\n",
              "        [ True,  True,  True,  ..., False,  True, False],\n",
              "        ...,\n",
              "        [False, False, False,  ...,  True, False,  True],\n",
              "        [False, False, False,  ...,  True, False,  True],\n",
              "        [False, False, False,  ...,  True, False,  True]])"
            ]
          },
          "metadata": {},
          "execution_count": 75
        }
      ]
    },
    {
      "cell_type": "code",
      "metadata": {
        "colab": {
          "base_uri": "https://localhost:8080/"
        },
        "id": "cNLWtZGUjUXn",
        "outputId": "8e6e4153-8e69-4f4c-8455-47f8e0417a21"
      },
      "source": [
        "corrects.float().mean().item()"
      ],
      "execution_count": 76,
      "outputs": [
        {
          "output_type": "execute_result",
          "data": {
            "text/plain": [
              "0.49659639596939087"
            ]
          },
          "metadata": {},
          "execution_count": 76
        }
      ]
    },
    {
      "cell_type": "code",
      "metadata": {
        "id": "izWmiYaQjY-s"
      },
      "source": [
        "def mnist_loss(predictions, targets):\n",
        "  return torch.where(targets==1, 1-predictions, predictions).mean()"
      ],
      "execution_count": 77,
      "outputs": []
    },
    {
      "cell_type": "code",
      "metadata": {
        "colab": {
          "base_uri": "https://localhost:8080/"
        },
        "id": "HHMXBTn9kofa",
        "outputId": "91094388-686e-4ab2-f858-fe2de86292fa"
      },
      "source": [
        "help(torch.where)"
      ],
      "execution_count": 78,
      "outputs": [
        {
          "output_type": "stream",
          "name": "stdout",
          "text": [
            "Help on built-in function where:\n",
            "\n",
            "where(...)\n",
            "    where(condition, x, y) -> Tensor\n",
            "    \n",
            "    Return a tensor of elements selected from either :attr:`x` or :attr:`y`, depending on :attr:`condition`.\n",
            "    \n",
            "    The operation is defined as:\n",
            "    \n",
            "    .. math::\n",
            "        \\text{out}_i = \\begin{cases}\n",
            "            \\text{x}_i & \\text{if } \\text{condition}_i \\\\\n",
            "            \\text{y}_i & \\text{otherwise} \\\\\n",
            "        \\end{cases}\n",
            "    \n",
            "    .. note::\n",
            "        The tensors :attr:`condition`, :attr:`x`, :attr:`y` must be :ref:`broadcastable <broadcasting-semantics>`.\n",
            "    \n",
            "    .. note::\n",
            "        Currently valid scalar and tensor combination are\n",
            "        1. Scalar of floating dtype and torch.double\n",
            "        2. Scalar of integral dtype and torch.long\n",
            "        3. Scalar of complex dtype and torch.complex128\n",
            "    \n",
            "    Arguments:\n",
            "        condition (BoolTensor): When True (nonzero), yield x, otherwise yield y\n",
            "        x (Tensor or Scalar): value (if :attr:x is a scalar) or values selected at indices\n",
            "                              where :attr:`condition` is ``True``\n",
            "        y (Tensor or Scalar): value (if :attr:x is a scalar) or values selected at indices\n",
            "                              where :attr:`condition` is ``False``\n",
            "    \n",
            "    Returns:\n",
            "        Tensor: A tensor of shape equal to the broadcasted shape of :attr:`condition`, :attr:`x`, :attr:`y`\n",
            "    \n",
            "    Example::\n",
            "    \n",
            "        >>> x = torch.randn(3, 2)\n",
            "        >>> y = torch.ones(3, 2)\n",
            "        >>> x\n",
            "        tensor([[-0.4620,  0.3139],\n",
            "                [ 0.3898, -0.7197],\n",
            "                [ 0.0478, -0.1657]])\n",
            "        >>> torch.where(x > 0, x, y)\n",
            "        tensor([[ 1.0000,  0.3139],\n",
            "                [ 0.3898,  1.0000],\n",
            "                [ 0.0478,  1.0000]])\n",
            "        >>> x = torch.randn(2, 2, dtype=torch.double)\n",
            "        >>> x\n",
            "        tensor([[ 1.0779,  0.0383],\n",
            "                [-0.8785, -1.1089]], dtype=torch.float64)\n",
            "        >>> torch.where(x > 0, x, 0.)\n",
            "        tensor([[1.0779, 0.0383],\n",
            "                [0.0000, 0.0000]], dtype=torch.float64)\n",
            "    \n",
            "    .. function:: where(condition) -> tuple of LongTensor\n",
            "    \n",
            "    ``torch.where(condition)`` is identical to\n",
            "    ``torch.nonzero(condition, as_tuple=True)``.\n",
            "    \n",
            "    .. note::\n",
            "        See also :func:`torch.nonzero`.\n",
            "\n"
          ]
        }
      ]
    },
    {
      "cell_type": "code",
      "metadata": {
        "colab": {
          "base_uri": "https://localhost:8080/"
        },
        "id": "i_kBg5cXaETV",
        "outputId": "4dc75177-e4ed-40a8-d165-49005c0f2907"
      },
      "source": [
        "x = torch.randn(3,2)\n",
        "\n",
        "x"
      ],
      "execution_count": 79,
      "outputs": [
        {
          "output_type": "execute_result",
          "data": {
            "text/plain": [
              "tensor([[-0.0296, -1.5420],\n",
              "        [ 1.9675,  0.2772],\n",
              "        [-2.1623,  0.5488]])"
            ]
          },
          "metadata": {},
          "execution_count": 79
        }
      ]
    },
    {
      "cell_type": "code",
      "metadata": {
        "colab": {
          "base_uri": "https://localhost:8080/"
        },
        "id": "HwmHHidiaoOL",
        "outputId": "69236ea8-6028-46a6-ce64-b7b287651597"
      },
      "source": [
        "y = torch.ones(3, 2)\n",
        "\n",
        "y"
      ],
      "execution_count": 80,
      "outputs": [
        {
          "output_type": "execute_result",
          "data": {
            "text/plain": [
              "tensor([[1., 1.],\n",
              "        [1., 1.],\n",
              "        [1., 1.]])"
            ]
          },
          "metadata": {},
          "execution_count": 80
        }
      ]
    },
    {
      "cell_type": "code",
      "metadata": {
        "colab": {
          "base_uri": "https://localhost:8080/"
        },
        "id": "xDgDEDNnasBr",
        "outputId": "a59677fd-2616-43d6-fc89-868b8f01274d"
      },
      "source": [
        "torch.where(x > 0, x, y)"
      ],
      "execution_count": 81,
      "outputs": [
        {
          "output_type": "execute_result",
          "data": {
            "text/plain": [
              "tensor([[1.0000, 1.0000],\n",
              "        [1.9675, 0.2772],\n",
              "        [1.0000, 0.5488]])"
            ]
          },
          "metadata": {},
          "execution_count": 81
        }
      ]
    },
    {
      "cell_type": "code",
      "metadata": {
        "id": "ZCnFsfUIav73"
      },
      "source": [
        "trgts = tensor([1, 0, 1])\n",
        "prds = tensor([0.9, 0.4, 0.2])"
      ],
      "execution_count": 82,
      "outputs": []
    },
    {
      "cell_type": "code",
      "metadata": {
        "colab": {
          "base_uri": "https://localhost:8080/"
        },
        "id": "kHyDxqtba_Y9",
        "outputId": "872f0a62-ce14-4543-8dc2-3b136f251d79"
      },
      "source": [
        "mnist_loss(prds, trgts)"
      ],
      "execution_count": 83,
      "outputs": [
        {
          "output_type": "execute_result",
          "data": {
            "text/plain": [
              "tensor(0.4333)"
            ]
          },
          "metadata": {},
          "execution_count": 83
        }
      ]
    },
    {
      "cell_type": "code",
      "metadata": {
        "id": "56yZDHCrbxSs"
      },
      "source": [
        "def sigmoid(x) :\n",
        "  return 1/(1+torch.exp(-x))"
      ],
      "execution_count": 84,
      "outputs": []
    },
    {
      "cell_type": "code",
      "metadata": {
        "colab": {
          "base_uri": "https://localhost:8080/",
          "height": 281
        },
        "id": "x15doGnDb_N0",
        "outputId": "f4c407f5-f2e2-48ce-9c00-ccfb78b33579"
      },
      "source": [
        "plot_function(torch.sigmoid, title = \"Sigmoid\", min = -4, max = 4)"
      ],
      "execution_count": 85,
      "outputs": [
        {
          "output_type": "display_data",
          "data": {
            "image/png": "[encoded data removed]",
            "text/plain": [
              "<Figure size 432x288 with 1 Axes>"
            ]
          },
          "metadata": {
            "needs_background": "light"
          }
        }
      ]
    },
    {
      "cell_type": "code",
      "metadata": {
        "id": "xtwPHLHtcMlE"
      },
      "source": [
        "def mnist_loss(predictions, targets):\n",
        "  predictions = predictions.sigmoid()\n",
        "  return torch.where(targets==1, 1-predictions, predictions).mean()"
      ],
      "execution_count": 86,
      "outputs": []
    },
    {
      "cell_type": "code",
      "metadata": {
        "colab": {
          "base_uri": "https://localhost:8080/"
        },
        "id": "3kODLcJtcl7b",
        "outputId": "615c6e48-8297-48ae-9b94-7f9dc93bc820"
      },
      "source": [
        "coll = range(15)\n",
        "\n",
        "dl = DataLoader(coll, batch_size = 5, shuffle = True)\n",
        "\n",
        "list(dl)"
      ],
      "execution_count": 87,
      "outputs": [
        {
          "output_type": "execute_result",
          "data": {
            "text/plain": [
              "[tensor([8, 0, 5, 2, 1]),\n",
              " tensor([13, 12, 10,  7,  4]),\n",
              " tensor([ 9, 11,  3, 14,  6])]"
            ]
          },
          "metadata": {},
          "execution_count": 87
        }
      ]
    },
    {
      "cell_type": "code",
      "metadata": {
        "colab": {
          "base_uri": "https://localhost:8080/"
        },
        "id": "4YXJNf5mdk2a",
        "outputId": "7ca06d72-bc54-4292-8bb0-24df5e9cff66"
      },
      "source": [
        "ds = L(enumerate(string.ascii_lowercase))\n",
        "\n",
        "ds"
      ],
      "execution_count": 88,
      "outputs": [
        {
          "output_type": "execute_result",
          "data": {
            "text/plain": [
              "(#26) [(0, 'a'),(1, 'b'),(2, 'c'),(3, 'd'),(4, 'e'),(5, 'f'),(6, 'g'),(7, 'h'),(8, 'i'),(9, 'j')...]"
            ]
          },
          "metadata": {},
          "execution_count": 88
        }
      ]
    },
    {
      "cell_type": "code",
      "metadata": {
        "colab": {
          "base_uri": "https://localhost:8080/"
        },
        "id": "9wTaH0U7dybX",
        "outputId": "4d4fdbf7-bfe7-4f29-c1be-38f1286dd7cd"
      },
      "source": [
        "dl = DataLoader(ds, batch_size = 6, shuffle = True)\n",
        "\n",
        "list(dl)"
      ],
      "execution_count": 89,
      "outputs": [
        {
          "output_type": "execute_result",
          "data": {
            "text/plain": [
              "[(tensor([13, 23,  9,  3, 12, 14]), ('n', 'x', 'j', 'd', 'm', 'o')),\n",
              " (tensor([ 6, 24, 11, 22, 25,  1]), ('g', 'y', 'l', 'w', 'z', 'b')),\n",
              " (tensor([15, 20, 18,  0, 17, 19]), ('p', 'u', 's', 'a', 'r', 't')),\n",
              " (tensor([16,  5, 10,  2, 21,  4]), ('q', 'f', 'k', 'c', 'v', 'e')),\n",
              " (tensor([7, 8]), ('h', 'i'))]"
            ]
          },
          "metadata": {},
          "execution_count": 89
        }
      ]
    },
    {
      "cell_type": "code",
      "metadata": {
        "colab": {
          "base_uri": "https://localhost:8080/"
        },
        "id": "Vh1u2r03eAa7",
        "outputId": "8d539ff8-9d6c-4de6-d335-9de66561ed1b"
      },
      "source": [
        "weights = init_params((28*28, 1))\n",
        "bias = init_params(1)\n",
        "\n",
        "dl = DataLoader(dset, batch_size = 256)\n",
        "xb, yb = first(dl)\n",
        "xb.shape, yb.shape"
      ],
      "execution_count": 90,
      "outputs": [
        {
          "output_type": "execute_result",
          "data": {
            "text/plain": [
              "(torch.Size([256, 784]), torch.Size([256, 1]))"
            ]
          },
          "metadata": {},
          "execution_count": 90
        }
      ]
    },
    {
      "cell_type": "code",
      "metadata": {
        "colab": {
          "base_uri": "https://localhost:8080/"
        },
        "id": "dOoTruAsemUG",
        "outputId": "8e680e9c-172f-4ff1-f1e3-0b03fc38402e"
      },
      "source": [
        "valid_dl = DataLoader(valid_dset, batch_size = 256)\n",
        "batch = train_x[:4]\n",
        "batch.shape"
      ],
      "execution_count": 91,
      "outputs": [
        {
          "output_type": "execute_result",
          "data": {
            "text/plain": [
              "torch.Size([4, 784])"
            ]
          },
          "metadata": {},
          "execution_count": 91
        }
      ]
    },
    {
      "cell_type": "code",
      "metadata": {
        "colab": {
          "base_uri": "https://localhost:8080/"
        },
        "id": "hjNGwP9_fcNv",
        "outputId": "e7d562a3-f42a-434e-88b8-c7162e480daf"
      },
      "source": [
        "preds = linear1(batch)\n",
        "preds"
      ],
      "execution_count": 92,
      "outputs": [
        {
          "output_type": "execute_result",
          "data": {
            "text/plain": [
              "tensor([[ -7.1667],\n",
              "        [-19.3690],\n",
              "        [ -9.6083],\n",
              "        [-10.0048]], grad_fn=<AddBackward0>)"
            ]
          },
          "metadata": {},
          "execution_count": 92
        }
      ]
    },
    {
      "cell_type": "code",
      "metadata": {
        "id": "jTzKHAoAf0xk"
      },
      "source": [
        "loss = mnist_loss(preds, train_y[:4])"
      ],
      "execution_count": 93,
      "outputs": []
    },
    {
      "cell_type": "code",
      "metadata": {
        "colab": {
          "base_uri": "https://localhost:8080/"
        },
        "id": "jh2Z4rqbf-5U",
        "outputId": "f69664ce-e0bb-4b4b-b0e0-447bf624b6af"
      },
      "source": [
        "loss"
      ],
      "execution_count": 94,
      "outputs": [
        {
          "output_type": "execute_result",
          "data": {
            "text/plain": [
              "tensor(0.9998, grad_fn=<MeanBackward0>)"
            ]
          },
          "metadata": {},
          "execution_count": 94
        }
      ]
    },
    {
      "cell_type": "code",
      "metadata": {
        "colab": {
          "base_uri": "https://localhost:8080/"
        },
        "id": "fB0BFwcsgAVT",
        "outputId": "30b8b9fe-81df-4b1e-b4b3-dd7d67d98051"
      },
      "source": [
        "loss.backward()\n",
        "weights.grad.shape, weights.grad.mean(), bias.grad"
      ],
      "execution_count": 95,
      "outputs": [
        {
          "output_type": "execute_result",
          "data": {
            "text/plain": [
              "(torch.Size([784, 1]), tensor(-3.1907e-05), tensor([-0.0002]))"
            ]
          },
          "metadata": {},
          "execution_count": 95
        }
      ]
    },
    {
      "cell_type": "code",
      "metadata": {
        "id": "yvyHtO_LgSc3"
      },
      "source": [
        "def calc_grad(xb, yb, model):\n",
        "  preds = model(xb)\n",
        "  loss = mnist_loss(preds, yb)\n",
        "  loss.backward()"
      ],
      "execution_count": 96,
      "outputs": []
    },
    {
      "cell_type": "code",
      "metadata": {
        "colab": {
          "base_uri": "https://localhost:8080/"
        },
        "id": "zs12fHoHgqfj",
        "outputId": "ed3c7dd3-fe2d-4f86-cbd1-4a56fa1bef16"
      },
      "source": [
        "calc_grad(batch, train_y[:4], linear1)\n",
        "weights.grad.mean(), bias.grad"
      ],
      "execution_count": 97,
      "outputs": [
        {
          "output_type": "execute_result",
          "data": {
            "text/plain": [
              "(tensor(-6.3814e-05), tensor([-0.0004]))"
            ]
          },
          "metadata": {},
          "execution_count": 97
        }
      ]
    },
    {
      "cell_type": "code",
      "metadata": {
        "colab": {
          "base_uri": "https://localhost:8080/"
        },
        "id": "Nlj4FORChFXF",
        "outputId": "cb9f9621-e243-4345-e401-8ffe8c7eac5b"
      },
      "source": [
        "calc_grad(batch, train_y[:4], linear1)\n",
        "weights.grad.mean(), bias.grad"
      ],
      "execution_count": 98,
      "outputs": [
        {
          "output_type": "execute_result",
          "data": {
            "text/plain": [
              "(tensor(-9.5721e-05), tensor([-0.0007]))"
            ]
          },
          "metadata": {},
          "execution_count": 98
        }
      ]
    },
    {
      "cell_type": "code",
      "metadata": {
        "id": "lPtOe4e5hNa1"
      },
      "source": [
        "weights.grad.zero_()\n",
        "bias.grad.zero_();"
      ],
      "execution_count": 99,
      "outputs": []
    },
    {
      "cell_type": "code",
      "metadata": {
        "id": "ktnOMGVfhddu"
      },
      "source": [
        "def train_epoch(model, lr, params):\n",
        "  for xb, yb in dl :\n",
        "    calc_grad(xb, yb, model)\n",
        "    for p in params :\n",
        "      p.data -= p.grad*lr\n",
        "      p.grad.zero_()"
      ],
      "execution_count": 100,
      "outputs": []
    },
    {
      "cell_type": "code",
      "metadata": {
        "id": "W6fVF9sziPi6"
      },
      "source": [
        "def batch_accuracy(xb, yb):\n",
        "  preds = xb.sigmoid()\n",
        "  correct = (preds>0.5) == yb \n",
        "  return correct.float().mean()"
      ],
      "execution_count": 101,
      "outputs": []
    },
    {
      "cell_type": "code",
      "metadata": {
        "colab": {
          "base_uri": "https://localhost:8080/"
        },
        "id": "sFinWJhSirNT",
        "outputId": "585da04f-a3a5-4ce3-a7cd-dbbcf83eb555"
      },
      "source": [
        "batch_accuracy(linear1(batch), train_y[:4])"
      ],
      "execution_count": 102,
      "outputs": [
        {
          "output_type": "execute_result",
          "data": {
            "text/plain": [
              "tensor(0.)"
            ]
          },
          "metadata": {},
          "execution_count": 102
        }
      ]
    },
    {
      "cell_type": "code",
      "metadata": {
        "colab": {
          "base_uri": "https://localhost:8080/"
        },
        "id": "aFgGbTaFjAKj",
        "outputId": "83b2cf1b-0fdc-41d7-8e51-69014e074082"
      },
      "source": [
        "def validate_epoch(model) :\n",
        "  accs = [batch_accuracy(model(xb), yb) for xb,yb in valid_dl]\n",
        "  return round(torch.stack(accs).mean().item(), 4)\n",
        "\n",
        "validate_epoch(linear1)"
      ],
      "execution_count": 103,
      "outputs": [
        {
          "output_type": "execute_result",
          "data": {
            "text/plain": [
              "0.4959"
            ]
          },
          "metadata": {},
          "execution_count": 103
        }
      ]
    },
    {
      "cell_type": "code",
      "metadata": {
        "colab": {
          "base_uri": "https://localhost:8080/"
        },
        "id": "PonuDQN_jeKG",
        "outputId": "2ee42b4e-9ab1-4399-e001-fa1e06efd22d"
      },
      "source": [
        "lr = 1\n",
        "params = weights, bias\n",
        "train_epoch(linear1, lr, params)\n",
        "validate_epoch(linear1)"
      ],
      "execution_count": 104,
      "outputs": [
        {
          "output_type": "execute_result",
          "data": {
            "text/plain": [
              "0.684"
            ]
          },
          "metadata": {},
          "execution_count": 104
        }
      ]
    },
    {
      "cell_type": "code",
      "metadata": {
        "colab": {
          "base_uri": "https://localhost:8080/"
        },
        "id": "qr8O9EsEj8K6",
        "outputId": "bcc81cf6-6391-4250-fd0a-fb495e5823ab"
      },
      "source": [
        "for i in range(20):\n",
        "  train_epoch(linear1, lr, params)\n",
        "  print (validate_epoch(linear1), end = ' ')"
      ],
      "execution_count": 105,
      "outputs": [
        {
          "output_type": "stream",
          "name": "stdout",
          "text": [
            "0.8467 0.9028 0.9267 0.9408 0.9481 0.9525 0.9564 0.9603 0.9618 0.9642 0.9662 0.9676 0.9676 0.9686 0.9696 0.9706 0.9706 0.9716 0.9721 0.9726 "
          ]
        }
      ]
    },
    {
      "cell_type": "code",
      "metadata": {
        "id": "sCyP8-DBkMO9"
      },
      "source": [
        "linear_model = nn.Linear(28*28, 1)"
      ],
      "execution_count": 106,
      "outputs": []
    },
    {
      "cell_type": "code",
      "metadata": {
        "colab": {
          "base_uri": "https://localhost:8080/"
        },
        "id": "cTGrPuVicl61",
        "outputId": "30231ff6-8609-4acc-93af-135a055de87e"
      },
      "source": [
        "w,b = linear_model.parameters()\n",
        "w.shape, b.shape"
      ],
      "execution_count": 107,
      "outputs": [
        {
          "output_type": "execute_result",
          "data": {
            "text/plain": [
              "(torch.Size([1, 784]), torch.Size([1]))"
            ]
          },
          "metadata": {},
          "execution_count": 107
        }
      ]
    },
    {
      "cell_type": "code",
      "metadata": {
        "id": "u2hiCGt0cvrL"
      },
      "source": [
        "class BasicOptim :\n",
        "  def __init__(self, params, lr): self.params, self.lr = list(params), lr\n",
        "\n",
        "  def step(self, *args, **kwargs):\n",
        "    for p in self.params : p.data -= p.grad.data * self.lr \n",
        "\n",
        "  def zero_grad(self, *args, **kwargs) :\n",
        "    for p in self.params: p.grad = None "
      ],
      "execution_count": 108,
      "outputs": []
    },
    {
      "cell_type": "code",
      "metadata": {
        "id": "l3ECNVJjdeb6"
      },
      "source": [
        "opt = BasicOptim(linear_model.parameters(), lr)"
      ],
      "execution_count": 109,
      "outputs": []
    },
    {
      "cell_type": "code",
      "metadata": {
        "id": "nx3tfA5hdxIv"
      },
      "source": [
        "def train_epoch(model) :\n",
        "  for xb, yb in dl :\n",
        "    calc_grad(xb, yb, model)\n",
        "    opt.step()\n",
        "    opt.zero_grad()"
      ],
      "execution_count": 110,
      "outputs": []
    },
    {
      "cell_type": "code",
      "metadata": {
        "colab": {
          "base_uri": "https://localhost:8080/"
        },
        "id": "9Q0ppPtweA0W",
        "outputId": "831b828c-f4f3-429f-9632-24190f3612d9"
      },
      "source": [
        "validate_epoch(linear_model)"
      ],
      "execution_count": 111,
      "outputs": [
        {
          "output_type": "execute_result",
          "data": {
            "text/plain": [
              "0.4941"
            ]
          },
          "metadata": {},
          "execution_count": 111
        }
      ]
    },
    {
      "cell_type": "code",
      "metadata": {
        "id": "YKBJeMoVeFR-"
      },
      "source": [
        "def train_model(model, epochs) :\n",
        "  for i in range(epochs):\n",
        "    train_epoch(model)\n",
        "    print (validate_epoch(model), end = \" \")"
      ],
      "execution_count": 112,
      "outputs": []
    },
    {
      "cell_type": "code",
      "metadata": {
        "colab": {
          "base_uri": "https://localhost:8080/"
        },
        "id": "dNPK6-uTeWXa",
        "outputId": "951659d1-852c-4639-9a7e-506bfc94e26c"
      },
      "source": [
        "train_model(linear_model, 20)"
      ],
      "execution_count": 113,
      "outputs": [
        {
          "output_type": "stream",
          "name": "stdout",
          "text": [
            "0.4932 0.7095 0.8589 0.9175 0.9351 0.9492 0.9575 0.9629 0.9658 0.9678 0.9707 0.9722 0.9741 0.9751 0.9761 0.9771 0.9775 0.978 0.978 0.978 "
          ]
        }
      ]
    },
    {
      "cell_type": "code",
      "metadata": {
        "colab": {
          "base_uri": "https://localhost:8080/"
        },
        "id": "N8evRKE9eco2",
        "outputId": "328ba078-f2d3-4423-9489-f9386611b7db"
      },
      "source": [
        "linear_model = nn.Linear(28*28, 1)\n",
        "opt = SGD(linear_model.parameters(), lr)\n",
        "train_model(linear_model, 20)"
      ],
      "execution_count": 114,
      "outputs": [
        {
          "output_type": "stream",
          "name": "stdout",
          "text": [
            "0.4932 0.8779 0.8223 0.9102 0.9316 0.9473 0.9551 0.9614 0.9658 0.9678 0.9697 0.9717 0.9731 0.9746 0.9756 0.9771 0.9775 0.978 0.9785 0.979 "
          ]
        }
      ]
    },
    {
      "cell_type": "code",
      "metadata": {
        "id": "X7iWr_aWe6lT"
      },
      "source": [
        "dls = DataLoaders(dl, valid_dl)"
      ],
      "execution_count": 115,
      "outputs": []
    },
    {
      "cell_type": "code",
      "metadata": {
        "id": "G7x_TlQRfF36"
      },
      "source": [
        "learn = Learner(dls, nn.Linear(28*28, 1), opt_func = SGD, loss_func= mnist_loss,metrics = batch_accuracy)"
      ],
      "execution_count": 117,
      "outputs": []
    },
    {
      "cell_type": "code",
      "metadata": {
        "colab": {
          "base_uri": "https://localhost:8080/",
          "height": 363
        },
        "id": "_Abyp_E3fe8W",
        "outputId": "33704fe2-e4d7-46db-f6f4-396d9d32eb2c"
      },
      "source": [
        "learn.fit(10, lr = lr)"
      ],
      "execution_count": 118,
      "outputs": [
        {
          "output_type": "display_data",
          "data": {
            "text/html": [
              "<table border=\"1\" class=\"dataframe\">\n",
              "  <thead>\n",
              "    <tr style=\"text-align: left;\">\n",
              "      <th>epoch</th>\n",
              "      <th>train_loss</th>\n",
              "      <th>valid_loss</th>\n",
              "      <th>batch_accuracy</th>\n",
              "      <th>time</th>\n",
              "    </tr>\n",
              "  </thead>\n",
              "  <tbody>\n",
              "    <tr>\n",
              "      <td>0</td>\n",
              "      <td>0.636919</td>\n",
              "      <td>0.502910</td>\n",
              "      <td>0.495584</td>\n",
              "      <td>00:00</td>\n",
              "    </tr>\n",
              "    <tr>\n",
              "      <td>1</td>\n",
              "      <td>0.391882</td>\n",
              "      <td>0.265270</td>\n",
              "      <td>0.753189</td>\n",
              "      <td>00:00</td>\n",
              "    </tr>\n",
              "    <tr>\n",
              "      <td>2</td>\n",
              "      <td>0.149036</td>\n",
              "      <td>0.151210</td>\n",
              "      <td>0.864082</td>\n",
              "      <td>00:00</td>\n",
              "    </tr>\n",
              "    <tr>\n",
              "      <td>3</td>\n",
              "      <td>0.068275</td>\n",
              "      <td>0.096777</td>\n",
              "      <td>0.919038</td>\n",
              "      <td>00:00</td>\n",
              "    </tr>\n",
              "    <tr>\n",
              "      <td>4</td>\n",
              "      <td>0.038351</td>\n",
              "      <td>0.072764</td>\n",
              "      <td>0.936212</td>\n",
              "      <td>00:00</td>\n",
              "    </tr>\n",
              "    <tr>\n",
              "      <td>5</td>\n",
              "      <td>0.026519</td>\n",
              "      <td>0.059148</td>\n",
              "      <td>0.950932</td>\n",
              "      <td>00:00</td>\n",
              "    </tr>\n",
              "    <tr>\n",
              "      <td>6</td>\n",
              "      <td>0.021552</td>\n",
              "      <td>0.050521</td>\n",
              "      <td>0.956820</td>\n",
              "      <td>00:00</td>\n",
              "    </tr>\n",
              "    <tr>\n",
              "      <td>7</td>\n",
              "      <td>0.019264</td>\n",
              "      <td>0.044720</td>\n",
              "      <td>0.963199</td>\n",
              "      <td>00:00</td>\n",
              "    </tr>\n",
              "    <tr>\n",
              "      <td>8</td>\n",
              "      <td>0.018047</td>\n",
              "      <td>0.040604</td>\n",
              "      <td>0.965653</td>\n",
              "      <td>00:00</td>\n",
              "    </tr>\n",
              "    <tr>\n",
              "      <td>9</td>\n",
              "      <td>0.017280</td>\n",
              "      <td>0.037547</td>\n",
              "      <td>0.968597</td>\n",
              "      <td>00:00</td>\n",
              "    </tr>\n",
              "  </tbody>\n",
              "</table>"
            ],
            "text/plain": [
              "<IPython.core.display.HTML object>"
            ]
          },
          "metadata": {}
        }
      ]
    },
    {
      "cell_type": "code",
      "metadata": {
        "id": "vps0zS6vfmiJ"
      },
      "source": [
        "def simple_net(xb):\n",
        "  res = xb@w1 + b1\n",
        "  res = res.max(tensor(0.0))\n",
        "  res = res@w2 +b2\n",
        "  return res"
      ],
      "execution_count": 119,
      "outputs": []
    },
    {
      "cell_type": "code",
      "metadata": {
        "id": "ocvYeRV4he47"
      },
      "source": [
        "w1 = init_params((28*28, 30))\n",
        "b1 = init_params(30)\n",
        "w2 = init_params((30, 1))\n",
        "b2 = init_params(1)"
      ],
      "execution_count": 120,
      "outputs": []
    },
    {
      "cell_type": "code",
      "metadata": {
        "colab": {
          "base_uri": "https://localhost:8080/",
          "height": 265
        },
        "id": "f9IVdISzhysm",
        "outputId": "fb475003-b724-4c2e-ab4a-cf1f18c88869"
      },
      "source": [
        "plot_function(F.relu)"
      ],
      "execution_count": 121,
      "outputs": [
        {
          "output_type": "display_data",
          "data": {
            "image/png": "[encoded data removed]",
            "text/plain": [
              "<Figure size 432x288 with 1 Axes>"
            ]
          },
          "metadata": {
            "needs_background": "light"
          }
        }
      ]
    },
    {
      "cell_type": "code",
      "metadata": {
        "id": "vQ1uJZzeiEJa"
      },
      "source": [
        "simple_net = nn.Sequential(nn.Linear(28*28, 30),\n",
        "                           nn.ReLU(),\n",
        "                           nn.Linear(30, 1))"
      ],
      "execution_count": 122,
      "outputs": []
    },
    {
      "cell_type": "code",
      "metadata": {
        "colab": {
          "base_uri": "https://localhost:8080/",
          "height": 1000
        },
        "id": "BS_XLv3OioLC",
        "outputId": "809feb69-3e98-4a8d-ca1a-8cc143c38072"
      },
      "source": [
        "learn = Learner(dls, simple_net, opt_func = SGD, loss_func = mnist_loss, metrics = batch_accuracy)\n",
        "\n",
        "learn.fit(40, 0.1)"
      ],
      "execution_count": 123,
      "outputs": [
        {
          "output_type": "display_data",
          "data": {
            "text/html": [
              "<table border=\"1\" class=\"dataframe\">\n",
              "  <thead>\n",
              "    <tr style=\"text-align: left;\">\n",
              "      <th>epoch</th>\n",
              "      <th>train_loss</th>\n",
              "      <th>valid_loss</th>\n",
              "      <th>batch_accuracy</th>\n",
              "      <th>time</th>\n",
              "    </tr>\n",
              "  </thead>\n",
              "  <tbody>\n",
              "    <tr>\n",
              "      <td>0</td>\n",
              "      <td>0.334688</td>\n",
              "      <td>0.402039</td>\n",
              "      <td>0.505888</td>\n",
              "      <td>00:00</td>\n",
              "    </tr>\n",
              "    <tr>\n",
              "      <td>1</td>\n",
              "      <td>0.154082</td>\n",
              "      <td>0.232115</td>\n",
              "      <td>0.803729</td>\n",
              "      <td>00:00</td>\n",
              "    </tr>\n",
              "    <tr>\n",
              "      <td>2</td>\n",
              "      <td>0.084006</td>\n",
              "      <td>0.114977</td>\n",
              "      <td>0.914132</td>\n",
              "      <td>00:00</td>\n",
              "    </tr>\n",
              "    <tr>\n",
              "      <td>3</td>\n",
              "      <td>0.054308</td>\n",
              "      <td>0.077202</td>\n",
              "      <td>0.942100</td>\n",
              "      <td>00:00</td>\n",
              "    </tr>\n",
              "    <tr>\n",
              "      <td>4</td>\n",
              "      <td>0.040655</td>\n",
              "      <td>0.060230</td>\n",
              "      <td>0.957802</td>\n",
              "      <td>00:00</td>\n",
              "    </tr>\n",
              "    <tr>\n",
              "      <td>5</td>\n",
              "      <td>0.033771</td>\n",
              "      <td>0.050779</td>\n",
              "      <td>0.963690</td>\n",
              "      <td>00:00</td>\n",
              "    </tr>\n",
              "    <tr>\n",
              "      <td>6</td>\n",
              "      <td>0.029879</td>\n",
              "      <td>0.044831</td>\n",
              "      <td>0.966634</td>\n",
              "      <td>00:00</td>\n",
              "    </tr>\n",
              "    <tr>\n",
              "      <td>7</td>\n",
              "      <td>0.027391</td>\n",
              "      <td>0.040759</td>\n",
              "      <td>0.967615</td>\n",
              "      <td>00:00</td>\n",
              "    </tr>\n",
              "    <tr>\n",
              "      <td>8</td>\n",
              "      <td>0.025623</td>\n",
              "      <td>0.037796</td>\n",
              "      <td>0.969087</td>\n",
              "      <td>00:00</td>\n",
              "    </tr>\n",
              "    <tr>\n",
              "      <td>9</td>\n",
              "      <td>0.024266</td>\n",
              "      <td>0.035539</td>\n",
              "      <td>0.972031</td>\n",
              "      <td>00:00</td>\n",
              "    </tr>\n",
              "    <tr>\n",
              "      <td>10</td>\n",
              "      <td>0.023173</td>\n",
              "      <td>0.033751</td>\n",
              "      <td>0.973013</td>\n",
              "      <td>00:00</td>\n",
              "    </tr>\n",
              "    <tr>\n",
              "      <td>11</td>\n",
              "      <td>0.022263</td>\n",
              "      <td>0.032291</td>\n",
              "      <td>0.973503</td>\n",
              "      <td>00:00</td>\n",
              "    </tr>\n",
              "    <tr>\n",
              "      <td>12</td>\n",
              "      <td>0.021489</td>\n",
              "      <td>0.031066</td>\n",
              "      <td>0.973994</td>\n",
              "      <td>00:00</td>\n",
              "    </tr>\n",
              "    <tr>\n",
              "      <td>13</td>\n",
              "      <td>0.020819</td>\n",
              "      <td>0.030017</td>\n",
              "      <td>0.975957</td>\n",
              "      <td>00:00</td>\n",
              "    </tr>\n",
              "    <tr>\n",
              "      <td>14</td>\n",
              "      <td>0.020232</td>\n",
              "      <td>0.029102</td>\n",
              "      <td>0.975957</td>\n",
              "      <td>00:00</td>\n",
              "    </tr>\n",
              "    <tr>\n",
              "      <td>15</td>\n",
              "      <td>0.019711</td>\n",
              "      <td>0.028296</td>\n",
              "      <td>0.976448</td>\n",
              "      <td>00:00</td>\n",
              "    </tr>\n",
              "    <tr>\n",
              "      <td>16</td>\n",
              "      <td>0.019245</td>\n",
              "      <td>0.027578</td>\n",
              "      <td>0.977920</td>\n",
              "      <td>00:00</td>\n",
              "    </tr>\n",
              "    <tr>\n",
              "      <td>17</td>\n",
              "      <td>0.018824</td>\n",
              "      <td>0.026934</td>\n",
              "      <td>0.978901</td>\n",
              "      <td>00:00</td>\n",
              "    </tr>\n",
              "    <tr>\n",
              "      <td>18</td>\n",
              "      <td>0.018442</td>\n",
              "      <td>0.026351</td>\n",
              "      <td>0.978901</td>\n",
              "      <td>00:00</td>\n",
              "    </tr>\n",
              "    <tr>\n",
              "      <td>19</td>\n",
              "      <td>0.018092</td>\n",
              "      <td>0.025824</td>\n",
              "      <td>0.978901</td>\n",
              "      <td>00:00</td>\n",
              "    </tr>\n",
              "    <tr>\n",
              "      <td>20</td>\n",
              "      <td>0.017769</td>\n",
              "      <td>0.025343</td>\n",
              "      <td>0.978901</td>\n",
              "      <td>00:00</td>\n",
              "    </tr>\n",
              "    <tr>\n",
              "      <td>21</td>\n",
              "      <td>0.017471</td>\n",
              "      <td>0.024903</td>\n",
              "      <td>0.979392</td>\n",
              "      <td>00:00</td>\n",
              "    </tr>\n",
              "    <tr>\n",
              "      <td>22</td>\n",
              "      <td>0.017194</td>\n",
              "      <td>0.024499</td>\n",
              "      <td>0.979882</td>\n",
              "      <td>00:00</td>\n",
              "    </tr>\n",
              "    <tr>\n",
              "      <td>23</td>\n",
              "      <td>0.016935</td>\n",
              "      <td>0.024127</td>\n",
              "      <td>0.980373</td>\n",
              "      <td>00:00</td>\n",
              "    </tr>\n",
              "    <tr>\n",
              "      <td>24</td>\n",
              "      <td>0.016691</td>\n",
              "      <td>0.023782</td>\n",
              "      <td>0.980864</td>\n",
              "      <td>00:00</td>\n",
              "    </tr>\n",
              "    <tr>\n",
              "      <td>25</td>\n",
              "      <td>0.016463</td>\n",
              "      <td>0.023463</td>\n",
              "      <td>0.981354</td>\n",
              "      <td>00:00</td>\n",
              "    </tr>\n",
              "    <tr>\n",
              "      <td>26</td>\n",
              "      <td>0.016247</td>\n",
              "      <td>0.023167</td>\n",
              "      <td>0.981354</td>\n",
              "      <td>00:00</td>\n",
              "    </tr>\n",
              "    <tr>\n",
              "      <td>27</td>\n",
              "      <td>0.016043</td>\n",
              "      <td>0.022891</td>\n",
              "      <td>0.981354</td>\n",
              "      <td>00:00</td>\n",
              "    </tr>\n",
              "    <tr>\n",
              "      <td>28</td>\n",
              "      <td>0.015849</td>\n",
              "      <td>0.022635</td>\n",
              "      <td>0.981354</td>\n",
              "      <td>00:00</td>\n",
              "    </tr>\n",
              "    <tr>\n",
              "      <td>29</td>\n",
              "      <td>0.015665</td>\n",
              "      <td>0.022395</td>\n",
              "      <td>0.981354</td>\n",
              "      <td>00:00</td>\n",
              "    </tr>\n",
              "    <tr>\n",
              "      <td>30</td>\n",
              "      <td>0.015489</td>\n",
              "      <td>0.022172</td>\n",
              "      <td>0.981845</td>\n",
              "      <td>00:00</td>\n",
              "    </tr>\n",
              "    <tr>\n",
              "      <td>31</td>\n",
              "      <td>0.015322</td>\n",
              "      <td>0.021963</td>\n",
              "      <td>0.982336</td>\n",
              "      <td>00:00</td>\n",
              "    </tr>\n",
              "    <tr>\n",
              "      <td>32</td>\n",
              "      <td>0.015162</td>\n",
              "      <td>0.021767</td>\n",
              "      <td>0.982336</td>\n",
              "      <td>00:00</td>\n",
              "    </tr>\n",
              "    <tr>\n",
              "      <td>33</td>\n",
              "      <td>0.015009</td>\n",
              "      <td>0.021583</td>\n",
              "      <td>0.982336</td>\n",
              "      <td>00:00</td>\n",
              "    </tr>\n",
              "    <tr>\n",
              "      <td>34</td>\n",
              "      <td>0.014862</td>\n",
              "      <td>0.021411</td>\n",
              "      <td>0.982336</td>\n",
              "      <td>00:00</td>\n",
              "    </tr>\n",
              "    <tr>\n",
              "      <td>35</td>\n",
              "      <td>0.014721</td>\n",
              "      <td>0.021249</td>\n",
              "      <td>0.982336</td>\n",
              "      <td>00:00</td>\n",
              "    </tr>\n",
              "    <tr>\n",
              "      <td>36</td>\n",
              "      <td>0.014586</td>\n",
              "      <td>0.021096</td>\n",
              "      <td>0.982826</td>\n",
              "      <td>00:00</td>\n",
              "    </tr>\n",
              "    <tr>\n",
              "      <td>37</td>\n",
              "      <td>0.014455</td>\n",
              "      <td>0.020952</td>\n",
              "      <td>0.982826</td>\n",
              "      <td>00:00</td>\n",
              "    </tr>\n",
              "    <tr>\n",
              "      <td>38</td>\n",
              "      <td>0.014330</td>\n",
              "      <td>0.020816</td>\n",
              "      <td>0.982826</td>\n",
              "      <td>00:00</td>\n",
              "    </tr>\n",
              "    <tr>\n",
              "      <td>39</td>\n",
              "      <td>0.014208</td>\n",
              "      <td>0.020687</td>\n",
              "      <td>0.982826</td>\n",
              "      <td>00:00</td>\n",
              "    </tr>\n",
              "  </tbody>\n",
              "</table>"
            ],
            "text/plain": [
              "<IPython.core.display.HTML object>"
            ]
          },
          "metadata": {}
        }
      ]
    },
    {
      "cell_type": "code",
      "metadata": {
        "colab": {
          "base_uri": "https://localhost:8080/",
          "height": 267
        },
        "id": "TJqPBC7FjHlA",
        "outputId": "9b70e8ed-1e74-410b-9fe5-9848e616d91e"
      },
      "source": [
        "plt.plot(L(learn.recorder.values).itemgot(2));"
      ],
      "execution_count": 124,
      "outputs": [
        {
          "output_type": "display_data",
          "data": {
            "image/png": "[encoded data removed]",
            "text/plain": [
              "<Figure size 432x288 with 1 Axes>"
            ]
          },
          "metadata": {
            "needs_background": "light"
          }
        }
      ]
    },
    {
      "cell_type": "code",
      "metadata": {
        "colab": {
          "base_uri": "https://localhost:8080/"
        },
        "id": "oppOq0QnjZS5",
        "outputId": "720c0f7c-7454-45cb-fa3f-da5c60997cfa"
      },
      "source": [
        "learn.recorder.values[-1][2]"
      ],
      "execution_count": 127,
      "outputs": [
        {
          "output_type": "execute_result",
          "data": {
            "text/plain": [
              "0.982826292514801"
            ]
          },
          "metadata": {},
          "execution_count": 127
        }
      ]
    },
    {
      "cell_type": "code",
      "metadata": {
        "id": "OPoKnNBjjjN5"
      },
      "source": [
        ""
      ],
      "execution_count": null,
      "outputs": []
    }
  ]
}