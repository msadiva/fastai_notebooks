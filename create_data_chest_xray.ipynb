{
 "cells": [
  {
   "cell_type": "code",
   "execution_count": 1,
   "id": "b47dff7b-261f-4413-997b-d2e7e88fb1dd",
   "metadata": {},
   "outputs": [
    {
     "name": "stdout",
     "output_type": "stream",
     "text": [
      "CPU times: user 6 µs, sys: 1 µs, total: 7 µs\n",
      "Wall time: 9.54 µs\n"
     ]
    }
   ],
   "source": [
    "%%time\n",
    "\n",
    "import os\n",
    "import shutil"
   ]
  },
  {
   "cell_type": "code",
   "execution_count": 2,
   "id": "c3ec111e-c885-4dfa-beea-14ccdda6a13d",
   "metadata": {},
   "outputs": [
    {
     "name": "stdout",
     "output_type": "stream",
     "text": [
      "CPU times: user 4.47 ms, sys: 95 µs, total: 4.56 ms\n",
      "Wall time: 2.71 ms\n"
     ]
    },
    {
     "data": {
      "text/plain": [
       "1341"
      ]
     },
     "execution_count": 2,
     "metadata": {},
     "output_type": "execute_result"
    }
   ],
   "source": [
    "%%time\n",
    "\n",
    "len(os.listdir(\"/home/chest_xray/train/NORMAL\"))"
   ]
  },
  {
   "cell_type": "code",
   "execution_count": 3,
   "id": "3eb43510-af8d-47b0-87da-2168fb9632c6",
   "metadata": {},
   "outputs": [
    {
     "name": "stdout",
     "output_type": "stream",
     "text": [
      "CPU times: user 7.47 ms, sys: 41 µs, total: 7.51 ms\n",
      "Wall time: 5.2 ms\n"
     ]
    },
    {
     "data": {
      "text/plain": [
       "3875"
      ]
     },
     "execution_count": 3,
     "metadata": {},
     "output_type": "execute_result"
    }
   ],
   "source": [
    "%%time\n",
    "\n",
    "len(os.listdir(\"/home/chest_xray/train/PNEUMONIA\"))"
   ]
  },
  {
   "cell_type": "code",
   "execution_count": 5,
   "id": "6a693979-d511-41d4-bb20-184f46418519",
   "metadata": {},
   "outputs": [
    {
     "name": "stdout",
     "output_type": "stream",
     "text": [
      "CPU times: user 49.3 ms, sys: 61.9 ms, total: 111 ms\n",
      "Wall time: 109 ms\n"
     ]
    }
   ],
   "source": [
    "%%time\n",
    "\n",
    "for i,j in zip([\"NORMAL\", \"PNEUMONIA\"], [\"normal\", \"pneumonia\"]) :\n",
    "    os.chdir(\"/home/chest_xray/train/{}\".format(i))\n",
    "    path = os.getcwd()\n",
    "    count = 0\n",
    "    for k in os.listdir() :\n",
    "        if count < 1200 :\n",
    "            if os.path.isdir(\"/home/subset_chest_xray/train/{}\".format(j)) :\n",
    "               move = f\"/home/subset_chest_xray/train/{j}/\"\n",
    "               shutil.move((path + \"/\" + str(k)), move)\n",
    "               count += 1\n",
    "            else :\n",
    "               dirr = f\"/home/subset_chest_xray/train/{j}/\"\n",
    "               os.mkdir(dirr)"
   ]
  },
  {
   "cell_type": "code",
   "execution_count": 6,
   "id": "d1b7ed65-089d-4b7b-a345-ade899322470",
   "metadata": {},
   "outputs": [
    {
     "name": "stdout",
     "output_type": "stream",
     "text": [
      "CPU times: user 4.31 ms, sys: 25 µs, total: 4.33 ms\n",
      "Wall time: 2.51 ms\n"
     ]
    },
    {
     "data": {
      "text/plain": [
       "1200"
      ]
     },
     "execution_count": 6,
     "metadata": {},
     "output_type": "execute_result"
    }
   ],
   "source": [
    "%%time\n",
    "\n",
    "len(os.listdir(\"/home/subset_chest_xray/train/normal\"))"
   ]
  },
  {
   "cell_type": "code",
   "execution_count": 7,
   "id": "3b0b379b-2daa-41f4-9bae-263483682fe0",
   "metadata": {},
   "outputs": [
    {
     "name": "stdout",
     "output_type": "stream",
     "text": [
      "CPU times: user 1.23 ms, sys: 3.53 ms, total: 4.76 ms\n",
      "Wall time: 2.72 ms\n"
     ]
    },
    {
     "data": {
      "text/plain": [
       "1200"
      ]
     },
     "execution_count": 7,
     "metadata": {},
     "output_type": "execute_result"
    }
   ],
   "source": [
    "%%time\n",
    "\n",
    "len(os.listdir(\"/home/subset_chest_xray/train/pneumonia\"))"
   ]
  },
  {
   "cell_type": "code",
   "execution_count": 8,
   "id": "4aae4a03-859c-45a7-b0cf-b71c9985a31d",
   "metadata": {},
   "outputs": [
    {
     "name": "stdout",
     "output_type": "stream",
     "text": [
      "CPU times: user 2.11 ms, sys: 3.76 ms, total: 5.86 ms\n",
      "Wall time: 3.49 ms\n"
     ]
    }
   ],
   "source": [
    "%%time\n",
    "\n",
    "for i,j in zip([\"NORMAL\", \"PNEUMONIA\"], [\"normal\", \"pneumonia\"]) :\n",
    "    os.chdir(\"/home/chest_xray/val/{}\".format(i))\n",
    "    path = os.getcwd()\n",
    "    count = 0\n",
    "    for k in os.listdir() :\n",
    "        if count < 1200 :\n",
    "            if os.path.isdir(\"/home/subset_chest_xray/val/{}\".format(j)) :\n",
    "               move = f\"/home/subset_chest_xray/val/{j}/\"\n",
    "               shutil.move((path + \"/\" + str(k)), move)\n",
    "               count += 1\n",
    "            else :\n",
    "               dirr = f\"/home/subset_chest_xray/val/{j}/\"\n",
    "               os.mkdir(dirr)"
   ]
  },
  {
   "cell_type": "code",
   "execution_count": 9,
   "id": "698bb5c9-6840-4641-a836-5a89a6dfe9ee",
   "metadata": {},
   "outputs": [
    {
     "name": "stdout",
     "output_type": "stream",
     "text": [
      "CPU times: user 0 ns, sys: 2.87 ms, total: 2.87 ms\n",
      "Wall time: 1.85 ms\n"
     ]
    },
    {
     "data": {
      "text/plain": [
       "8"
      ]
     },
     "execution_count": 9,
     "metadata": {},
     "output_type": "execute_result"
    }
   ],
   "source": [
    "%%time\n",
    "\n",
    "len(os.listdir(\"/home/subset_chest_xray/val/pneumonia\"))"
   ]
  },
  {
   "cell_type": "code",
   "execution_count": 10,
   "id": "f93b69f7-c56e-46bd-8415-71d3ac271b89",
   "metadata": {},
   "outputs": [
    {
     "name": "stdout",
     "output_type": "stream",
     "text": [
      "CPU times: user 2.8 ms, sys: 0 ns, total: 2.8 ms\n",
      "Wall time: 1.78 ms\n"
     ]
    },
    {
     "data": {
      "text/plain": [
       "8"
      ]
     },
     "execution_count": 10,
     "metadata": {},
     "output_type": "execute_result"
    }
   ],
   "source": [
    "%%time\n",
    "\n",
    "len(os.listdir(\"/home/subset_chest_xray/val/normal\"))"
   ]
  },
  {
   "cell_type": "code",
   "execution_count": 11,
   "id": "b54cd659-9fc2-4d4f-b1ea-d402da859370",
   "metadata": {},
   "outputs": [
    {
     "name": "stdout",
     "output_type": "stream",
     "text": [
      "CPU times: user 15.9 ms, sys: 20 ms, total: 35.9 ms\n",
      "Wall time: 33.7 ms\n"
     ]
    }
   ],
   "source": [
    "%%time\n",
    "\n",
    "for i,j in zip([\"NORMAL\", \"PNEUMONIA\"], [\"normal\", \"pneumonia\"]) :\n",
    "    os.chdir(\"/home/chest_xray/test/{}\".format(i))\n",
    "    path = os.getcwd()\n",
    "    count = 0\n",
    "    for k in os.listdir() :\n",
    "        if count < 1200 :\n",
    "            if os.path.isdir(\"/home/subset_chest_xray/val/{}\".format(j)) :\n",
    "               move = f\"/home/subset_chest_xray/val/{j}/\"\n",
    "               shutil.move((path + \"/\" + str(k)), move)\n",
    "               count += 1\n",
    "            else :\n",
    "               dirr = f\"/home/subset_chest_xray/val/{j}/\"\n",
    "               os.mkdir(dirr)"
   ]
  },
  {
   "cell_type": "code",
   "execution_count": 12,
   "id": "98a63be8-e921-4bd2-9514-af336af08012",
   "metadata": {},
   "outputs": [
    {
     "name": "stdout",
     "output_type": "stream",
     "text": [
      "CPU times: user 89 µs, sys: 3.19 ms, total: 3.28 ms\n",
      "Wall time: 1.93 ms\n"
     ]
    },
    {
     "data": {
      "text/plain": [
       "242"
      ]
     },
     "execution_count": 12,
     "metadata": {},
     "output_type": "execute_result"
    }
   ],
   "source": [
    "%%time\n",
    "\n",
    "len(os.listdir(\"/home/subset_chest_xray/val/normal\"))"
   ]
  },
  {
   "cell_type": "code",
   "execution_count": 13,
   "id": "9929594c-56b3-448c-958f-280ea67d4223",
   "metadata": {},
   "outputs": [
    {
     "name": "stdout",
     "output_type": "stream",
     "text": [
      "CPU times: user 2.73 ms, sys: 692 µs, total: 3.42 ms\n",
      "Wall time: 1.89 ms\n"
     ]
    },
    {
     "data": {
      "text/plain": [
       "398"
      ]
     },
     "execution_count": 13,
     "metadata": {},
     "output_type": "execute_result"
    }
   ],
   "source": [
    "%%time\n",
    "\n",
    "len(os.listdir(\"/home/subset_chest_xray/val/pneumonia\"))"
   ]
  },
  {
   "cell_type": "code",
   "execution_count": null,
   "id": "a21210c0-3364-4257-8879-913539eddb89",
   "metadata": {},
   "outputs": [],
   "source": []
  }
 ],
 "metadata": {
  "kernelspec": {
   "display_name": "Python 3 (ipykernel)",
   "language": "python",
   "name": "python3"
  },
  "language_info": {
   "codemirror_mode": {
    "name": "ipython",
    "version": 3
   },
   "file_extension": ".py",
   "mimetype": "text/x-python",
   "name": "python",
   "nbconvert_exporter": "python",
   "pygments_lexer": "ipython3",
   "version": "3.8.10"
  }
 },
 "nbformat": 4,
 "nbformat_minor": 5
}
